{
 "cells": [
  {
   "cell_type": "markdown",
   "metadata": {},
   "source": [
    "# Q1. Write a Python program to get the string from the given string where all #the occurrence of its first char has been changed to \"dollar\" except first character itself"
   ]
  },
  {
   "cell_type": "code",
   "execution_count": 16,
   "metadata": {},
   "outputs": [
    {
     "name": "stdout",
     "output_type": "stream",
     "text": [
      "Please enter the stringprospect\n",
      "The string after replacement is:  pros$ect\n"
     ]
    }
   ],
   "source": [
    "###Approach 1\n",
    "string=input('Please enter the string')\n",
    "firstletter=string[0]\n",
    "reststring=string[1:]\n",
    "result=firstletter+reststring.replace(firstletter,'$')\n",
    "print('The string after replacement is: ',result)"
   ]
  },
  {
   "cell_type": "code",
   "execution_count": 17,
   "metadata": {},
   "outputs": [
    {
     "name": "stdout",
     "output_type": "stream",
     "text": [
      "Please enter the stringprospect\n",
      "The string after replacement is pros$ect\n"
     ]
    }
   ],
   "source": [
    "###Approach 2\n",
    "string=input('Please enter the string')\n",
    "result=string[0]\n",
    "for i in string[1:]:\n",
    "    if i==string[0]:\n",
    "        i='$'\n",
    "    result=result+i\n",
    "print('The string after replacement is',''.join(result))"
   ]
  },
  {
   "cell_type": "markdown",
   "metadata": {},
   "source": [
    "# Q2. Write a Python program to get the single string from the two given strings, and separated by the space and swap the first two characters of each string?"
   ]
  },
  {
   "cell_type": "code",
   "execution_count": 1,
   "metadata": {},
   "outputs": [
    {
     "name": "stdout",
     "output_type": "stream",
     "text": [
      "Enter the first stringabc\n",
      "Enter the second stringxyz\n",
      "xyc abz\n"
     ]
    }
   ],
   "source": [
    "####Approach 1\n",
    "string1=input('Enter the first string')\n",
    "string2=input('Enter the second string')\n",
    "print(string1.replace(string1[0:2],string2[0:2])+\" \"+string2.replace(string2[0:2],string1[0:2]))"
   ]
  },
  {
   "cell_type": "code",
   "execution_count": 3,
   "metadata": {},
   "outputs": [
    {
     "name": "stdout",
     "output_type": "stream",
     "text": [
      "Enter first stringabc\n",
      "Enter second stringxyz\n",
      "xyc abz\n"
     ]
    }
   ],
   "source": [
    "###Approach 2\n",
    "a=input('Enter first string')\n",
    "b=input('Enter second string')\n",
    "c,d=a,b\n",
    "for i in range(0,2):\n",
    "    c=c.replace(a[i],b[i])\n",
    "    d=d.replace(b[i],a[i])\n",
    "   \n",
    "    \n",
    "print(c+\" \"+d)"
   ]
  },
  {
   "cell_type": "markdown",
   "metadata": {},
   "source": [
    "# Q3. Write the Python program to add 'ing' at the end of the given string (length of the string should be at least 3). If given string already ends with 'ing,' then add 'ly' instead. If string length of the given string is less than 3, leave it unchanged? \n"
   ]
  },
  {
   "cell_type": "code",
   "execution_count": 4,
   "metadata": {},
   "outputs": [
    {
     "name": "stdout",
     "output_type": "stream",
     "text": [
      "Enter the stringabc\n",
      "abcing\n"
     ]
    }
   ],
   "source": [
    "string=input('Enter the string')\n",
    "l=len(string)\n",
    "if(l<3):\n",
    "    string=string\n",
    "else:\n",
    "    if(string[len(string)-3:len(string)]=='ing'):\n",
    "        string=string+'ly'\n",
    "    else:\n",
    "        string=string+'ing'\n",
    "print(string)"
   ]
  },
  {
   "cell_type": "markdown",
   "metadata": {},
   "source": [
    "# Q4. Write the Python program to find the first appearance of the substring 'not' and 'poor' from the given string, if 'not' follows the 'poor', replace the whole 'not'...' poor' substring with 'good'.Return the resulting string."
   ]
  },
  {
   "cell_type": "code",
   "execution_count": 6,
   "metadata": {},
   "outputs": [
    {
     "name": "stdout",
     "output_type": "stream",
     "text": [
      "Enter the stringThe lyrics are not that poor\n",
      "The  lyrics  are  good  "
     ]
    }
   ],
   "source": [
    "s=input('Enter the string')\n",
    "index_not,index_poor=0,0\n",
    "l=s.split()\n",
    "if('not' in l):\n",
    "    index_not=l.index('not')\n",
    "if('poor' in l):\n",
    "    index_poor=l.index('poor')\n",
    "\n",
    "if('not' in l and 'poor' in l):\n",
    "    if(index_poor>index_not):\n",
    "        del l[index_not:index_poor+1]\n",
    "        l.insert(index_not,'good')\n",
    "for i in l:\n",
    "    print(i,' ',end='')"
   ]
  },
  {
   "cell_type": "markdown",
   "metadata": {},
   "source": [
    "# Q5. Write the Python program to remove the characters which have odd index values of a given string."
   ]
  },
  {
   "cell_type": "code",
   "execution_count": 15,
   "metadata": {},
   "outputs": [
    {
     "name": "stdout",
     "output_type": "stream",
     "text": [
      "Enter the stringhsgsshs\n",
      "hgss\n"
     ]
    }
   ],
   "source": [
    "string=input('Enter the string')\n",
    "result=''\n",
    "for i in range(0,len(string)):\n",
    "    if(i%2==0):\n",
    "        result=result+string[i]\n",
    "print(result)"
   ]
  },
  {
   "cell_type": "markdown",
   "metadata": {},
   "source": [
    "# Q6. Write the Python function to get a string made of 4 copies of the last two characters of the specified string (length must be at least 2)."
   ]
  },
  {
   "cell_type": "code",
   "execution_count": 7,
   "metadata": {},
   "outputs": [
    {
     "name": "stdout",
     "output_type": "stream",
     "text": [
      "Please enter a stringPython\n",
      "onononon\n"
     ]
    }
   ],
   "source": [
    "def return_string():\n",
    "    string=input('Please enter a string')\n",
    "    if(len(string)>=2):\n",
    "        result=string[len(string)-2:len(string)]*4\n",
    "    return result\n",
    "\n",
    "######Test the function\n",
    "print(return_string())"
   ]
  },
  {
   "cell_type": "markdown",
   "metadata": {},
   "source": [
    "# Q7. Write the python function to get a string made of its first three characters of a specified string. If the length of the string is less than 3 then return the original string."
   ]
  },
  {
   "cell_type": "code",
   "execution_count": 8,
   "metadata": {},
   "outputs": [
    {
     "name": "stdout",
     "output_type": "stream",
     "text": [
      "Enter a string:python\n"
     ]
    },
    {
     "data": {
      "text/plain": [
       "'pyt'"
      ]
     },
     "execution_count": 8,
     "metadata": {},
     "output_type": "execute_result"
    }
   ],
   "source": [
    "def return_first_three_chars():\n",
    "    string=input('Enter a string:')\n",
    "    if(len(string)<=3):\n",
    "        return string\n",
    "    else:\n",
    "        return string[0:3]\n",
    "    \n",
    "######Test the function\n",
    "return_first_three_chars()"
   ]
  },
  {
   "cell_type": "markdown",
   "metadata": {},
   "source": [
    "# Q8. Write the python program to print the following floating numbers up to 2 decimal places?"
   ]
  },
  {
   "cell_type": "code",
   "execution_count": 9,
   "metadata": {},
   "outputs": [
    {
     "name": "stdout",
     "output_type": "stream",
     "text": [
      "Enter a floating point number12.2334\n",
      "The floating number upto 2 decimal places is:  12.23\n"
     ]
    }
   ],
   "source": [
    "num=float(input('Enter a floating point number'))\n",
    "result=format(num,\".2f\")\n",
    "print('The floating number upto 2 decimal places is: ',result)"
   ]
  },
  {
   "cell_type": "markdown",
   "metadata": {},
   "source": [
    "# Q9. Write the Python program to format a number with a percentage?"
   ]
  },
  {
   "cell_type": "code",
   "execution_count": 10,
   "metadata": {},
   "outputs": [
    {
     "name": "stdout",
     "output_type": "stream",
     "text": [
      "Enter a number0.23\n",
      "The percentage of the number is:  23.00%\n"
     ]
    }
   ],
   "source": [
    "num=float(input('Enter a number'))\n",
    "result=format(num,\".2%\")\n",
    "print('The percentage of the number is: ',result)"
   ]
  },
  {
   "cell_type": "markdown",
   "metadata": {},
   "source": [
    "# Q10. Write the Python program to count occurrences of a substring in a String?"
   ]
  },
  {
   "cell_type": "code",
   "execution_count": 11,
   "metadata": {},
   "outputs": [
    {
     "name": "stdout",
     "output_type": "stream",
     "text": [
      "Enter the stringThe test\n",
      "Enter the substringte\n",
      "The count of \"te\" in \"The test\" is:  1\n"
     ]
    }
   ],
   "source": [
    "string=input('Enter the string')\n",
    "substring=input('Enter the substring')\n",
    "count=string.count(substring)\n",
    "print('The count of \"'+substring+'\" in \"'+string+'\" is: ',count)"
   ]
  },
  {
   "cell_type": "markdown",
   "metadata": {},
   "source": [
    "# Q11. Write the Python program to count repeated characters in a string."
   ]
  },
  {
   "cell_type": "code",
   "execution_count": 12,
   "metadata": {},
   "outputs": [
    {
     "name": "stdout",
     "output_type": "stream",
     "text": [
      "The occurance is of t is:  2\n",
      "The occurance is of h is:  2\n",
      "The occurance is of e is:  3\n",
      "The occurance is of u is:  2\n",
      "The occurance is of r is:  2\n",
      "The occurance is of o is:  3\n"
     ]
    }
   ],
   "source": [
    "####Considering the string given in the example\n",
    "string='thequickbrownjumpsoverthelazydog'\n",
    "map={}\n",
    "for i in string:\n",
    "    if(len(string)>0):\n",
    "        letter=string[0]\n",
    "        count=string.count(letter)\n",
    "        if(count>1):\n",
    "            map[letter]=count\n",
    "        string=string.replace(letter,'')\n",
    "for i in map:\n",
    "    print('The occurance is of '+i+' is: ',map[i])"
   ]
  },
  {
   "cell_type": "code",
   "execution_count": 13,
   "metadata": {},
   "outputs": [
    {
     "name": "stdout",
     "output_type": "stream",
     "text": [
      "Enter the stringTry it now the test\n",
      "The occurance is of t is:  4\n",
      "The occurance is of e is:  2\n"
     ]
    }
   ],
   "source": [
    "#####If user input is taken\n",
    "string=input('Enter the string')\n",
    "map={}\n",
    "for i in string:\n",
    "    if(len(string)>0):\n",
    "        letter=string[0]\n",
    "        if(not letter.isspace()):\n",
    "            count=string.count(letter)\n",
    "            if(count>1):\n",
    "                map[letter]=count\n",
    "        string=string.replace(letter,'')\n",
    "for i in map:\n",
    "    print('The occurance is of '+i+' is: ',map[i])"
   ]
  },
  {
   "cell_type": "markdown",
   "metadata": {},
   "source": [
    "# Q12. Write the Python program to print the square and cube symbol in the area of a rectangle and volume of a cylinder?"
   ]
  },
  {
   "cell_type": "code",
   "execution_count": 14,
   "metadata": {},
   "outputs": [
    {
     "name": "stdout",
     "output_type": "stream",
     "text": [
      "The area of the rectangle is 1256.66 cm²\n",
      "The volume of the cylinder is 1254.725 cm³\n"
     ]
    }
   ],
   "source": [
    "print('The area of the rectangle is 1256.66 cm\\u00b2')\n",
    "print('The volume of the cylinder is 1254.725 cm\\u00b3')"
   ]
  },
  {
   "cell_type": "markdown",
   "metadata": {},
   "source": [
    "# Q13. Write the Python program to check if a string contains all letters of the alphabet?"
   ]
  },
  {
   "cell_type": "code",
   "execution_count": 15,
   "metadata": {},
   "outputs": [
    {
     "name": "stdout",
     "output_type": "stream",
     "text": [
      "Enter the word to check the presence of all alphabetThe lazy dog\n",
      "{' ', 'z', 'T', 'l', 'a', 'y', 'e', 'h', 'g', 'o', 'd'}\n",
      "The word does not contain all the letters of english alphabet\n"
     ]
    }
   ],
   "source": [
    "import string\n",
    "alphabet = set(string.ascii_lowercase)\n",
    "word=input('Enter the word to check the presence of all alphabet')\n",
    "print(set(word))\n",
    "if(set(word)>=alphabet):\n",
    "    print('The word contains all the letters of english alphabet')\n",
    "else:\n",
    "    print('The word does not contain all the letters of english alphabet')"
   ]
  },
  {
   "cell_type": "markdown",
   "metadata": {},
   "source": [
    "# Q14. Write the Python program to find the second most repeated word in a given string?"
   ]
  },
  {
   "cell_type": "code",
   "execution_count": 29,
   "metadata": {},
   "outputs": [
    {
     "name": "stdout",
     "output_type": "stream",
     "text": [
      "Enter the stringThis This This This This is is is the the word\n",
      "The second most occuring item is:  is\n"
     ]
    }
   ],
   "source": [
    "string= input('Enter the string')\n",
    "lst=string.split()\n",
    "map={}\n",
    "for i in lst:\n",
    "    if(len(lst)>0):\n",
    "        count=lst.count(i)\n",
    "        map[i]=count\n",
    "        for j in lst:\n",
    "            if j==i:\n",
    "                del j\n",
    "\n",
    "value = sorted(map.values(), reverse=True) \n",
    "second_highest=value[1]\n",
    "for x in map:\n",
    "    if(map[x]==second_highest):\n",
    "        print('The second most occuring item is: ',x)"
   ]
  },
  {
   "cell_type": "markdown",
   "metadata": {},
   "source": [
    "# Q15. Write the Python program to find the minimum window in the given string, which will contains all the characters of another given strings?"
   ]
  },
  {
   "cell_type": "code",
   "execution_count": 16,
   "metadata": {},
   "outputs": [
    {
     "name": "stdout",
     "output_type": "stream",
     "text": [
      "Input:\n",
      " PRWSOERIUSFK \n",
      " OSU\n",
      "Minimum window:\n",
      "OERIUS\n"
     ]
    }
   ],
   "source": [
    "import collections\n",
    "def minimum_window(string1, string2):\n",
    "    result_char, missing_char = collections.Counter(string2), len(string2)\n",
    "    i = p = q = 0\n",
    "    for j, c in enumerate(string1, 1):\n",
    "        missing_char -= result_char[c] > 0\n",
    "        result_char[c] -= 1\n",
    "        if not missing_char:\n",
    "            while i < q and result_char[string1[i]] < 0:\n",
    "                result_char[string1[i]] += 1\n",
    "                i += 1\n",
    "            if not q or j - i <= q - p:\n",
    "                p, q = i, j\n",
    "    return string1[p:q]\n",
    "           \n",
    "string1 = \"PRWSOERIUSFK\"\n",
    "string2 = \"OSU\"\n",
    "print(\"Input:\\n\",string1,\"\\n\",string2)\n",
    "print(\"Minimum window:\")\n",
    "print(minimum_window(string1,string2))"
   ]
  },
  {
   "cell_type": "markdown",
   "metadata": {},
   "source": [
    "# Q16. Write the Python program to find smallest window that contains all characters of the given string?"
   ]
  },
  {
   "cell_type": "code",
   "execution_count": 17,
   "metadata": {},
   "outputs": [
    {
     "name": "stdout",
     "output_type": "stream",
     "text": [
      "Original Strings:\n",
      " asdaewsqgtwwsa\n",
      "\n",
      "Smallest window that contains all characters of the said string:\n",
      "daewsqgt\n"
     ]
    }
   ],
   "source": [
    "from collections import defaultdict   \n",
    "\n",
    "def get_sub_string(string): \n",
    "    string_length = len(string) \n",
    "      \n",
    "    dist_count_char = len(set([x for x in string])) \n",
    "  \n",
    "    ctr, start_pos, start_pos_index, min_len = 0, 0, -1, 9999999999\n",
    "    curr_count = defaultdict(lambda: 0) \n",
    "    for i in range(string_length): \n",
    "        curr_count[string[i]] += 1\n",
    " \n",
    "        if curr_count[string[i]] == 1: \n",
    "            ctr += 1\n",
    "  \n",
    "        if ctr == dist_count_char: \n",
    "            while curr_count[string[start_pos]] > 1: \n",
    "                if curr_count[string[start_pos]] > 1: \n",
    "                    curr_count[string[start_pos]] -= 1\n",
    "                start_pos += 1\n",
    "  \n",
    "            len_window = i - start_pos + 1\n",
    "            if min_len > len_window: \n",
    "                min_len = len_window \n",
    "                start_pos_index = start_pos \n",
    "    return string[start_pos_index: start_pos_index + min_len] \n",
    "      \n",
    "str1 = \"asdaewsqgtwwsa\"\n",
    "print(\"Original Strings:\\n\",str1)\n",
    "print(\"\\nSmallest window that contains all characters of the said string:\")\n",
    "print(get_sub_string(str1))"
   ]
  },
  {
   "cell_type": "markdown",
   "metadata": {},
   "source": [
    "# Q17. Write the Python program to count number of substrings from a given string of lowercase alphabets with exactly k distinct (given) characters?"
   ]
  },
  {
   "cell_type": "code",
   "execution_count": 18,
   "metadata": {},
   "outputs": [
    {
     "name": "stdout",
     "output_type": "stream",
     "text": [
      "Input a string (lowercase alphabets):wolf\n",
      "Input k: 2\n",
      "Number of substrings with exactly 2 distinct characters : 3\n"
     ]
    }
   ],
   "source": [
    "def count_k_dist(string1, k): \n",
    "    string_len = len(string1) \n",
    "\n",
    "    result = 0\n",
    "\n",
    "    counter = [0] * 27\n",
    "\n",
    "    for i in range(0, string_len): \n",
    "        dist_counter = 0\n",
    "\n",
    "        counter = [0] * 27\n",
    "\n",
    "        for j in range(i, string_len): \n",
    "            \n",
    "            if(counter[ord(string1[j]) - 97] == 0): \n",
    "                dist_counter += 1\n",
    "\n",
    "            counter[ord(string1[j]) - 97] += 1\n",
    "\n",
    "            if(dist_counter == k): \n",
    "                result += 1\n",
    "            if(dist_counter > k): \n",
    "                break\n",
    "\n",
    "    return result \n",
    "\n",
    "str1 = input(\"Input a string (lowercase alphabets):\")\n",
    "k = int(input(\"Input k: \"))\n",
    "print(\"Number of substrings with exactly\", k, \"distinct characters : \", end = \"\") \n",
    "print(count_k_dist(str1, k))"
   ]
  },
  {
   "cell_type": "markdown",
   "metadata": {},
   "source": [
    "# Q18. Write the Python program to count number of non-empty substrings of the given string?"
   ]
  },
  {
   "cell_type": "code",
   "execution_count": 19,
   "metadata": {},
   "outputs": [
    {
     "name": "stdout",
     "output_type": "stream",
     "text": [
      "Enter a string: w3resource\n",
      "Number of substrings:\n",
      "55\n"
     ]
    }
   ],
   "source": [
    "def number_of_substrings(string): \n",
    "    string_len = len(string); \n",
    "    return int(string_len * (string_len + 1) / 2); \n",
    "\n",
    "string = input(\"Enter a string: \")\n",
    "print(\"Number of substrings:\") \n",
    "print(number_of_substrings(string))"
   ]
  },
  {
   "cell_type": "markdown",
   "metadata": {},
   "source": [
    "# Q19. Write the Python program to count number of substrings with same first and last characters of the given string?"
   ]
  },
  {
   "cell_type": "code",
   "execution_count": 20,
   "metadata": {},
   "outputs": [
    {
     "name": "stdout",
     "output_type": "stream",
     "text": [
      "Enter a string: abcd\n",
      "4\n"
     ]
    }
   ],
   "source": [
    "def substring_num_same_firstlast(str1): \n",
    "    result = 0; \n",
    "    length = len(str1); \n",
    "    for i in range(length): \n",
    "        for j in range(i, length): \n",
    "            if (str1[i] == str1[j]): \n",
    "                result = result + 1\n",
    "    return result \n",
    "str1 = input(\"Enter a string: \")\n",
    "print(substring_num_same_firstlast(str1))"
   ]
  },
  {
   "cell_type": "markdown",
   "metadata": {},
   "source": [
    "# Q20. Write the Python program to count the number of strings where the string length is 2 or more, and first and last character are same from a given list of strings."
   ]
  },
  {
   "cell_type": "code",
   "execution_count": 21,
   "metadata": {},
   "outputs": [
    {
     "name": "stdout",
     "output_type": "stream",
     "text": [
      "The required number of such string in the list is:  2\n"
     ]
    }
   ],
   "source": [
    "lst=['abc', 'xyz', 'wxw', '1331']\n",
    "count=0\n",
    "for i in lst:\n",
    "    if(len(i)>2 and i[0]==i[-1]):\n",
    "        count+=1\n",
    "print('The required number of such string in the list is: ',count)"
   ]
  },
  {
   "cell_type": "markdown",
   "metadata": {},
   "source": [
    "# Q21. Write the Python program to get a list, sorted in increasing order by   the last element in each tuple from the given list of non-empty   tuples? \n",
    "#Sample List: [(2, 5),(1, 2),(4, 4),(2, 3),(2, 1)]\n",
    "#Expected List: [(2, 1), (1, 2), (2, 3), (4, 4), (2, 5)]"
   ]
  },
  {
   "cell_type": "code",
   "execution_count": 22,
   "metadata": {},
   "outputs": [
    {
     "data": {
      "text/plain": [
       "[(2, 1), (1, 2), (2, 3), (4, 4), (2, 5)]"
      ]
     },
     "execution_count": 22,
     "metadata": {},
     "output_type": "execute_result"
    }
   ],
   "source": [
    "#Approach 1: Using sorted method\n",
    "tup=[(2, 5),(1, 2),(4, 4),(2, 3),(2, 1)]\n",
    "lst=sorted(tup,key=lambda x:x[1])\n",
    "lst"
   ]
  },
  {
   "cell_type": "code",
   "execution_count": 23,
   "metadata": {},
   "outputs": [
    {
     "data": {
      "text/plain": [
       "[(2, 1), (1, 2), (2, 3), (4, 4), (2, 5)]"
      ]
     },
     "execution_count": 23,
     "metadata": {},
     "output_type": "execute_result"
    }
   ],
   "source": [
    "#Approach 2: Using bubble sorting\n",
    "tup=[(2, 5),(1, 2),(4, 4),(2, 3),(2, 1)]\n",
    "lth=len(tup)\n",
    "for i in range(0,lth):\n",
    "    for j in range(0,lth-i-1):\n",
    "        if(tup[j][1]>tup[j+1][1]):\n",
    "            temp=tup[j]\n",
    "            tup[j]=tup[j+1]\n",
    "            tup[j+1]=temp\n",
    "tup"
   ]
  },
  {
   "cell_type": "markdown",
   "metadata": {},
   "source": [
    "# Q22. Write the Python program to remove duplicates from a list? "
   ]
  },
  {
   "cell_type": "code",
   "execution_count": 24,
   "metadata": {},
   "outputs": [
    {
     "data": {
      "text/plain": [
       "[0, 1, 2, 3, 4, 5, 6, 7, 8, 9]"
      ]
     },
     "execution_count": 24,
     "metadata": {},
     "output_type": "execute_result"
    }
   ],
   "source": [
    "#Approach 1: Using set method\n",
    "lst=[1,1,2,2,3,3,3,4,5,6,7,7,8,8,9,0,0]\n",
    "lst_no_duplicate=set(lst)\n",
    "list(lst_no_duplicate)"
   ]
  },
  {
   "cell_type": "code",
   "execution_count": 25,
   "metadata": {},
   "outputs": [
    {
     "data": {
      "text/plain": [
       "[1, 2, 3, 4, 5, 6, 7, 8, 9, 0]"
      ]
     },
     "execution_count": 25,
     "metadata": {},
     "output_type": "execute_result"
    }
   ],
   "source": [
    "#Approach 2:Using for loop and own logic\n",
    "lst=[1,1,2,2,3,3,3,4,5,6,7,7,8,8,9,0,0]\n",
    "newlst=[]\n",
    "for i in range(0,len(lst)):\n",
    "    compare=lst[i]\n",
    "    if(lst[i] not in newlst):\n",
    "        newlst.append(lst[i])\n",
    "newlst"
   ]
  },
  {
   "cell_type": "markdown",
   "metadata": {},
   "source": [
    "# Q23. Write the Python program to find the list of words that are longer   than n from a given list of words? "
   ]
  },
  {
   "cell_type": "code",
   "execution_count": 26,
   "metadata": {},
   "outputs": [
    {
     "data": {
      "text/plain": [
       "['Test', 'False', 'True']"
      ]
     },
     "execution_count": 26,
     "metadata": {},
     "output_type": "execute_result"
    }
   ],
   "source": [
    "def find_list_of_larger_words(lst,num):\n",
    "    newlst=[]\n",
    "    for i in range(0,len(lst)):\n",
    "        if(len(lst[i])>num):\n",
    "            newlst.append(lst[i])\n",
    "    return newlst\n",
    "test_list=['Test','False','True','One']\n",
    "find_list_of_larger_words(test_list,3)"
   ]
  },
  {
   "cell_type": "markdown",
   "metadata": {},
   "source": [
    "# Q24. Write the Python program to print a specified list after removing the  0th, 4th, and 5th elements?\n",
    "\n",
    "#Sample List - ['Red', 'Green', 'White', 'Black', 'Pink', 'Yellow'] \n",
    "#Expected Output - ['Green', 'White', 'Black'] "
   ]
  },
  {
   "cell_type": "code",
   "execution_count": 27,
   "metadata": {},
   "outputs": [
    {
     "name": "stdout",
     "output_type": "stream",
     "text": [
      "The expected list is:  ['Green', 'White', 'Black']\n"
     ]
    }
   ],
   "source": [
    "lst=['Red', 'Green', 'White', 'Black', 'Pink', 'Yellow']\n",
    "newlst=[]\n",
    "for i in lst:\n",
    "    if(lst.index(i) in [0,4,5]):\n",
    "        pass\n",
    "    else:\n",
    "        newlst.append(i)\n",
    "        \n",
    "print('The expected list is: ',newlst)"
   ]
  },
  {
   "cell_type": "markdown",
   "metadata": {},
   "source": [
    "# Q25. Write the Python program to generate all permutations of a list in   Python? "
   ]
  },
  {
   "cell_type": "code",
   "execution_count": 28,
   "metadata": {},
   "outputs": [
    {
     "name": "stdout",
     "output_type": "stream",
     "text": [
      "[(1, 2, 3), (1, 3, 2), (2, 1, 3), (2, 3, 1), (3, 1, 2), (3, 2, 1)]\n"
     ]
    }
   ],
   "source": [
    "import itertools\n",
    "print(list(itertools.permutations([1,2,3])))"
   ]
  },
  {
   "cell_type": "code",
   "execution_count": 29,
   "metadata": {},
   "outputs": [
    {
     "name": "stdout",
     "output_type": "stream",
     "text": [
      "['1', '2', '3']\n",
      "['1', '3', '2']\n",
      "['2', '1', '3']\n",
      "['2', '3', '1']\n",
      "['3', '1', '2']\n",
      "['3', '2', '1']\n"
     ]
    }
   ],
   "source": [
    "#Approach 2\n",
    "def permutation(lst):\n",
    "    if(len(lst)==0):\n",
    "        return []\n",
    "    elif(len(lst)==1):\n",
    "        return [lst]\n",
    "    else:\n",
    "        l=[]\n",
    "        for i in range(len(lst)):\n",
    "            x=lst[i]\n",
    "            xs=lst[:i]+lst[i+1:]\n",
    "            for p in permutation(xs):\n",
    "                l.append([x]+p)\n",
    "        return l\n",
    "\n",
    "data=list('123')\n",
    "for p in permutation(data):\n",
    "    print(p)"
   ]
  },
  {
   "cell_type": "markdown",
   "metadata": {},
   "source": [
    "# Q26. Write the Python program to convert a pair of values into a sorted   unique array? \n",
    "#Original List-  [ (1, 2), (3, 4), (1, 2), (5, 6), (7, 8), (1, 2), (3, 4), (3, 4), (7, 8), (9, 10) ]\n",
    "#Sorted Unique Data- [ 1, 2, 3, 4, 5, 6, 7, 8, 9, 10 ]   "
   ]
  },
  {
   "cell_type": "code",
   "execution_count": 30,
   "metadata": {},
   "outputs": [
    {
     "name": "stdout",
     "output_type": "stream",
     "text": [
      "Sorted Unique Data:-  [1, 2, 3, 4, 5, 6, 7, 8, 9, 10]\n"
     ]
    }
   ],
   "source": [
    "orig_list=[ (1, 2), (3, 4), (1, 2), (5, 6), (7, 8), (1, 2), (3, 4), (3, 4), (7, 8), (9, 10) ]\n",
    "new_lst=[]\n",
    "for i in orig_list:\n",
    "    for j in i:\n",
    "        new_lst.append(j)\n",
    "print('Sorted Unique Data:- ',list(set(new_lst)))"
   ]
  },
  {
   "cell_type": "markdown",
   "metadata": {},
   "source": [
    "# Q27. Write the Python class to convert an integer to a roman numeral?"
   ]
  },
  {
   "cell_type": "code",
   "execution_count": 40,
   "metadata": {},
   "outputs": [
    {
     "name": "stdout",
     "output_type": "stream",
     "text": [
      "I\n",
      "MMMM\n"
     ]
    }
   ],
   "source": [
    "class Roman:\n",
    "    def int_to_Roman(self, num):\n",
    "        value = [1000, 900, 500, 400,100, 90, 50, 40,10, 9, 5, 4,1]\n",
    "        symbol = [\"M\", \"CM\", \"D\", \"CD\",\"C\", \"XC\", \"L\", \"XL\",\"X\", \"IX\", \"V\", \"IV\",\"I\"]\n",
    "        result = ''\n",
    "        i = 0\n",
    "        while  num > 0:\n",
    "            for j in range(num // value[i]):\n",
    "                result += symbol[i]\n",
    "                num -= value[i]\n",
    "            i += 1\n",
    "        return result\n",
    "\n",
    "\n",
    "print(Roman().int_to_Roman(1))\n",
    "print(Roman().int_to_Roman(4000))"
   ]
  },
  {
   "cell_type": "markdown",
   "metadata": {},
   "source": [
    "# Q28 Write the Python class to convert a Roman numeral to an integer?"
   ]
  },
  {
   "cell_type": "code",
   "execution_count": 41,
   "metadata": {},
   "outputs": [
    {
     "name": "stdout",
     "output_type": "stream",
     "text": [
      "3986\n",
      "4000\n",
      "100\n"
     ]
    }
   ],
   "source": [
    "class Integer:\n",
    "    def roman_to_int(self, s):\n",
    "        rom_val = {'I': 1, 'V': 5, 'X': 10, 'L': 50, 'C': 100, 'D': 500, 'M': 1000}\n",
    "        int_val = 0\n",
    "        for i in range(len(s)):\n",
    "            if i > 0 and rom_val[s[i]] > rom_val[s[i - 1]]:\n",
    "                int_val += rom_val[s[i]] - 2 * rom_val[s[i - 1]]\n",
    "            else:\n",
    "                int_val += rom_val[s[i]]\n",
    "        return int_val\n",
    "\n",
    "print(Integer().roman_to_int('MMMCMLXXXVI'))\n",
    "print(Integer().roman_to_int('MMMM'))\n",
    "print(Integer().roman_to_int('C'))"
   ]
  },
  {
   "cell_type": "markdown",
   "metadata": {},
   "source": [
    "# Q29. Write the Python class to find the validity of the string of the parentheses, '(', ')', '{', '}', '[' and '] and the brackets must be closed in the correct order,example - \"()\" and \"()[]{}\" are valid but \"[)\", \"({[)]\" and \"{{{\" are invalid."
   ]
  },
  {
   "cell_type": "code",
   "execution_count": 2,
   "metadata": {},
   "outputs": [
    {
     "name": "stdout",
     "output_type": "stream",
     "text": [
      "True\n",
      "True\n",
      "False\n",
      "False\n",
      "False\n"
     ]
    }
   ],
   "source": [
    "class py_solution:\n",
    "   def is_valid_parenthese(self, str1):\n",
    "        stack, pchar = [], {\"(\": \")\", \"{\": \"}\", \"[\": \"]\"}\n",
    "        for parenthese in str1:\n",
    "            if parenthese in pchar:\n",
    "                stack.append(parenthese)\n",
    "            elif len(stack) == 0 or pchar[stack.pop()] != parenthese:\n",
    "                return False\n",
    "        return len(stack) == 0\n",
    "\n",
    "print(py_solution().is_valid_parenthese(\"()\"))\n",
    "print(py_solution().is_valid_parenthese(\"()[]{}\"))\n",
    "print(py_solution().is_valid_parenthese(\"[)\"))\n",
    "print(py_solution().is_valid_parenthese(\"({[)]\"))\n",
    "print(py_solution().is_valid_parenthese(\"{{{\"))"
   ]
  },
  {
   "cell_type": "markdown",
   "metadata": {},
   "source": [
    "# Q30. Write the Python class to get all possible unique subsets from a set of distinct integers?"
   ]
  },
  {
   "cell_type": "code",
   "execution_count": 3,
   "metadata": {},
   "outputs": [
    {
     "name": "stdout",
     "output_type": "stream",
     "text": [
      "[[], [6], [5], [5, 6], [4], [4, 6], [4, 5], [4, 5, 6]]\n"
     ]
    }
   ],
   "source": [
    "class py_solution:\n",
    "    def sub_sets(self, sset):\n",
    "        return self.subsetsRecur([], sorted(sset))\n",
    "    \n",
    "    def subsetsRecur(self, current, sset):\n",
    "        if sset:\n",
    "            return self.subsetsRecur(current, sset[1:]) + self.subsetsRecur(current + [sset[0]], sset[1:])\n",
    "        return [current]\n",
    "\n",
    "print(py_solution().sub_sets([4,5,6]))"
   ]
  },
  {
   "cell_type": "markdown",
   "metadata": {},
   "source": [
    "# Q31. Write the Python class to find a pair of elements (indices of the two numbers) from a given array whose sum equals the specific target number?"
   ]
  },
  {
   "cell_type": "code",
   "execution_count": 4,
   "metadata": {},
   "outputs": [
    {
     "name": "stdout",
     "output_type": "stream",
     "text": [
      "index1=2, index2=3\n"
     ]
    }
   ],
   "source": [
    "class py_solution:\n",
    "   def twoSum(self, nums, target):\n",
    "        lookup = {}\n",
    "        for i, num in enumerate(nums):\n",
    "            if target - num in lookup:\n",
    "                return (lookup[target - num], i )\n",
    "            lookup[num] = i\n",
    "print(\"index1=%d, index2=%d\" % py_solution().twoSum((10,20,10,40,50,60,70),50))"
   ]
  },
  {
   "cell_type": "markdown",
   "metadata": {},
   "source": [
    "# Q32. Write the Python class to find the three elements that sum to zero from the set of n real numbers?"
   ]
  },
  {
   "cell_type": "code",
   "execution_count": 5,
   "metadata": {},
   "outputs": [
    {
     "name": "stdout",
     "output_type": "stream",
     "text": [
      "[[-10, 2, 8], [-7, -3, 10]]\n"
     ]
    }
   ],
   "source": [
    "class py_solution:\n",
    "    def threeSum(self, nums):\n",
    "        nums, result, i = sorted(nums), [], 0\n",
    "        while i < len(nums) - 2:\n",
    "            j, k = i + 1, len(nums) - 1\n",
    "            while j < k:\n",
    "                if nums[i] + nums[j] + nums[k] < 0:\n",
    "                    j += 1\n",
    "                elif nums[i] + nums[j] + nums[k] > 0:\n",
    "                    k -= 1\n",
    "                else:\n",
    "                    result.append([nums[i], nums[j], nums[k]])\n",
    "                    j, k = j + 1, k - 1\n",
    "                    while j < k and nums[j] == nums[j - 1]:\n",
    "                        j += 1\n",
    "                    while j < k and nums[k] == nums[k + 1]:\n",
    "                        k -= 1\n",
    "            i += 1\n",
    "            while i < len(nums) - 2 and nums[i] == nums[i - 1]:\n",
    "                i += 1\n",
    "        return result\n",
    "\n",
    "print(py_solution().threeSum([-25, -10, -7, -3, 2, 4, 8, 10]))"
   ]
  },
  {
   "cell_type": "markdown",
   "metadata": {},
   "source": [
    "# Q33. Write the Python class to implement pow(x, n)? "
   ]
  },
  {
   "cell_type": "code",
   "execution_count": 1,
   "metadata": {},
   "outputs": [
    {
     "data": {
      "text/plain": [
       "0.28867513459481287"
      ]
     },
     "execution_count": 1,
     "metadata": {},
     "output_type": "execute_result"
    }
   ],
   "source": [
    "########Approach 1###########################\n",
    "class Power:\n",
    "    def __init__(self,x,n):\n",
    "        self.x=x\n",
    "        self.n=n\n",
    "        \n",
    "    def pow(self,x,n):\n",
    "        return x**n\n",
    "    \n",
    "p=Power(50,2)\n",
    "p.pow(10,2)"
   ]
  },
  {
   "cell_type": "code",
   "execution_count": 7,
   "metadata": {},
   "outputs": [
    {
     "name": "stdout",
     "output_type": "stream",
     "text": [
      "0.125\n",
      "243\n",
      "1\n"
     ]
    }
   ],
   "source": [
    "#########Approach 2############################\n",
    "class Power:\n",
    "    def pow(self, num, power):\n",
    "        if num==0 or num==1 or power==1:\n",
    "            return num \n",
    "\n",
    "        if num==-1:\n",
    "            if power%2 ==0:\n",
    "                return 1\n",
    "            else:\n",
    "                return -1\n",
    "        if power==0:\n",
    "            return 1\n",
    "        if power<0:\n",
    "            return 1/self.pow(num,-power)\n",
    "        val = self.pow(num,power//2)\n",
    "        if power%2 ==0:\n",
    "            return val*val\n",
    "        return val*val*num\n",
    "\n",
    "print(Power().pow(2, -3));\n",
    "print(Power().pow(3, 5));\n",
    "print(Power().pow(100, 0));"
   ]
  },
  {
   "cell_type": "markdown",
   "metadata": {},
   "source": [
    "# Q34. Write the Python class which has two methods get_String and print_String. get_String accept the string from the user and print_String print the string in upper case."
   ]
  },
  {
   "cell_type": "code",
   "execution_count": 42,
   "metadata": {},
   "outputs": [
    {
     "name": "stdout",
     "output_type": "stream",
     "text": [
      "Enter the stringtreadf\n",
      "TREADF\n"
     ]
    }
   ],
   "source": [
    "class get_and_set:\n",
    "    def __init__(self):\n",
    "        self.string=\"\"\n",
    "        \n",
    "    def get_String(self):\n",
    "        self.string=input('Enter the string')\n",
    "        \n",
    "    def print_String(self):\n",
    "        print(self.string.upper())\n",
    "        \n",
    "gs=get_and_set()\n",
    "gs.get_String()\n",
    "gs.print_String()"
   ]
  },
  {
   "cell_type": "markdown",
   "metadata": {},
   "source": [
    "# Q35. Write the Python class named Rectangle constructed by a length and width and the method which will compute the area of the rectangle?"
   ]
  },
  {
   "cell_type": "code",
   "execution_count": 43,
   "metadata": {},
   "outputs": [
    {
     "name": "stdout",
     "output_type": "stream",
     "text": [
      "Enter the length12\n",
      "Enter the breadth13\n",
      "The area of the rectangle is: 156.0\n"
     ]
    }
   ],
   "source": [
    "class Rectangle:\n",
    "    def __init__(self,length,breadth):\n",
    "        self.length=length\n",
    "        self.breadth=breadth\n",
    "        \n",
    "    def area_of_rectangle(self):\n",
    "        return self.length*self.breadth\n",
    "    \n",
    "a=float(input('Enter the length'))\n",
    "b=float(input('Enter the breadth'))\n",
    "rect=Rectangle(a,b)\n",
    "print('The area of the rectangle is:',rect.area_of_rectangle())"
   ]
  },
  {
   "cell_type": "markdown",
   "metadata": {},
   "source": [
    "# Q36. Write the Python class named Circle constructed by the radius and two methods which will compute the area and perimeter of the circle?"
   ]
  },
  {
   "cell_type": "code",
   "execution_count": 44,
   "metadata": {},
   "outputs": [
    {
     "name": "stdout",
     "output_type": "stream",
     "text": [
      "Enter the radius45\n",
      "The area of the circle is 6361.725123519331\n",
      "The perimeter of the circle is 282.7433388230814\n"
     ]
    }
   ],
   "source": [
    "from math import pi\n",
    "class Circle:\n",
    "    def __init__(self):\n",
    "        self.radius=float(input('Enter the radius'))\n",
    "        \n",
    "    def area_of_circle(self):\n",
    "        return pi*self.radius**2\n",
    "    \n",
    "    def perimeter_of_circle(self):\n",
    "        return 2*pi*self.radius\n",
    "        \n",
    "c=Circle()\n",
    "print('The area of the circle is',c.area_of_circle())\n",
    "print('The perimeter of the circle is',c.perimeter_of_circle())"
   ]
  },
  {
   "cell_type": "markdown",
   "metadata": {},
   "source": [
    "# Q37. Write the Python program to get the class name of an instance in Python?"
   ]
  },
  {
   "cell_type": "code",
   "execution_count": 45,
   "metadata": {},
   "outputs": [
    {
     "name": "stdout",
     "output_type": "stream",
     "text": [
      "Test\n"
     ]
    }
   ],
   "source": [
    "class Test:\n",
    "    pass\n",
    "\n",
    "t=Test()\n",
    "print(type(t).__name__)"
   ]
  },
  {
   "cell_type": "markdown",
   "metadata": {},
   "source": [
    "# Q38. Write the Python program to count the number of students of individual class?"
   ]
  },
  {
   "cell_type": "code",
   "execution_count": 46,
   "metadata": {},
   "outputs": [
    {
     "name": "stdout",
     "output_type": "stream",
     "text": [
      "Counter({'VI': 3, 'V': 2, 'VII': 1})\n"
     ]
    }
   ],
   "source": [
    "from collections import Counter\n",
    "classes = ( ('V', 1), ('VI', 1), ('V', 2), ('VI', 2), ('VI', 3), ('VII', 1), )\n",
    "count=Counter(class_name for class_name,student_name in classes)\n",
    "print(count)"
   ]
  },
  {
   "cell_type": "markdown",
   "metadata": {},
   "source": [
    "# Q39. Write the Python program to create an instance of an OrderedDict using the given dictionary and sort dictionary during the creation and print members of the dictionary in reverse order?"
   ]
  },
  {
   "cell_type": "code",
   "execution_count": 47,
   "metadata": {},
   "outputs": [
    {
     "name": "stdout",
     "output_type": "stream",
     "text": [
      "Angola 244\n",
      "Andorra 376\n",
      "Algeria 213\n",
      "Afghanistan 93\n",
      "Albania 355\n",
      "\n",
      "In reversed order\n",
      "Albania 355\n",
      "Afghanistan 93\n",
      "Algeria 213\n",
      "Andorra 376\n",
      "Angola 244\n"
     ]
    }
   ],
   "source": [
    "from collections import OrderedDict\n",
    "map = {'Angola': 244, 'Andorra': 376, 'Algeria': 213, 'Afghanistan': 93,'Albania': 355 }\n",
    "new_map=OrderedDict(map.items())\n",
    "for i in new_map:\n",
    "    print(i,new_map[i])\n",
    "print(\"\\nIn reversed order\")\n",
    "for i in reversed(new_map):\n",
    "    print(i,new_map[i])"
   ]
  },
  {
   "cell_type": "markdown",
   "metadata": {},
   "source": [
    "# Q40. Write the Python program to compare two unordered lists (not sets)?"
   ]
  },
  {
   "cell_type": "code",
   "execution_count": 48,
   "metadata": {},
   "outputs": [
    {
     "name": "stdout",
     "output_type": "stream",
     "text": [
      "False\n"
     ]
    }
   ],
   "source": [
    "from collections import Counter\n",
    "list1=[20, 10, 30, 10, 20, 30]\n",
    "list2=[30, 20, 10, 30, 20, 50]\n",
    "print(Counter(list1)==Counter(list2))"
   ]
  },
  {
   "cell_type": "markdown",
   "metadata": {},
   "source": [
    "# Q41. Write the Python program to get an array buffer information?"
   ]
  },
  {
   "cell_type": "code",
   "execution_count": 49,
   "metadata": {},
   "outputs": [
    {
     "name": "stdout",
     "output_type": "stream",
     "text": [
      "Array buffer start address in memory and number of elements.\n",
      "(2990402455656, 2)\n"
     ]
    }
   ],
   "source": [
    "from array import array\n",
    "a = array(\"I\", (12,25))\n",
    "print(\"Array buffer start address in memory and number of elements.\")\n",
    "print(a.buffer_info())"
   ]
  },
  {
   "cell_type": "markdown",
   "metadata": {},
   "source": [
    "# Q42. Write the Python program to convert an array to an array of machine values and return the bytes representation?"
   ]
  },
  {
   "cell_type": "code",
   "execution_count": 50,
   "metadata": {},
   "outputs": [
    {
     "name": "stdout",
     "output_type": "stream",
     "text": [
      "Array to Bytes: \n",
      "b'\\x01\\x00\\x00\\x00\\x02\\x00\\x00\\x00\\x03\\x00\\x00\\x00\\x04\\x00\\x00\\x00\\x05\\x00\\x00\\x00\\x06\\x00\\x00\\x00'\n"
     ]
    }
   ],
   "source": [
    "from array import *\n",
    "print(\"Array to Bytes: \")\n",
    "x = array('i', [1, 2, 3, 4, 5, 6])\n",
    "s = x.tobytes()\n",
    "print(s)"
   ]
  },
  {
   "cell_type": "markdown",
   "metadata": {},
   "source": [
    "# Q43. Write the Python program to read a string and interpreting the string as an array of machine values?"
   ]
  },
  {
   "cell_type": "code",
   "execution_count": 51,
   "metadata": {},
   "outputs": [
    {
     "name": "stdout",
     "output_type": "stream",
     "text": [
      "array1: array('i', [7, 8, 9, 10])\n",
      "Bytes: b'0700000008000000090000000a000000'\n",
      "array2: array('i', [7, 8, 9, 10])\n"
     ]
    }
   ],
   "source": [
    "from array import array\n",
    "import binascii\n",
    "array1 = array('i', [7, 8, 9, 10])\n",
    "print('array1:', array1)\n",
    "as_bytes = array1.tobytes()\n",
    "print('Bytes:', binascii.hexlify(as_bytes))\n",
    "array2 = array('i')\n",
    "array2.frombytes(as_bytes)\n",
    "print('array2:', array2)"
   ]
  },
  {
   "cell_type": "markdown",
   "metadata": {},
   "source": [
    "# Q44. Write the Python program to push three items into the heap and return the smallest item from the heap. Also, return and pop the smallest item from the heap?"
   ]
  },
  {
   "cell_type": "code",
   "execution_count": 52,
   "metadata": {},
   "outputs": [
    {
     "name": "stdout",
     "output_type": "stream",
     "text": [
      "Items in the heap:\n",
      "('VI', 1)\n",
      "('VII', 3)\n",
      "('VIII', 2)\n",
      "------------------------------------------------------------\n",
      "The smallest item in the heap is:\n",
      "('VI', 1)\n",
      "------------------------------------------------------------\n",
      "Pop the smallest item in the heap:\n",
      "('VII', 3)\n",
      "('VIII', 2)\n"
     ]
    }
   ],
   "source": [
    "import heapq\n",
    "items = []\n",
    "heapq.heappush(items, ('VI', 1))\n",
    "heapq.heappush(items, ('VII', 3))\n",
    "heapq.heappush(items, ('VIII', 2))\n",
    "print(\"Items in the heap:\")\n",
    "for item in items:\n",
    "    print(item)\n",
    "print(\"-\"*60)\n",
    "print(\"The smallest item in the heap is:\")\n",
    "print(items[0])\n",
    "print(\"-\"*60)\n",
    "print(\"Pop the smallest item in the heap:\")\n",
    "heapq.heappop(items)\n",
    "for item in items:\n",
    "    print(item)"
   ]
  },
  {
   "cell_type": "markdown",
   "metadata": {},
   "source": [
    "# Q45. Write the Python program to locate the left insertion point for a specified value in sorted order?"
   ]
  },
  {
   "cell_type": "code",
   "execution_count": 53,
   "metadata": {},
   "outputs": [
    {
     "name": "stdout",
     "output_type": "stream",
     "text": [
      "4\n",
      "2\n"
     ]
    }
   ],
   "source": [
    "#Approach 1\n",
    "import bisect\n",
    "def index(a, x):\n",
    "    i = bisect.bisect_left(a, x)\n",
    "    return i\n",
    "\n",
    "a = [1,2,4,5]\n",
    "print(index(a, 6))\n",
    "print(index(a, 3))"
   ]
  },
  {
   "cell_type": "code",
   "execution_count": 54,
   "metadata": {},
   "outputs": [
    {
     "name": "stdout",
     "output_type": "stream",
     "text": [
      "4\n",
      "2\n"
     ]
    }
   ],
   "source": [
    "#Approach 2\n",
    "import bisect\n",
    "a=[1,2,3,4]\n",
    "print(bisect.bisect_left(a,5))\n",
    "print(bisect.bisect_left(a,3))"
   ]
  },
  {
   "cell_type": "markdown",
   "metadata": {},
   "source": [
    "# Q46. Write the Python program to create the FIFO queue?"
   ]
  },
  {
   "cell_type": "code",
   "execution_count": 55,
   "metadata": {},
   "outputs": [
    {
     "name": "stdout",
     "output_type": "stream",
     "text": [
      "0 1 2 3 \n",
      "\n"
     ]
    }
   ],
   "source": [
    "import queue\n",
    "item = queue.Queue()\n",
    "#insert items at the end of the queue \n",
    "for x in range(4):\n",
    "    item.put(x)\n",
    "#remove items from the head of the queue \n",
    "while not item.empty():\n",
    "    print(item.get(), end=\" \")\n",
    "print(\"\\n\")"
   ]
  },
  {
   "cell_type": "markdown",
   "metadata": {},
   "source": [
    "# Q47. Write the Python program to calculate the harmonic sum of n-1. Note: The harmonic sum is the sum of reciprocals of the positive Integers?"
   ]
  },
  {
   "cell_type": "code",
   "execution_count": 56,
   "metadata": {},
   "outputs": [
    {
     "name": "stdout",
     "output_type": "stream",
     "text": [
      "2.5928571428571425\n",
      "2.083333333333333\n"
     ]
    }
   ],
   "source": [
    "def harmonic_sum(n):\n",
    "  if n < 2:\n",
    "    return 1\n",
    "  else:\n",
    "    return 1 / n + (harmonic_sum(n - 1))\n",
    "\n",
    "print(harmonic_sum(7))\n",
    "print(harmonic_sum(4))"
   ]
  },
  {
   "cell_type": "markdown",
   "metadata": {},
   "source": [
    "# Q48. Write the NumPy program to create a 2d array with 6 on the border and 0 inside?"
   ]
  },
  {
   "cell_type": "code",
   "execution_count": 57,
   "metadata": {},
   "outputs": [
    {
     "name": "stdout",
     "output_type": "stream",
     "text": [
      "[[6. 6. 6. 6. 6. 6.]\n",
      " [6. 0. 0. 0. 0. 6.]\n",
      " [6. 0. 0. 0. 0. 6.]\n",
      " [6. 0. 0. 0. 0. 6.]\n",
      " [6. 0. 0. 0. 0. 6.]\n",
      " [6. 6. 6. 6. 6. 6.]]\n"
     ]
    }
   ],
   "source": [
    "import numpy as np\n",
    "def funct(num1,num2):\n",
    "    arr=6+np.zeros((num1,num2))\n",
    "    arr[1:-1,1:-1]=0\n",
    "    return arr\n",
    "print(funct(6,6))"
   ]
  },
  {
   "cell_type": "markdown",
   "metadata": {},
   "source": [
    "# Q49. Write the NumPy program to create a 8x8 matrix and fill it with the checkerboard pattern?"
   ]
  },
  {
   "cell_type": "code",
   "execution_count": 58,
   "metadata": {},
   "outputs": [
    {
     "data": {
      "text/plain": [
       "array([[3., 9., 3., 9., 3., 9., 3., 9.],\n",
       "       [9., 3., 9., 3., 9., 3., 9., 3.],\n",
       "       [3., 9., 3., 9., 3., 9., 3., 9.],\n",
       "       [9., 3., 9., 3., 9., 3., 9., 3.],\n",
       "       [3., 9., 3., 9., 3., 9., 3., 9.],\n",
       "       [9., 3., 9., 3., 9., 3., 9., 3.],\n",
       "       [3., 9., 3., 9., 3., 9., 3., 9.],\n",
       "       [9., 3., 9., 3., 9., 3., 9., 3.]])"
      ]
     },
     "execution_count": 58,
     "metadata": {},
     "output_type": "execute_result"
    }
   ],
   "source": [
    "import numpy as np\n",
    "arr=3*np.ones((8,8))\n",
    "arr[1::2,::2]=9\n",
    "arr[::2,1::2]=9\n",
    "arr"
   ]
  },
  {
   "cell_type": "markdown",
   "metadata": {},
   "source": [
    "# Q50. Write the NumPy program to create an empty and a full array."
   ]
  },
  {
   "cell_type": "code",
   "execution_count": 59,
   "metadata": {},
   "outputs": [
    {
     "data": {
      "text/plain": [
       "array([[8, 8, 8],\n",
       "       [8, 8, 8],\n",
       "       [8, 8, 8]])"
      ]
     },
     "execution_count": 59,
     "metadata": {},
     "output_type": "execute_result"
    }
   ],
   "source": [
    "import numpy as np\n",
    "np.empty((3,4))\n",
    "np.full((3,3),8)"
   ]
  },
  {
   "cell_type": "markdown",
   "metadata": {},
   "source": [
    "# Q51. Write the NumPy program to convert the values of Centigrade degrees into the Fahrenheit degrees and the centigrade values are stored in the NumPy array."
   ]
  },
  {
   "cell_type": "code",
   "execution_count": 60,
   "metadata": {},
   "outputs": [
    {
     "name": "stdout",
     "output_type": "stream",
     "text": [
      "The value in centigrade is [ 0.   12.   45.21 34.   99.91]\n",
      "The value in fehrenheit is [ 32.     53.6   113.378  93.2   211.838]\n",
      "The value in fehrenheit is [ 0.   12.   45.21 34.   99.91]\n",
      "The value in centigrade is [-17.77777778 -11.11111111   7.33888889   1.11111111  37.72777778]\n"
     ]
    }
   ],
   "source": [
    "import numpy as np\n",
    "values=[0, 12, 45.21 ,34, 99.91]\n",
    "\n",
    "####Changing from centigrade to fehrenheit######\n",
    "centigrade=np.array(values)\n",
    "fehrenheit=((9/5)*centigrade)+32\n",
    "print('The value in centigrade is',centigrade)\n",
    "print('The value in fehrenheit is',fehrenheit)\n",
    "\n",
    "####Changing from fehrenheit to centigrade######\n",
    "fehrenheit1=np.array(values)\n",
    "centigrade1=(5/9)*(fehrenheit1-32)\n",
    "print('The value in fehrenheit is',fehrenheit1)\n",
    "print('The value in centigrade is',centigrade1)"
   ]
  },
  {
   "cell_type": "markdown",
   "metadata": {},
   "source": [
    "# Q52. Write the NumPy program to find the real and imaginary parts of an array of complex numbers?"
   ]
  },
  {
   "cell_type": "code",
   "execution_count": 8,
   "metadata": {},
   "outputs": [
    {
     "name": "stdout",
     "output_type": "stream",
     "text": [
      "Original array:z  [1.70710678+0.70710678j]\n",
      "Real part of the array:\n",
      "[1.70710678]\n",
      "Imaginary part of the array:\n",
      "[0.70710678]\n"
     ]
    }
   ],
   "source": [
    "import numpy as np\n",
    "x = np.sqrt([1+0j])\n",
    "y = np.sqrt([0+1j])\n",
    "z=x+y\n",
    "print(\"Original array:z \",z)\n",
    "print(\"Real part of the array:\")\n",
    "print(z.real)\n",
    "print(\"Imaginary part of the array:\")\n",
    "print(z.imag)"
   ]
  },
  {
   "cell_type": "markdown",
   "metadata": {},
   "source": [
    "# Q53. Write the NumPy program to test whether each element of a 1-D array is also present in the second array?"
   ]
  },
  {
   "cell_type": "code",
   "execution_count": 9,
   "metadata": {},
   "outputs": [
    {
     "name": "stdout",
     "output_type": "stream",
     "text": [
      "First Array:  [ 0 10 20 40 60]\n",
      "Second Array:  [0, 40]\n",
      "Compare each element of array1 and array2\n",
      "[ True False False  True False]\n"
     ]
    }
   ],
   "source": [
    "import numpy as np\n",
    "array1 = np.array([0, 10, 20, 40, 60])\n",
    "print(\"First Array: \",array1)\n",
    "array2 = [0, 40]\n",
    "print(\"Second Array: \",array2)\n",
    "print(\"Compare each element of array1 and array2\")\n",
    "print(np.in1d(array1, array2))"
   ]
  },
  {
   "cell_type": "markdown",
   "metadata": {},
   "source": [
    "# Q54. Write the NumPy program to find common values between two arrays?"
   ]
  },
  {
   "cell_type": "code",
   "execution_count": 10,
   "metadata": {},
   "outputs": [
    {
     "name": "stdout",
     "output_type": "stream",
     "text": [
      "First Array:  [ 0 10 20 40 60]\n",
      "Second Array:  [10, 30, 40]\n",
      "Common values between two arrays:\n",
      "[10 40]\n"
     ]
    }
   ],
   "source": [
    "import numpy as np\n",
    "array1 = np.array([0, 10, 20, 40, 60])\n",
    "print(\"First Array: \",array1)\n",
    "array2 = [10, 30, 40]\n",
    "print(\"Second Array: \",array2)\n",
    "print(\"Common values between two arrays:\")\n",
    "print(np.intersect1d(array1, array2))"
   ]
  },
  {
   "cell_type": "markdown",
   "metadata": {},
   "source": [
    "# Q55. Write the NumPy program to get the unique elements of an array?"
   ]
  },
  {
   "cell_type": "code",
   "execution_count": 11,
   "metadata": {},
   "outputs": [
    {
     "name": "stdout",
     "output_type": "stream",
     "text": [
      "Original array:\n",
      "[10 10 20 20 30 30]\n",
      "Unique elements of the above array:\n",
      "[10 20 30]\n",
      "Original array:\n",
      "[[1 1]\n",
      " [2 3]]\n",
      "Unique elements of the above array:\n",
      "[1 2 3]\n"
     ]
    }
   ],
   "source": [
    "import numpy as np\n",
    "array = np.array([10, 10, 20, 20, 30, 30])\n",
    "print(\"Original array:\")\n",
    "print(array)\n",
    "print(\"Unique elements of the above array:\")\n",
    "print(np.unique(array))\n",
    "array = np.array([[1, 1], [2, 3]])\n",
    "print(\"Original array:\")\n",
    "print(array)\n",
    "print(\"Unique elements of the above array:\")\n",
    "print(np.unique(array))"
   ]
  },
  {
   "cell_type": "markdown",
   "metadata": {},
   "source": [
    "# Q56. Write the NumPy program to find the set exclusive-or of two arrays. Set exclusive-or will return the sorted, unique values that are in only one (not both) of the input arrays?"
   ]
  },
  {
   "cell_type": "code",
   "execution_count": 12,
   "metadata": {},
   "outputs": [
    {
     "name": "stdout",
     "output_type": "stream",
     "text": [
      "First Array is:  [ 0 10 20 40 60 80]\n",
      "Second Array is:  [10, 30, 40, 50, 70]\n",
      "Unique values that are in only one (not both) of the input arrays:\n",
      "[ 0 20 30 50 60 70 80]\n"
     ]
    }
   ],
   "source": [
    "import numpy as np\n",
    "array1 = np.array([0, 10, 20, 40, 60, 80])\n",
    "print(\"First Array is: \",array1)\n",
    "array2 = [10, 30, 40, 50, 70]\n",
    "print(\"Second Array is: \",array2)\n",
    "print(\"Unique values that are in only one (not both) of the input arrays:\")\n",
    "print(np.setxor1d(array1, array2))"
   ]
  },
  {
   "cell_type": "markdown",
   "metadata": {},
   "source": [
    "# Q57. Write the NumPy program to test if all elements in an array evaluate to True ?"
   ]
  },
  {
   "cell_type": "code",
   "execution_count": 13,
   "metadata": {},
   "outputs": [
    {
     "name": "stdout",
     "output_type": "stream",
     "text": [
      "False\n",
      "True\n",
      "False\n",
      "True\n"
     ]
    }
   ],
   "source": [
    "import numpy as np\n",
    "print(np.all([[True,False],[True,True]]))\n",
    "print(np.all([[True,True],[True,True]]))\n",
    "print(np.all([10, 20, 0, -50]))\n",
    "print(np.all([10, 20, -50]))"
   ]
  },
  {
   "cell_type": "markdown",
   "metadata": {},
   "source": [
    "# Q58 Write the NumPy program to test whether any array element along the given axis evaluates to True?"
   ]
  },
  {
   "cell_type": "code",
   "execution_count": 14,
   "metadata": {},
   "outputs": [
    {
     "name": "stdout",
     "output_type": "stream",
     "text": [
      "False\n",
      "True\n",
      "True\n",
      "True\n"
     ]
    }
   ],
   "source": [
    "import numpy as np\n",
    "print(np.any([[False,False],[False,False]]))\n",
    "print(np.any([[True,True],[True,True]]))\n",
    "print(np.any([10, 20, 0, -50]))\n",
    "print(np.any([10, 20, -50]))"
   ]
  },
  {
   "cell_type": "markdown",
   "metadata": {},
   "source": [
    "# Q59. Write the NumPy program to construct an array by repeating?"
   ]
  },
  {
   "cell_type": "code",
   "execution_count": 15,
   "metadata": {},
   "outputs": [
    {
     "name": "stdout",
     "output_type": "stream",
     "text": [
      "Original array\n",
      "[1, 2, 3, 4]\n",
      "Repeating 2 times\n",
      "[1 2 3 4 1 2 3 4]\n",
      "Repeating 3 times\n",
      "[1 2 3 4 1 2 3 4 1 2 3 4]\n"
     ]
    }
   ],
   "source": [
    "import numpy as np\n",
    "array = [1, 2, 3, 4]\n",
    "print(\"Original array\")\n",
    "print(array)\n",
    "print(\"Repeating 2 times\")\n",
    "array_twice = np.tile(array, 2)\n",
    "print(array_twice)\n",
    "print(\"Repeating 3 times\")\n",
    "array_thrice = np.tile(array, 3)\n",
    "print(array_thrice)"
   ]
  },
  {
   "cell_type": "markdown",
   "metadata": {},
   "source": [
    "# Q60. Write the NumPy program to find the indices of the maximum and minimum values with the given axis of an array?"
   ]
  },
  {
   "cell_type": "code",
   "execution_count": 16,
   "metadata": {},
   "outputs": [
    {
     "name": "stdout",
     "output_type": "stream",
     "text": [
      "Original array:  [1 2 3 4 5 6]\n",
      "Maximum Values:  5\n",
      "Minimum Values:  0\n"
     ]
    }
   ],
   "source": [
    "import numpy as np\n",
    "array = np.array([1, 2, 3, 4, 5, 6])\n",
    "print(\"Original array: \",array)\n",
    "print(\"Maximum Values: \",np.argmax(array))\n",
    "print(\"Minimum Values: \",np.argmin(array))"
   ]
  },
  {
   "cell_type": "markdown",
   "metadata": {},
   "source": [
    "# Q61.  Write the NumPy program compare two arrays using numpy? "
   ]
  },
  {
   "cell_type": "code",
   "execution_count": 4,
   "metadata": {},
   "outputs": [
    {
     "name": "stdout",
     "output_type": "stream",
     "text": [
      "Array 1:  [1 2]\n",
      "Array 2:  [4 5]\n",
      "array1 > array2\n",
      "[False False]\n",
      "array1 >= array2\n",
      "[False False]\n",
      "array1 < array2\n",
      "[ True  True]\n",
      "array1 <= array2\n",
      "[ True  True]\n"
     ]
    }
   ],
   "source": [
    "import numpy as np\n",
    "array1 = np.array([1, 2])\n",
    "array2 = np.array([4, 5])\n",
    "print(\"Array 1: \",array1)\n",
    "print(\"Array 2: \",array2)\n",
    "print(\"array1 > array2\")\n",
    "print(np.greater(array1,array2))\n",
    "print(\"array1 >= array2\")\n",
    "print(np.greater_equal(array1, array2))\n",
    "print(\"array1 < array2\")\n",
    "print(np.less(array1, array2))\n",
    "print(\"array1 <= array2\")\n",
    "print(np.less_equal(array1, array2))"
   ]
  },
  {
   "cell_type": "markdown",
   "metadata": {},
   "source": [
    "# Q62. Write the NumPy program to sort an along the first, last axis of an   array? "
   ]
  },
  {
   "cell_type": "code",
   "execution_count": 7,
   "metadata": {},
   "outputs": [
    {
     "name": "stdout",
     "output_type": "stream",
     "text": [
      "Original array: \n",
      "[1 2]\n",
      "Sort along the first axis: \n",
      "[[2 1]\n",
      " [4 6]]\n",
      "Sort along the last axis: \n",
      "[[1 2]\n",
      " [4 6]]\n"
     ]
    }
   ],
   "source": [
    "import numpy as np\n",
    "array = np.array([[4, 6],[2, 1]])\n",
    "print(\"Original array: \")\n",
    "print(array1)\n",
    "print(\"Sort along the first axis: \")\n",
    "x = np.sort(array, axis=0)\n",
    "print(x)\n",
    "print(\"Sort along the last axis: \")\n",
    "y = np.sort(x, axis=1)\n",
    "print(y)"
   ]
  },
  {
   "cell_type": "markdown",
   "metadata": {},
   "source": [
    "# Q63. Write the NumPy program to sort pairs of first name and last name   return their indices (first by last name, then by first name). "
   ]
  },
  {
   "cell_type": "code",
   "execution_count": 8,
   "metadata": {},
   "outputs": [
    {
     "name": "stdout",
     "output_type": "stream",
     "text": [
      "[1 3 2 4 0]\n"
     ]
    }
   ],
   "source": [
    "import numpy as np\n",
    "first_names =    ('Margery', 'Betsey', 'Shelley', 'Lanell', 'Genesis')\n",
    "last_names = ('Woolum', 'Battle', 'Plotner', 'Brien', 'Stahl')\n",
    "x = np.lexsort((first_names, last_names))\n",
    "print(x)"
   ]
  },
  {
   "cell_type": "markdown",
   "metadata": {},
   "source": [
    "# Q64. Write the NumPy program to get the values and indices of the   elements that are bigger than 10 in the given array?"
   ]
  },
  {
   "cell_type": "code",
   "execution_count": 9,
   "metadata": {},
   "outputs": [
    {
     "name": "stdout",
     "output_type": "stream",
     "text": [
      "Original array: \n",
      "[[ 0 10 20]\n",
      " [20 30 40]]\n",
      "Values bigger than 10 = [20 20 30 40]\n",
      "Their indices are  (array([0, 1, 1, 1], dtype=int64), array([2, 0, 1, 2], dtype=int64))\n"
     ]
    }
   ],
   "source": [
    "import numpy as np\n",
    "array = np.array([[0, 10, 20], [20, 30, 40]])\n",
    "print(\"Original array: \")\n",
    "print(array)\n",
    "print(\"Values bigger than 10 =\", array[array>10])\n",
    "print(\"Their indices are \", np.nonzero(array > 10))"
   ]
  },
  {
   "cell_type": "markdown",
   "metadata": {},
   "source": [
    "# Q65. Write the NumPy program to find the memory size of a NumPy   array? "
   ]
  },
  {
   "cell_type": "code",
   "execution_count": 10,
   "metadata": {},
   "outputs": [
    {
     "name": "stdout",
     "output_type": "stream",
     "text": [
      "128 bytes\n"
     ]
    }
   ],
   "source": [
    "import numpy as np\n",
    "array = np.ones((4,4))\n",
    "print(\"%d bytes\" % (array.size * array.itemsize))"
   ]
  },
  {
   "cell_type": "markdown",
   "metadata": {},
   "source": [
    "# Q66. Write the NumPy program to create an array of ones and an array   of zeros? "
   ]
  },
  {
   "cell_type": "code",
   "execution_count": 12,
   "metadata": {},
   "outputs": [
    {
     "name": "stdout",
     "output_type": "stream",
     "text": [
      "Create an array of zeros\n",
      "Default type is float\n",
      "[[0. 0.]]\n",
      "Type changes to int\n",
      "[[0 0]]\n",
      "Create an array of ones\n",
      "Default type is float\n",
      "[[1. 1.]]\n",
      "Type changes to int\n",
      "[[1 1]]\n"
     ]
    }
   ],
   "source": [
    "import numpy as np\n",
    "print(\"Create an array of zeros\")\n",
    "arrayzero = np.zeros((1,2))\n",
    "print(\"Default type is float\")\n",
    "print(arrayzero)\n",
    "print(\"Type changes to int\")\n",
    "arrayzero = np.zeros((1,2), dtype = np.int)\n",
    "print(arrayzero)\n",
    "print(\"Create an array of ones\")\n",
    "arrayones= np.ones((1,2)) \n",
    "print(\"Default type is float\")\n",
    "print(arrayones)\n",
    "print(\"Type changes to int\")\n",
    "arrayones = np.ones((1,2), dtype = np.int)\n",
    "print(arrayones)"
   ]
  },
  {
   "cell_type": "markdown",
   "metadata": {},
   "source": [
    "# Q67. Write the NumPy program to change the dimension of an array"
   ]
  },
  {
   "cell_type": "code",
   "execution_count": 13,
   "metadata": {},
   "outputs": [
    {
     "name": "stdout",
     "output_type": "stream",
     "text": [
      "6 rows and 0 columns\n",
      "(6,)\n",
      "(3, 3) -> 3 rows and 3 columns \n",
      "[[1 2 3]\n",
      " [4 5 6]\n",
      " [7 8 9]]\n",
      "Change array shape to (3, 3) -> 3 rows and 3 columns \n",
      "[[1 2 3]\n",
      " [4 5 6]\n",
      " [7 8 9]]\n"
     ]
    }
   ],
   "source": [
    "import numpy as np\n",
    "array1 = np.array([1, 2, 3, 4, 5, 6])\n",
    "print(\"6 rows and 0 columns\")\n",
    "print(array1.shape)\n",
    "\n",
    "array2 = np.array([[1, 2, 3],[4, 5, 6],[7,8,9]])\n",
    "print(\"(3, 3) -> 3 rows and 3 columns \")\n",
    "print(array2)\n",
    "\n",
    "array1 = np.array([1,2,3,4,5,6,7,8,9])\n",
    "print(\"Change array shape to (3, 3) -> 3 rows and 3 columns \")\n",
    "array1.shape = (3, 3)\n",
    "print(array1)"
   ]
  },
  {
   "cell_type": "markdown",
   "metadata": {},
   "source": [
    "# Q68. Write the NumPy program to create a new shape to an array   without changing its data ? "
   ]
  },
  {
   "cell_type": "code",
   "execution_count": 14,
   "metadata": {},
   "outputs": [
    {
     "name": "stdout",
     "output_type": "stream",
     "text": [
      "Reshape 3x2:\n",
      "[[1 2]\n",
      " [3 4]\n",
      " [5 6]]\n",
      "Reshape 2x3:\n",
      "[[1 2 3]\n",
      " [4 5 6]]\n"
     ]
    }
   ],
   "source": [
    "import numpy as np\n",
    "firstarray = np.array([1, 2, 3, 4, 5, 6])\n",
    "secondarray = np.reshape(firstarray,(3,2))\n",
    "print(\"Reshape 3x2:\")\n",
    "print(secondarray)\n",
    "thirdarray = np.reshape(firstarray,(2,3))\n",
    "print(\"Reshape 2x3:\")\n",
    "print(thirdarray)"
   ]
  },
  {
   "cell_type": "markdown",
   "metadata": {},
   "source": [
    "# Q69. Write the NumPy program to create a new array of 3*5, filled with 2? "
   ]
  },
  {
   "cell_type": "code",
   "execution_count": 17,
   "metadata": {},
   "outputs": [
    {
     "data": {
      "text/plain": [
       "array([[2., 2., 2., 2., 2.],\n",
       "       [2., 2., 2., 2., 2.],\n",
       "       [2., 2., 2., 2., 2.]])"
      ]
     },
     "execution_count": 17,
     "metadata": {},
     "output_type": "execute_result"
    }
   ],
   "source": [
    "import numpy as np\n",
    "array=np.ones((3,5))\n",
    "array2=array*2\n",
    "array2"
   ]
  },
  {
   "cell_type": "markdown",
   "metadata": {},
   "source": [
    "# Q70. Write the NumPy program to create a 3-D array with ones on a   diagonal and zeros elsewhere? "
   ]
  },
  {
   "cell_type": "code",
   "execution_count": 18,
   "metadata": {},
   "outputs": [
    {
     "name": "stdout",
     "output_type": "stream",
     "text": [
      "[[1. 0. 0.]\n",
      " [0. 1. 0.]\n",
      " [0. 0. 1.]]\n"
     ]
    }
   ],
   "source": [
    "import numpy as np\n",
    "arraydiagonal = np.eye(3)\n",
    "print(arraydiagonal)"
   ]
  },
  {
   "cell_type": "markdown",
   "metadata": {},
   "source": [
    "# Q71. Write the NumPy program to split an array of 14 elements into the   3 arrays and each of which has 2, 4, and 8 elements in original   order? "
   ]
  },
  {
   "cell_type": "code",
   "execution_count": 20,
   "metadata": {},
   "outputs": [
    {
     "name": "stdout",
     "output_type": "stream",
     "text": [
      "Original array: [ 1  2  3  4  5  6  7  8  9 10 11 12 13 14]\n",
      "After splitting:\n",
      "[array([1, 2]), array([3, 4, 5, 6]), array([7, 8]), array([ 9, 10, 11, 12, 13, 14])]\n"
     ]
    }
   ],
   "source": [
    "import numpy as np\n",
    "origarray = np.arange(1, 15)\n",
    "print(\"Original array:\",origarray)\n",
    "print(\"After splitting:\")\n",
    "print(np.split(origarray, [2, 6]))"
   ]
  },
  {
   "cell_type": "markdown",
   "metadata": {},
   "source": [
    "# Q72. Write the NumPy program to split of an array of shape 4x4 it into   two arrays along the second axis ? "
   ]
  },
  {
   "cell_type": "code",
   "execution_count": 26,
   "metadata": {},
   "outputs": [
    {
     "name": "stdout",
     "output_type": "stream",
     "text": [
      "Original array: [[ 0  1  2  3]\n",
      " [ 4  5  6  7]\n",
      " [ 8  9 10 11]\n",
      " [12 13 14 15]]\n",
      "After splitting horizontally:\n",
      "[array([[ 0,  1],\n",
      "       [ 4,  5],\n",
      "       [ 8,  9],\n",
      "       [12, 13]]), array([[ 2,  3],\n",
      "       [ 6,  7],\n",
      "       [10, 11],\n",
      "       [14, 15]]), array([], shape=(4, 0), dtype=int32)]\n"
     ]
    }
   ],
   "source": [
    "import numpy as np\n",
    "array = np.arange(16).reshape((4, 4))\n",
    "print(\"Original array:\",array)\n",
    "print(\"After splitting horizontally:\")\n",
    "print(np.hsplit(array, [2, 6]))"
   ]
  },
  {
   "cell_type": "markdown",
   "metadata": {},
   "source": [
    "# Q73. Write the NumPy program to create a 5x5 matrix with row values   ranging from 0 to 4? "
   ]
  },
  {
   "cell_type": "code",
   "execution_count": 27,
   "metadata": {},
   "outputs": [
    {
     "name": "stdout",
     "output_type": "stream",
     "text": [
      "Original array:\n",
      "[[0. 0. 0. 0. 0.]\n",
      " [0. 0. 0. 0. 0.]\n",
      " [0. 0. 0. 0. 0.]\n",
      " [0. 0. 0. 0. 0.]\n",
      " [0. 0. 0. 0. 0.]]\n",
      "Row values ranging from 0 to 4.\n",
      "[[0. 1. 2. 3. 4.]\n",
      " [0. 1. 2. 3. 4.]\n",
      " [0. 1. 2. 3. 4.]\n",
      " [0. 1. 2. 3. 4.]\n",
      " [0. 1. 2. 3. 4.]]\n"
     ]
    }
   ],
   "source": [
    "import numpy as np\n",
    "array = np.zeros((5,5))\n",
    "print(\"Original array:\")\n",
    "print(array)\n",
    "print(\"Row values ranging from 0 to 4.\")\n",
    "array += np.arange(5)\n",
    "print(array)"
   ]
  },
  {
   "cell_type": "markdown",
   "metadata": {},
   "source": [
    "# Q74. Write the NumPy program to create an array of zeros and three   column types (integer, float, character)? "
   ]
  },
  {
   "cell_type": "code",
   "execution_count": 28,
   "metadata": {},
   "outputs": [
    {
     "name": "stdout",
     "output_type": "stream",
     "text": [
      "[(1, 2., b'Albert Einstein') (2, 2., b'Edmond Halley')\n",
      " (3, 3., b'Gertrude B. Elion')]\n"
     ]
    }
   ],
   "source": [
    "import numpy as np\n",
    "array = np.zeros((3,), dtype=('i4,f4,a40'))\n",
    "array_with_column_types = [(1, 2., \"Albert Einstein\"), (2, 2., \"Edmond Halley\"), (3, 3., \"Gertrude B. Elion\")]\n",
    "array[:] = array_with_column_types\n",
    "print(array)"
   ]
  },
  {
   "cell_type": "markdown",
   "metadata": {},
   "source": [
    "# Q75. Write the NumPy program to remove the negative values in the   numpy array with 0? "
   ]
  },
  {
   "cell_type": "code",
   "execution_count": 29,
   "metadata": {},
   "outputs": [
    {
     "name": "stdout",
     "output_type": "stream",
     "text": [
      "Original array:\n",
      "[-1 -4  0  2  3  4  5 -6]\n",
      "Replace the negative values of the said array with 0:\n",
      "[0 0 0 2 3 4 5 0]\n"
     ]
    }
   ],
   "source": [
    "import numpy as np\n",
    "array = np.array([-1, -4, 0, 2, 3, 4, 5, -6])\n",
    "print(\"Original array:\")\n",
    "print(array)\n",
    "print(\"Replace the negative values of the said array with 0:\")\n",
    "array[array < 0] = 0\n",
    "print(array)"
   ]
  },
  {
   "cell_type": "markdown",
   "metadata": {},
   "source": [
    "# Q76.  Write the NumPy program to compute the histogram of a set of   data? "
   ]
  },
  {
   "cell_type": "code",
   "execution_count": 32,
   "metadata": {},
   "outputs": [
    {
     "data": {
      "image/png": "[encoded data removed]",
      "text/plain": [
       "<Figure size 432x288 with 1 Axes>"
      ]
     },
     "metadata": {
      "needs_background": "light"
     },
     "output_type": "display_data"
    }
   ],
   "source": [
    "import numpy as np    \n",
    "import matplotlib.pyplot as plt\n",
    "%matplotlib inline\n",
    "plt.hist([1, 2, 1], bins=[0, 1, 2, 3, 5])\n",
    "plt.show()"
   ]
  },
  {
   "cell_type": "markdown",
   "metadata": {},
   "source": [
    "# Q77. Write the NumPy program to compute the line graph of a set of data? "
   ]
  },
  {
   "cell_type": "code",
   "execution_count": 33,
   "metadata": {},
   "outputs": [
    {
     "name": "stderr",
     "output_type": "stream",
     "text": [
      "C:\\Users\\manis\\Anaconda3\\lib\\site-packages\\ipykernel_launcher.py:7: UserWarning: Matplotlib is currently using module://ipykernel.pylab.backend_inline, which is a non-GUI backend, so cannot show the figure.\n",
      "  import sys\n"
     ]
    },
    {
     "data": {
      "image/png": "[encoded data removed]",
      "text/plain": [
       "<Figure size 432x288 with 1 Axes>"
      ]
     },
     "metadata": {
      "needs_background": "light"
     },
     "output_type": "display_data"
    }
   ],
   "source": [
    "import numpy as np    \n",
    "import matplotlib.pyplot as plt\n",
    "arr = np.random.randint(1, 50, 10)\n",
    "y, x = np.histogram(arr, bins=np.arange(51))\n",
    "fig, ax = plt.subplots()\n",
    "ax.plot(x[:-1], y)\n",
    "fig.show()"
   ]
  },
  {
   "cell_type": "markdown",
   "metadata": {},
   "source": [
    "# Q78. Write the NumPy program to extracts all the elements from second   row from given (4x4) array? "
   ]
  },
  {
   "cell_type": "code",
   "execution_count": 34,
   "metadata": {},
   "outputs": [
    {
     "name": "stdout",
     "output_type": "stream",
     "text": [
      "Original array:\n",
      "[[ 0  1  2  3]\n",
      " [ 4  5  6  7]\n",
      " [ 8  9 10 11]\n",
      " [12 13 14 15]]\n",
      "\n",
      "Extracted data: Second row\n",
      "[4 5 6 7]\n"
     ]
    }
   ],
   "source": [
    "import numpy as np\n",
    "array_data = np.arange(0,16).reshape((4, 4))\n",
    "print(\"Original array:\")\n",
    "print(array_data)\n",
    "print(\"\\nExtracted data: Second row\")\n",
    "print(array_data[1,:])"
   ]
  },
  {
   "cell_type": "markdown",
   "metadata": {},
   "source": [
    "# Q79. Write the NumPy program to extract first element of the second  row  and fourth element of fourth row from a given (4x4) array? "
   ]
  },
  {
   "cell_type": "code",
   "execution_count": 35,
   "metadata": {},
   "outputs": [
    {
     "name": "stdout",
     "output_type": "stream",
     "text": [
      "Original array:\n",
      "[[ 0  1  2  3]\n",
      " [ 4  5  6  7]\n",
      " [ 8  9 10 11]\n",
      " [12 13 14 15]]\n",
      "\n",
      "Extracted data: First element of the second row and fourth element of fourth row  \n",
      "[ 4 15]\n"
     ]
    }
   ],
   "source": [
    "import numpy as np\n",
    "array_data = np.arange(0,16).reshape((4, 4))\n",
    "print(\"Original array:\")\n",
    "print(array_data)\n",
    "print(\"\\nExtracted data: First element of the second row and fourth element of fourth row  \")\n",
    "print(array_data[[1,3], [0,3]])"
   ]
  },
  {
   "cell_type": "markdown",
   "metadata": {},
   "source": [
    "# Q80. Write the NumPy program to add two arrays A and B of sizes (3,3)   and (,3)? "
   ]
  },
  {
   "cell_type": "code",
   "execution_count": 36,
   "metadata": {},
   "outputs": [
    {
     "name": "stdout",
     "output_type": "stream",
     "text": [
      "Original array:\n",
      "Array-1\n",
      "[[1. 1. 1.]\n",
      " [1. 1. 1.]\n",
      " [1. 1. 1.]]\n",
      "Array-2\n",
      "[0 1 2]\n",
      "array1 + array2:\n",
      "[[1. 2. 3.]\n",
      " [1. 2. 3.]\n",
      " [1. 2. 3.]]\n"
     ]
    }
   ],
   "source": [
    "import numpy as np\n",
    "array1 = np.ones((3,3))\n",
    "array2 = np.arange(3)\n",
    "print(\"Original array:\")\n",
    "print(\"Array-1\")\n",
    "print(array1)\n",
    "print(\"Array-2\")\n",
    "print(array2)\n",
    "print(\"array1 + array2:\")\n",
    "sum_array = array1 + array2\n",
    "print(sum_array)"
   ]
  },
  {
   "cell_type": "markdown",
   "metadata": {},
   "source": [
    "# Q81.  Write the NumPy program to copy data from a given array to   another array? "
   ]
  },
  {
   "cell_type": "code",
   "execution_count": 37,
   "metadata": {},
   "outputs": [
    {
     "name": "stdout",
     "output_type": "stream",
     "text": [
      "Original array:\n",
      "[24 27 30 29 18 14]\n",
      "\n",
      "Copy of the said array:\n",
      "[24 27 30 29 18 14]\n"
     ]
    }
   ],
   "source": [
    "import numpy as np\n",
    "array1 = np.array([24, 27, 30, 29, 18, 14])\n",
    "print(\"Original array:\")\n",
    "print(array1)\n",
    "array2 = np.empty_like (array1)\n",
    "array2[:] = array1\n",
    "print(\"\\nCopy of the said array:\")\n",
    "print(array1)"
   ]
  },
  {
   "cell_type": "markdown",
   "metadata": {},
   "source": [
    "# Q82.  Write the NumPy program to calculate the sum of all columns of   the 2D numpy array? "
   ]
  },
  {
   "cell_type": "code",
   "execution_count": 39,
   "metadata": {},
   "outputs": [
    {
     "name": "stdout",
     "output_type": "stream",
     "text": [
      "Original array:\n",
      "[[ 0  1  2  3  4  5  6  7  8]\n",
      " [ 9 10 11 12 13 14 15 16 17]\n",
      " [18 19 20 21 22 23 24 25 26]\n",
      " [27 28 29 30 31 32 33 34 35]]\n",
      "\n",
      "Sum of all columns:\n",
      "[54 58 62 66 70 74 78 82 86]\n"
     ]
    }
   ],
   "source": [
    "import numpy as np\n",
    "arr = np.arange(36)\n",
    "arr1 = np.reshape(arr, [4, 9])\n",
    "print(\"Original array:\")\n",
    "print(arr1)\n",
    "result  = arr1.sum(axis=0)\n",
    "print(\"\\nSum of all columns:\")\n",
    "print(result)"
   ]
  },
  {
   "cell_type": "markdown",
   "metadata": {},
   "source": [
    "# Q83.  Write the NumPy program to calculate averages without NaNs   along the given array? "
   ]
  },
  {
   "cell_type": "code",
   "execution_count": 41,
   "metadata": {},
   "outputs": [
    {
     "name": "stdout",
     "output_type": "stream",
     "text": [
      "Original array:\n",
      "[[10. 20. 30.]\n",
      " [40. 50. nan]\n",
      " [nan  6. nan]\n",
      " [nan nan nan]]\n",
      "Averages without NaNs along the said array:\n",
      "[20. 45.  6. nan]\n"
     ]
    }
   ],
   "source": [
    "import numpy as np\n",
    "array1 = np.array([[10, 20 ,30], [40, 50, np.nan], [np.nan, 6, np.nan], [np.nan, np.nan, np.nan]])\n",
    "print(\"Original array:\")\n",
    "print(array1)\n",
    "temp = np.ma.masked_array(array1,np.isnan(array1))\n",
    "result = np.mean(temp, axis=1)\n",
    "print(\"Averages without NaNs along the said array:\")\n",
    "print(result.filled(np.nan))"
   ]
  },
  {
   "cell_type": "markdown",
   "metadata": {},
   "source": [
    "# Q84.  Create two arrays of six elements. Write the NumPy program to   count the number of instances of a value occurring in one array on   the condition of another array. "
   ]
  },
  {
   "cell_type": "code",
   "execution_count": 42,
   "metadata": {},
   "outputs": [
    {
     "name": "stdout",
     "output_type": "stream",
     "text": [
      "Original arrays:\n",
      "[ 10 -10  10 -10 -10  10]\n",
      "[0.85 0.45 0.9  0.8  0.12 0.6 ]\n",
      "\n",
      "Number of instances of a value occurring in one array on the condition of another array:\n",
      "3\n"
     ]
    }
   ],
   "source": [
    "import numpy as np\n",
    "array1 = np.array([10,-10,10,-10,-10,10])\n",
    "array2 = np.array([.85,.45,.9,.8,.12,.6])\n",
    "print(\"Original arrays:\")\n",
    "print(array1)\n",
    "print(array2)\n",
    "result = np.sum((array1 == 10) & (array2 > .5))\n",
    "print(\"\\nNumber of instances of a value occurring in one array on the condition of another array:\")\n",
    "print(result)"
   ]
  },
  {
   "cell_type": "markdown",
   "metadata": {},
   "source": [
    "# Q85. Write the NumPy program to convert a Python dictionary to a   Numpy ndarray ? "
   ]
  },
  {
   "cell_type": "code",
   "execution_count": 43,
   "metadata": {},
   "outputs": [
    {
     "name": "stdout",
     "output_type": "stream",
     "text": [
      "\n",
      "Original dictionary:\n",
      "{'column0': {'a': 1, 'b': 0.0, 'c': 0.0, 'd': 2.0}, 'column1': {'a': 3.0, 'b': 1, 'c': 0.0, 'd': -1.0}, 'column2': {'a': 4, 'b': 1, 'c': 5.0, 'd': -1.0}, 'column3': {'a': 3.0, 'b': -1.0, 'c': -1.0, 'd': -1.0}}\n",
      "Type:  <class 'dict'>\n",
      "\n",
      "ndarray:\n",
      "[[ 1.  0.  0.  2.]\n",
      " [ 3.  1.  0. -1.]\n",
      " [ 4.  1.  5. -1.]\n",
      " [ 3. -1. -1. -1.]]\n",
      "Type:  <class 'numpy.ndarray'>\n"
     ]
    }
   ],
   "source": [
    "import numpy as np\n",
    "from ast import literal_eval\n",
    "dictionary = \"\"\"{\"column0\":{\"a\":1,\"b\":0.0,\"c\":0.0,\"d\":2.0},\n",
    "   \"column1\":{\"a\":3.0,\"b\":1,\"c\":0.0,\"d\":-1.0},\n",
    "   \"column2\":{\"a\":4,\"b\":1,\"c\":5.0,\"d\":-1.0},\n",
    "   \"column3\":{\"a\":3.0,\"b\":-1.0,\"c\":-1.0,\"d\":-1.0}\n",
    "  }\"\"\"\n",
    "origdict = literal_eval(dictionary)\n",
    "print(\"\\nOriginal dictionary:\")\n",
    "print(origdict)\n",
    "print(\"Type: \",type(origdict))\n",
    "result_array = np.array([[v[j] for j in ['a', 'b', 'c', 'd']] for k, v in origdict.items()])\n",
    "print(\"\\nndarray:\")\n",
    "print(result_array)\n",
    "print(\"Type: \",type(result_array))"
   ]
  },
  {
   "cell_type": "markdown",
   "metadata": {},
   "source": [
    "# Q86. Write the Numpy program to find and store the non-zero unique   rows in an array after comparing each row with other row in the   given matrix? "
   ]
  },
  {
   "cell_type": "markdown",
   "metadata": {},
   "source": [
    "# Q87.  Write the NumPy program to multiply the matrix by another matrix   of complex numbers and create a new matrix of complex   numbers? "
   ]
  },
  {
   "cell_type": "code",
   "execution_count": 45,
   "metadata": {},
   "outputs": [
    {
     "name": "stdout",
     "output_type": "stream",
     "text": [
      "First array:\n",
      "[1.+2.j 3.+4.j]\n",
      "Second array:\n",
      "[5.+6.j 7.+8.j]\n",
      "Product of above two arrays:\n",
      "(70-8j)\n"
     ]
    }
   ],
   "source": [
    "import numpy as np\n",
    "mat1 = np.array([1+2j,3+4j])\n",
    "print(\"First array:\")\n",
    "print(mat1)\n",
    "mat2 = np.array([5+6j,7+8j])\n",
    "print(\"Second array:\")\n",
    "print(mat2)\n",
    "result_matrix = np.vdot(mat1, mat2)\n",
    "print(\"Product of above two arrays:\")\n",
    "print(result_matrix)"
   ]
  },
  {
   "cell_type": "markdown",
   "metadata": {},
   "source": [
    "# Q88. Write a NumPy program to generate the matrix product of two   Arrays?"
   ]
  },
  {
   "cell_type": "code",
   "execution_count": 46,
   "metadata": {},
   "outputs": [
    {
     "name": "stdout",
     "output_type": "stream",
     "text": [
      "Matrices and vectors.\n",
      "First Array:\n",
      "[[1, 0], [1, 1]]\n",
      "Second Array:\n",
      "[[3, 1], [2, 2]]\n",
      "Matrix product of above two arrays:\n",
      "[[3 1]\n",
      " [5 3]]\n"
     ]
    }
   ],
   "source": [
    "import numpy as np\n",
    "array1 = [[1, 0], [1, 1]]\n",
    "array2 = [[3, 1], [2, 2]]\n",
    "print(\"Matrices and vectors.\")\n",
    "print(\"First Array:\")\n",
    "print(array1)\n",
    "print(\"Second Array:\")\n",
    "print(array2)\n",
    "print(\"Matrix product of above two arrays:\")\n",
    "print(np.matmul(array1, array2))"
   ]
  },
  {
   "cell_type": "markdown",
   "metadata": {},
   "source": [
    "# Q89. Write the NumPy program to find roots of the following   Polynomials? \n",
    " \n",
    "a) (x2 - 4x + 7) \n",
    "b) x4 - 11x3 + 9x2 + 11x - 10 "
   ]
  },
  {
   "cell_type": "code",
   "execution_count": 47,
   "metadata": {},
   "outputs": [
    {
     "name": "stdout",
     "output_type": "stream",
     "text": [
      "Roots of the first polynomial:\n",
      "[2.+1.73205081j 2.-1.73205081j]\n",
      "Roots of the second polynomial:\n",
      "[10.+0.0000000e+00j -1.+0.0000000e+00j  1.+9.6357437e-09j\n",
      "  1.-9.6357437e-09j]\n"
     ]
    }
   ],
   "source": [
    "import numpy as np\n",
    "print(\"Roots of the first polynomial:\")\n",
    "print(np.roots([1, -4, 7]))\n",
    "print(\"Roots of the second polynomial:\")\n",
    "print(np.roots([1, -11, 9, 11, -10]))"
   ]
  },
  {
   "cell_type": "markdown",
   "metadata": {},
   "source": [
    "# Q90. Write the NumPy program to calculate inverse of sine, cosine,  and inverse tangent for all elements in a given array? "
   ]
  },
  {
   "cell_type": "code",
   "execution_count": 49,
   "metadata": {},
   "outputs": [
    {
     "name": "stdout",
     "output_type": "stream",
     "text": [
      "Inverse sine: [-1.57079633  0.          1.57079633]\n",
      "Inverse cosine: [3.14159265 1.57079633 0.        ]\n",
      "Inverse tangent: [-0.78539816  0.          0.78539816]\n"
     ]
    }
   ],
   "source": [
    "import numpy as np\n",
    "array = np.array([-1., 0, 1.])\n",
    "print(\"Inverse sine:\", np.arcsin(array))\n",
    "print(\"Inverse cosine:\", np.arccos(array))\n",
    "print(\"Inverse tangent:\", np.arctan(array))"
   ]
  },
  {
   "cell_type": "markdown",
   "metadata": {},
   "source": [
    "# Q91. Write the NumPy program to calculate the difference between in   neighbouring elements, element-wise of a given array? "
   ]
  },
  {
   "cell_type": "code",
   "execution_count": 50,
   "metadata": {},
   "outputs": [
    {
     "name": "stdout",
     "output_type": "stream",
     "text": [
      "Original array: \n",
      "[1 3 5 7 0]\n",
      "Difference between neighboring elements, element-wise of the said array.\n",
      "[ 2  2  2 -7]\n"
     ]
    }
   ],
   "source": [
    "import numpy as np\n",
    "array = np.array([1, 3, 5, 7, 0])\n",
    "print(\"Original array: \")\n",
    "print(array)\n",
    "print(\"Difference between neighboring elements, element-wise of the said array.\")\n",
    "print(np.diff(array))"
   ]
  },
  {
   "cell_type": "markdown",
   "metadata": {},
   "source": [
    "# Q92. Write the Python program to find the maximum and the minimum   value of a given flattened array? "
   ]
  },
  {
   "cell_type": "code",
   "execution_count": 51,
   "metadata": {},
   "outputs": [
    {
     "name": "stdout",
     "output_type": "stream",
     "text": [
      "Original flattened array:\n",
      "[[0 1]\n",
      " [2 3]]\n",
      "Maximum value of the above flattened array:\n",
      "3\n",
      "Minimum value of the above flattened array:\n",
      "0\n"
     ]
    }
   ],
   "source": [
    "import numpy as np\n",
    "array = np.arange(4).reshape((2,2))\n",
    "print(\"Original flattened array:\")\n",
    "print(array)\n",
    "print(\"Maximum value of the above flattened array:\")\n",
    "print(np.amax(array))\n",
    "print(\"Minimum value of the above flattened array:\")\n",
    "print(np.amin(array))"
   ]
  },
  {
   "cell_type": "markdown",
   "metadata": {},
   "source": [
    "# Q93. Write the NumPy program to calculate the difference between in   the maximum and the minimum values of a given array along the   second axis ? "
   ]
  },
  {
   "cell_type": "code",
   "execution_count": 52,
   "metadata": {},
   "outputs": [
    {
     "name": "stdout",
     "output_type": "stream",
     "text": [
      "\n",
      "Original array:\n",
      "[[ 0  1  2  3  4  5]\n",
      " [ 6  7  8  9 10 11]]\n",
      "\n",
      "Difference between the maximum and the minimum values of the said array:\n",
      "[5 5]\n"
     ]
    }
   ],
   "source": [
    "import numpy as np\n",
    "array = np.arange(12).reshape((2, 6))\n",
    "print(\"\\nOriginal array:\")\n",
    "print(array)\n",
    "array1 = np.ptp(array, 1)\n",
    "array2 = np.amax(array, 1) - np.amin(array, 1)\n",
    "assert np.allclose(array1, array2)\n",
    "print(\"\\nDifference between the maximum and the minimum values of the said array:\")\n",
    "print(array1)"
   ]
  },
  {
   "cell_type": "markdown",
   "metadata": {},
   "source": [
    "# Q94. Write the NumPy program to compute the weighted of the given   array ? "
   ]
  },
  {
   "cell_type": "code",
   "execution_count": 53,
   "metadata": {},
   "outputs": [
    {
     "name": "stdout",
     "output_type": "stream",
     "text": [
      "\n",
      "Original array:\n",
      "[0 1 2 3 4]\n",
      "\n",
      "Weighted average of the said array:\n",
      "2.6666666666666665\n"
     ]
    }
   ],
   "source": [
    "import numpy as np\n",
    "array = np.arange(5)\n",
    "print(\"\\nOriginal array:\")\n",
    "print(array)\n",
    "weights = np.arange(1, 6)\n",
    "array1 = np.average(array, weights=weights)\n",
    "array2 = (array*(weights/weights.sum())).sum()\n",
    "assert np.allclose(array1, array2)\n",
    "print(\"\\nWeighted average of the said array:\")\n",
    "print(array1)"
   ]
  },
  {
   "cell_type": "markdown",
   "metadata": {},
   "source": [
    "# Q95. Write the NumPy program to compute the mean, standard   deviation, and the variance of a given array along the second  axis?   "
   ]
  },
  {
   "cell_type": "code",
   "execution_count": 54,
   "metadata": {},
   "outputs": [
    {
     "name": "stdout",
     "output_type": "stream",
     "text": [
      "\n",
      "Original array:\n",
      "[0 1 2 3 4 5]\n",
      "\n",
      "Mean:  2.5\n",
      "\n",
      "std:  1\n",
      "\n",
      "variance:  2.9166666666666665\n"
     ]
    }
   ],
   "source": [
    "import numpy as np\n",
    "array = np.arange(6)\n",
    "print(\"\\nOriginal array:\")\n",
    "print(array)\n",
    "mean = np.mean(array)\n",
    "average = np.average(array)\n",
    "assert np.allclose(mean, average)\n",
    "print(\"\\nMean: \", mean)\n",
    "standard_deviation1 = np.std(array)\n",
    "standard_deviation2 = np.sqrt(np.mean((array - np.mean(array)) ** 2 ))\n",
    "assert np.allclose(standard_deviation1, standard_deviation2)\n",
    "print(\"\\nstd: \", 1)\n",
    "variance1= np.var(array)\n",
    "variance2 = np.mean((array - np.mean(array)) ** 2 )\n",
    "assert np.allclose(variance1, variance2)\n",
    "print(\"\\nvariance: \", variance1)"
   ]
  },
  {
   "cell_type": "markdown",
   "metadata": {},
   "source": [
    "# Q96. Write the Numpy program to compute the covariance matrix of the   two given arrays? "
   ]
  },
  {
   "cell_type": "code",
   "execution_count": 55,
   "metadata": {},
   "outputs": [
    {
     "name": "stdout",
     "output_type": "stream",
     "text": [
      "\n",
      "Original array1:\n",
      "[0 1 2]\n",
      "\n",
      "Original array1:\n",
      "[2 1 0]\n",
      "\n",
      "Covariance matrix of the said arrays:\n",
      " [[ 1. -1.]\n",
      " [-1.  1.]]\n"
     ]
    }
   ],
   "source": [
    "import numpy as np\n",
    "array1 = np.array([0, 1, 2])\n",
    "array2 = np.array([2, 1, 0])\n",
    "print(\"\\nOriginal array1:\")\n",
    "print(array1)\n",
    "print(\"\\nOriginal array1:\")\n",
    "print(array2)\n",
    "print(\"\\nCovariance matrix of the said arrays:\\n\",np.cov(array1, array2))"
   ]
  },
  {
   "cell_type": "markdown",
   "metadata": {},
   "source": [
    "# Q97. Write a NumPy program to compute the cross-correlation of two   given arrays ? "
   ]
  },
  {
   "cell_type": "code",
   "execution_count": 56,
   "metadata": {},
   "outputs": [
    {
     "name": "stdout",
     "output_type": "stream",
     "text": [
      "\n",
      "Original array1:\n",
      "[0 1 3]\n",
      "\n",
      "Original array1:\n",
      "[2 4 5]\n",
      "\n",
      "Cross-correlation of the said arrays:\n",
      " [[2.33333333 2.16666667]\n",
      " [2.16666667 2.33333333]]\n"
     ]
    }
   ],
   "source": [
    "import numpy as np\n",
    "array1 = np.array([0, 1, 3])\n",
    "array2 = np.array([2, 4, 5])\n",
    "print(\"\\nOriginal array1:\")\n",
    "print(array1)\n",
    "print(\"\\nOriginal array1:\")\n",
    "print(array2)\n",
    "print(\"\\nCross-correlation of the said arrays:\\n\",np.cov(array1, array2))"
   ]
  },
  {
   "cell_type": "markdown",
   "metadata": {},
   "source": [
    "# Q98. Write the NumPy program to compute Pearson product-moment   correlation coefficients of two given arrays? "
   ]
  },
  {
   "cell_type": "code",
   "execution_count": 57,
   "metadata": {},
   "outputs": [
    {
     "name": "stdout",
     "output_type": "stream",
     "text": [
      "\n",
      "Original array1:\n",
      "[0 1 3]\n",
      "\n",
      "Original array1:\n",
      "[2 4 5]\n",
      "\n",
      "Pearson product-moment correlation coefficients of the said arrays:\n",
      " [[1.         0.92857143]\n",
      " [0.92857143 1.        ]]\n"
     ]
    }
   ],
   "source": [
    "import numpy as np\n",
    "array1 = np.array([0, 1, 3])\n",
    "array2 = np.array([2, 4, 5])\n",
    "print(\"\\nOriginal array1:\")\n",
    "print(array1)\n",
    "print(\"\\nOriginal array1:\")\n",
    "print(array2)\n",
    "print(\"\\nPearson product-moment correlation coefficients of the said arrays:\\n\",np.corrcoef(array1, array2))"
   ]
  },
  {
   "cell_type": "markdown",
   "metadata": {},
   "source": [
    "# Q99. Write the python program to count the number of occurrences of   each value in a given array of non-negative integers? "
   ]
  },
  {
   "cell_type": "code",
   "execution_count": 58,
   "metadata": {},
   "outputs": [
    {
     "name": "stdout",
     "output_type": "stream",
     "text": [
      "Original array:\n",
      "[0, 1, 6, 1, 4, 1, 2, 2, 7]\n",
      "Number of occurrences of each value in array: \n",
      "[1 3 2 0 1 0 1 1]\n"
     ]
    }
   ],
   "source": [
    "import numpy as np\n",
    "array1 = [0, 1, 6, 1, 4, 1, 2, 2, 7] \n",
    "print(\"Original array:\")\n",
    "print(array1)\n",
    "print(\"Number of occurrences of each value in array: \")\n",
    "print(np.bincount(array1))"
   ]
  },
  {
   "cell_type": "markdown",
   "metadata": {},
   "source": [
    "# Q100. Write a Numpy program to compute the histogram of nums   against the bins? "
   ]
  },
  {
   "cell_type": "code",
   "execution_count": 59,
   "metadata": {},
   "outputs": [
    {
     "name": "stdout",
     "output_type": "stream",
     "text": [
      "nums:  [0.5 0.7 1.  1.2 1.3 2.1]\n",
      "bins:  [0 1 2 3]\n",
      "Result: (array([2, 3, 1], dtype=int64), array([0, 1, 2, 3]))\n"
     ]
    },
    {
     "data": {
      "image/png": "[encoded data removed]",
      "text/plain": [
       "<Figure size 432x288 with 1 Axes>"
      ]
     },
     "metadata": {
      "needs_background": "light"
     },
     "output_type": "display_data"
    }
   ],
   "source": [
    "import numpy as np\n",
    "import matplotlib.pyplot as plt\n",
    "nums = np.array([0.5, 0.7, 1.0, 1.2, 1.3, 2.1])\n",
    "bins = np.array([0, 1, 2, 3])\n",
    "print(\"nums: \",nums)\n",
    "print(\"bins: \",bins)\n",
    "print(\"Result:\", np.histogram(nums, bins))\n",
    "plt.hist(nums, bins=bins)\n",
    "plt.show()"
   ]
  },
  {
   "cell_type": "markdown",
   "metadata": {},
   "source": [
    "# Q101. Write the Python program to add, subtract, multiply and divide   two pandas series ?"
   ]
  },
  {
   "cell_type": "code",
   "execution_count": 61,
   "metadata": {},
   "outputs": [
    {
     "name": "stdout",
     "output_type": "stream",
     "text": [
      "Add two Series:\n",
      "0     3\n",
      "1     7\n",
      "2    11\n",
      "3    15\n",
      "4    19\n",
      "dtype: int64\n",
      "Subtract two Series:\n",
      "0    1\n",
      "1    1\n",
      "2    1\n",
      "3    1\n",
      "4    1\n",
      "dtype: int64\n",
      "Multiply two Series:\n",
      "0     2\n",
      "1    12\n",
      "2    30\n",
      "3    56\n",
      "4    90\n",
      "dtype: int64\n",
      "Divide Series1 by Series2:\n",
      "0    2.000000\n",
      "1    1.333333\n",
      "2    1.200000\n",
      "3    1.142857\n",
      "4    1.111111\n",
      "dtype: float64\n"
     ]
    }
   ],
   "source": [
    "import pandas as pd\n",
    "series1 = pd.Series([2, 4, 6, 8, 10])\n",
    "series2 = pd.Series([1, 3, 5, 7, 9])\n",
    "sum_series = series1 + series2\n",
    "print(\"Add two Series:\")\n",
    "print(sum_series)\n",
    "print(\"Subtract two Series:\")\n",
    "diff_series= series1 - series2\n",
    "print(diff_series)\n",
    "print(\"Multiply two Series:\")\n",
    "multiple_series = series1 * series2\n",
    "print(multiple_series)\n",
    "print(\"Divide Series1 by Series2:\")\n",
    "divide_series = series1 / series2\n",
    "print(divide_series)"
   ]
  },
  {
   "cell_type": "markdown",
   "metadata": {},
   "source": [
    "# Q102. Write a Python program to convert a dictionary to the Pandas Series?"
   ]
  },
  {
   "cell_type": "code",
   "execution_count": 62,
   "metadata": {},
   "outputs": [
    {
     "name": "stdout",
     "output_type": "stream",
     "text": [
      "Original dictionary-\n",
      "{'a': 100, 'b': 200, 'c': 300, 'd': 400, 'e': 800}\n",
      "Converted series -\n",
      "a    100\n",
      "b    200\n",
      "c    300\n",
      "d    400\n",
      "e    800\n",
      "dtype: int64\n"
     ]
    }
   ],
   "source": [
    "import pandas as pd\n",
    "dictionary={'a': 100, 'b': 200, 'c': 300, 'd': 400, 'e': 800}\n",
    "print('Original dictionary-')\n",
    "print(dictionary)\n",
    "print('Converted series -')\n",
    "print(pd.Series(dictionary))"
   ]
  },
  {
   "cell_type": "markdown",
   "metadata": {},
   "source": [
    "# Q103. Write a python program to change the data type of given a   column or a Series?"
   ]
  },
  {
   "cell_type": "code",
   "execution_count": 63,
   "metadata": {},
   "outputs": [
    {
     "name": "stdout",
     "output_type": "stream",
     "text": [
      "Original Data Series:\n",
      "0       100\n",
      "1       200\n",
      "2    python\n",
      "3    300.12\n",
      "4       400\n",
      "dtype: object\n",
      "Change the said data type to numeric:\n",
      "0    100.00\n",
      "1    200.00\n",
      "2       NaN\n",
      "3    300.12\n",
      "4    400.00\n",
      "dtype: float64\n"
     ]
    }
   ],
   "source": [
    "import pandas as pd\n",
    "series1 = pd.Series(['100', '200', 'python', '300.12', '400'])\n",
    "print(\"Original Data Series:\")\n",
    "print(series1)\n",
    "print(\"Change the said data type to numeric:\")\n",
    "series2 = pd.to_numeric(series1, errors='coerce')\n",
    "print(series2)"
   ]
  },
  {
   "cell_type": "markdown",
   "metadata": {},
   "source": [
    "# Q104. Write the python pandas program to convert the first column of a DataFrame as a Series?"
   ]
  },
  {
   "cell_type": "code",
   "execution_count": 64,
   "metadata": {},
   "outputs": [
    {
     "name": "stdout",
     "output_type": "stream",
     "text": [
      "Original DataFrame\n",
      "   col1  col2  col3\n",
      "0     1     4     7\n",
      "1     2     5     5\n",
      "2     3     6     8\n",
      "3     4     9    12\n",
      "4     7     5     1\n",
      "5    11     0    11\n",
      "\n",
      "1st column as a Series:\n",
      "0     1\n",
      "1     2\n",
      "2     3\n",
      "3     4\n",
      "4     7\n",
      "5    11\n",
      "Name: col1, dtype: int64\n"
     ]
    },
    {
     "name": "stderr",
     "output_type": "stream",
     "text": [
      "C:\\Users\\manis\\Anaconda3\\lib\\site-packages\\ipykernel_launcher.py:6: DeprecationWarning: \n",
      ".ix is deprecated. Please use\n",
      ".loc for label based indexing or\n",
      ".iloc for positional indexing\n",
      "\n",
      "See the documentation here:\n",
      "http://pandas.pydata.org/pandas-docs/stable/indexing.html#ix-indexer-is-deprecated\n",
      "  \n"
     ]
    }
   ],
   "source": [
    "import pandas as pd\n",
    "Data = {'col1': [1, 2, 3, 4, 7, 11], 'col2': [4, 5, 6, 9, 5, 0], 'col3': [7, 5, 8, 12, 1,11]}\n",
    "dataframe = pd.DataFrame(data=Data)\n",
    "print(\"Original DataFrame\")\n",
    "print(dataframe)\n",
    "series1 = dataframe.ix[:,0]\n",
    "print(\"\\n1st column as a Series:\")\n",
    "print(series1)"
   ]
  },
  {
   "cell_type": "markdown",
   "metadata": {},
   "source": [
    "# Q105. Write a pandas program to create the mean and standard deviation of the data of a given Series?"
   ]
  },
  {
   "cell_type": "code",
   "execution_count": 65,
   "metadata": {},
   "outputs": [
    {
     "name": "stdout",
     "output_type": "stream",
     "text": [
      "Original Data Series:\n",
      "0     1\n",
      "1     2\n",
      "2     3\n",
      "3     4\n",
      "4     5\n",
      "5     6\n",
      "6     7\n",
      "7     8\n",
      "8     9\n",
      "9     5\n",
      "10    3\n",
      "dtype: int64\n",
      "Mean of the said Data Series:\n",
      "4.818181818181818\n",
      "Standard deviation of the said Data Series:\n",
      "2.522624895547565\n"
     ]
    }
   ],
   "source": [
    "import pandas as pd\n",
    "series = pd.Series(data = [1,2,3,4,5,6,7,8,9,5,3])\n",
    "print(\"Original Data Series:\")\n",
    "print(series)\n",
    "print(\"Mean of the said Data Series:\")\n",
    "print(series.mean())\n",
    "print(\"Standard deviation of the said Data Series:\")\n",
    "print(series.std())"
   ]
  },
  {
   "cell_type": "markdown",
   "metadata": {},
   "source": [
    "# Q106. Write a pandas program to get powers of an array values   element-wise?"
   ]
  },
  {
   "cell_type": "code",
   "execution_count": 66,
   "metadata": {},
   "outputs": [
    {
     "name": "stdout",
     "output_type": "stream",
     "text": [
      "    X   Y   Z\n",
      "0  78  84  86\n",
      "1  85  94  97\n",
      "2  96  89  96\n",
      "3  80  83  72\n",
      "4  86  86  83\n"
     ]
    }
   ],
   "source": [
    "import pandas as pd\n",
    "dataframe = pd.DataFrame({'X':[78,85,96,80,86], 'Y':[84,94,89,83,86],'Z':[86,97,96,72,83]})\n",
    "print(dataframe)"
   ]
  },
  {
   "cell_type": "markdown",
   "metadata": {},
   "source": [
    "# Q107. Write the pandas program to get the first 3 rows of a given DataFrame?"
   ]
  },
  {
   "cell_type": "code",
   "execution_count": 67,
   "metadata": {},
   "outputs": [
    {
     "name": "stdout",
     "output_type": "stream",
     "text": [
      "First three rows of the data frame:\n",
      "        name  score  attempts qualify\n",
      "a  Anastasia   12.5         1     yes\n",
      "b       Dima    9.0         3      no\n",
      "c  Katherine   16.5         2     yes\n"
     ]
    }
   ],
   "source": [
    "import pandas as pd\n",
    "import numpy as np\n",
    "\n",
    "exam_data  = {'name': ['Anastasia', 'Dima', 'Katherine', 'James', 'Emily', 'Michael', 'Matthew', 'Laura', 'Kevin', 'Jonas'],'score': [12.5, 9, 16.5, np.nan, 9, 20, 14.5, np.nan, 8, 19],'attempts': [1, 3, 2, 3, 2, 3, 1, 1, 2, 1],'qualify': ['yes', 'no', 'yes', 'no', 'no', 'yes', 'yes', 'no', 'no', 'yes']}\n",
    "labels = ['a', 'b', 'c', 'd', 'e', 'f', 'g', 'h', 'i', 'j']\n",
    "\n",
    "df = pd.DataFrame(exam_data , index=labels)\n",
    "print(\"First three rows of the data frame:\")\n",
    "print(df.iloc[:3])"
   ]
  },
  {
   "cell_type": "markdown",
   "metadata": {},
   "source": [
    "# Q108:  Write the pandas program to select the specified columns and the rows from a given data frame?"
   ]
  },
  {
   "cell_type": "code",
   "execution_count": 68,
   "metadata": {},
   "outputs": [
    {
     "name": "stdout",
     "output_type": "stream",
     "text": [
      "Select specific columns and rows:\n",
      "      name  score\n",
      "b     Dima    9.0\n",
      "d    James    NaN\n",
      "f  Michael   20.0\n",
      "g  Matthew   14.5\n"
     ]
    }
   ],
   "source": [
    "import pandas as pd\n",
    "import numpy as np\n",
    "\n",
    "exam_data  = {'name': ['Anastasia', 'Dima', 'Katherine', 'James', 'Emily', 'Michael', 'Matthew', 'Laura', 'Kevin', 'Jonas'],\n",
    "        'score': [12.5, 9, 16.5, np.nan, 9, 20, 14.5, np.nan, 8, 19],\n",
    "        'attempts': [1, 3, 2, 3, 2, 3, 1, 1, 2, 1],\n",
    "        'qualify': ['yes', 'no', 'yes', 'no', 'no', 'yes', 'yes', 'no', 'no', 'yes']}\n",
    "labels = ['a', 'b', 'c', 'd', 'e', 'f', 'g', 'h', 'i', 'j']\n",
    "\n",
    "df = pd.DataFrame(exam_data , index=labels)\n",
    "print(\"Select specific columns and rows:\")\n",
    "print(df.iloc[[1,3, 5, 6], [0,1]])"
   ]
  },
  {
   "cell_type": "markdown",
   "metadata": {},
   "source": [
    "# Q109. Write the pandas program to calculate mean score for each   different student in DataFrame?"
   ]
  },
  {
   "cell_type": "code",
   "execution_count": 69,
   "metadata": {},
   "outputs": [
    {
     "name": "stdout",
     "output_type": "stream",
     "text": [
      "\n",
      "Mean score for each different student in data frame:\n",
      "13.5625\n"
     ]
    }
   ],
   "source": [
    "import pandas as pd\n",
    "import numpy as np\n",
    "exam_data  = {'name': ['Anastasia', 'Dima', 'Katherine', 'James', 'Emily', 'Michael', 'Matthew', 'Laura', 'Kevin', 'Jonas'],\n",
    "        'score': [12.5, 9, 16.5, np.nan, 9, 20, 14.5, np.nan, 8, 19],\n",
    "        'attempts': [1, 3, 2, 3, 2, 3, 1, 1, 2, 1],\n",
    "        'qualify': ['yes', 'no', 'yes', 'no', 'no', 'yes', 'yes', 'no', 'no', 'yes']}\n",
    "labels = ['a', 'b', 'c', 'd', 'e', 'f', 'g', 'h', 'i', 'j']\n",
    "\n",
    "df = pd.DataFrame(exam_data , index=labels)\n",
    "print(\"\\nMean score for each different student in data frame:\")\n",
    "print(df['score'].mean())"
   ]
  },
  {
   "cell_type": "markdown",
   "metadata": {},
   "source": [
    "# Q110. Write the Pandas program to rename columns of a given DataFrame?"
   ]
  },
  {
   "cell_type": "code",
   "execution_count": 71,
   "metadata": {},
   "outputs": [
    {
     "name": "stdout",
     "output_type": "stream",
     "text": [
      "Original DataFrame\n",
      "   col1  col2  col3\n",
      "0     1     4     7\n",
      "1     2     5     8\n",
      "2     3     6     9\n",
      "New DataFrame after renaming columns:\n",
      "   Column1  Column2  Column3\n",
      "0        1        4        7\n",
      "1        2        5        8\n",
      "2        3        6        9\n"
     ]
    }
   ],
   "source": [
    "import pandas as pd\n",
    "Data = {'col1': [1, 2, 3], 'col2': [4, 5, 6], 'col3': [7, 8, 9]}\n",
    "dataframe = pd.DataFrame(data=Data)\n",
    "print(\"Original DataFrame\")\n",
    "print(dataframe)\n",
    "dataframe.columns = ['Column1', 'Column2', 'Column3']\n",
    "dataframe = dataframe.rename(columns={'col1': 'Column1', 'col2': 'Column2', 'col3': 'Column3'})\n",
    "print(\"New DataFrame after renaming columns:\")\n",
    "print(dataframe)"
   ]
  },
  {
   "cell_type": "markdown",
   "metadata": {},
   "source": [
    "# Q111. Write a pandas program to count city-wise number of people from a given of data set (city, name of the person)?"
   ]
  },
  {
   "cell_type": "code",
   "execution_count": 72,
   "metadata": {},
   "outputs": [
    {
     "name": "stdout",
     "output_type": "stream",
     "text": [
      "          city  Number of people\n",
      "0   California                 4\n",
      "1      Georgia                 2\n",
      "2  Los Angeles                 4\n"
     ]
    }
   ],
   "source": [
    "import pandas as pd\n",
    "dataframe1 = pd.DataFrame({'name': ['Anastasia', 'Dima', 'Katherine', 'James', 'Emily', 'Michael', 'Matthew', 'Laura', 'Kevin', 'Jonas'],\n",
    "'city': ['California', 'Los Angeles', 'California', 'California', 'California', 'Los Angeles', 'Los Angeles', 'Georgia', 'Georgia', 'Los Angeles']})\n",
    "group1 = dataframe1.groupby([\"city\"]).size().reset_index(name='Number of people')\n",
    "print(group1)"
   ]
  },
  {
   "cell_type": "markdown",
   "metadata": {},
   "source": [
    "# Q112. Write a pandas program to widen output display to see more columns? "
   ]
  },
  {
   "cell_type": "code",
   "execution_count": 73,
   "metadata": {},
   "outputs": [
    {
     "name": "stdout",
     "output_type": "stream",
     "text": [
      "Original DataFrame\n",
      "   col1  col2  col3\n",
      "0     1     4     7\n",
      "1     4     5     8\n",
      "2     3     6     9\n",
      "3     4     7     0\n",
      "4     5     8     1\n"
     ]
    }
   ],
   "source": [
    "import pandas as pd\n",
    "import numpy as np\n",
    "Data = {'col1': [1, 4, 3, 4, 5], 'col2': [4, 5, 6, 7, 8], 'col3': [7, 8, 9, 0, 1]}\n",
    "dataframe = pd.DataFrame(data=Data)\n",
    "pd.set_option('display.max_rows', 500)\n",
    "pd.set_option('display.max_columns', 500)\n",
    "pd.set_option('display.width', 1000)\n",
    "print(\"Original DataFrame\")\n",
    "print(dataframe)"
   ]
  },
  {
   "cell_type": "markdown",
   "metadata": {},
   "source": [
    "# Q113. Write a pandas program to convert the data frame column type from string to DateTime?"
   ]
  },
  {
   "cell_type": "code",
   "execution_count": 74,
   "metadata": {},
   "outputs": [
    {
     "name": "stdout",
     "output_type": "stream",
     "text": [
      "String Date:\n",
      "0    3/11/2000\n",
      "1    3/12/2000\n",
      "2    3/13/2000\n",
      "dtype: object\n",
      "Original DataFrame (string to datetime):\n",
      "           0\n",
      "0 2000-03-11\n",
      "1 2000-03-12\n",
      "2 2000-03-13\n"
     ]
    }
   ],
   "source": [
    "import pandas as pd\n",
    "import numpy as np\n",
    "series = pd.Series(['3/11/2000', '3/12/2000', '3/13/2000'])\n",
    "print(\"String Date:\")\n",
    "print(series)\n",
    "date_time = pd.to_datetime(pd.Series(series))\n",
    "dataframe = pd.DataFrame(date_time)\n",
    "print(\"Original DataFrame (string to datetime):\")\n",
    "print(dataframe)"
   ]
  },
  {
   "cell_type": "markdown",
   "metadata": {},
   "source": [
    "# Q114. Write a pandas program to append the data to an empty DataFrame?"
   ]
  },
  {
   "cell_type": "code",
   "execution_count": 75,
   "metadata": {},
   "outputs": [
    {
     "name": "stdout",
     "output_type": "stream",
     "text": [
      "After appending some data:\n",
      "   col1  col2\n",
      "0     0     0\n",
      "1     1     1\n",
      "2     2     2\n"
     ]
    }
   ],
   "source": [
    "import pandas as pd\n",
    "import numpy as np\n",
    "dataframe = pd.DataFrame()\n",
    "data_to_append = pd.DataFrame({\"col1\": range(3),\"col2\": range(3)})\n",
    "print(\"After appending some data:\")\n",
    "dataframe = dataframe.append(data_to_append)\n",
    "print(dataframe)"
   ]
  },
  {
   "cell_type": "markdown",
   "metadata": {},
   "source": [
    "# Q115. Write a pandas program to count the  number of columns of a   DataFrame?"
   ]
  },
  {
   "cell_type": "code",
   "execution_count": 76,
   "metadata": {},
   "outputs": [
    {
     "name": "stdout",
     "output_type": "stream",
     "text": [
      "Original DataFrame\n",
      "   col1  col2  col3\n",
      "0     1     4     7\n",
      "1     2     5     8\n",
      "2     3     6    12\n",
      "3     4     9     1\n",
      "4     7     5    11\n",
      "\n",
      "Number of columns:\n",
      "3\n"
     ]
    }
   ],
   "source": [
    "import pandas as pd\n",
    "Data = {'col1': [1, 2, 3, 4, 7], 'col2': [4, 5, 6, 9, 5], 'col3': [7, 8, 12, 1, 11]}\n",
    "dataframe = pd.DataFrame(data=Data)\n",
    "print(\"Original DataFrame\")\n",
    "print(dataframe)\n",
    "print(\"\\nNumber of columns:\")\n",
    "print(len(dataframe.columns))"
   ]
  },
  {
   "cell_type": "markdown",
   "metadata": {},
   "source": [
    "# Q116. Write a Pandas program to remove the last n rows of a given DataFrame?"
   ]
  },
  {
   "cell_type": "code",
   "execution_count": 77,
   "metadata": {},
   "outputs": [
    {
     "name": "stdout",
     "output_type": "stream",
     "text": [
      "Original DataFrame\n",
      "   col1  col2  col3\n",
      "0     1     4     7\n",
      "1     2     5     5\n",
      "2     3     6     8\n",
      "3     4     9    12\n",
      "4     7     5     1\n",
      "5    11     0    11\n",
      "\n",
      "After removing last 3 rows of the said DataFrame:\n",
      "   col1  col2  col3\n",
      "0     1     4     7\n",
      "1     2     5     5\n",
      "2     3     6     8\n"
     ]
    }
   ],
   "source": [
    "import pandas as pd\n",
    "Data = {'col1': [1, 2, 3, 4, 7, 11], 'col2': [4, 5, 6, 9, 5, 0], 'col3': [7, 5, 8, 12, 1,11]}\n",
    "dataframe = pd.DataFrame(data=Data)\n",
    "print(\"Original DataFrame\")\n",
    "print(dataframe)\n",
    "print(\"\\nAfter removing last 3 rows of the said DataFrame:\")\n",
    "dataframe1 = dataframe.iloc[:-3]\n",
    "print(dataframe1)"
   ]
  },
  {
   "cell_type": "markdown",
   "metadata": {},
   "source": [
    "# Q117. Write a Pandas program to import excel data (coalpublic2013.xlsx) into a Pandas data frame."
   ]
  },
  {
   "cell_type": "code",
   "execution_count": 78,
   "metadata": {},
   "outputs": [
    {
     "name": "stdout",
     "output_type": "stream",
     "text": [
      "<bound method NDFrame.head of     Year  MSHA ID                       Mine_Name Production Labor_Hours\n",
      "0   2013   103381            Tacoa Highwall Miner     56.004      22.392\n",
      "1   2013   103404                Reid School Mine     28.807       8.447\n",
      "2   2013   100759  North River #1 Underground Min  14,40,115    4,74,784\n",
      "3   2013   103246                      Bear Creek     87.587      29.193\n",
      "4   2013   103451                     Knight Mine   1,47,499      46.393\n",
      "5   2013   103433              Crane Central Mine     69.339      47.195\n",
      "6   2013   100329                    Concord Mine          0    1,44,002\n",
      "7   2013   100851                  Oak Grove Mine  22,69,014   10,01,809\n",
      "8   2013   102901                Shoal Creek Mine          0      12.396\n",
      "9   2013   102901                Shoal Creek Mine  14,53,024   12,37,415\n",
      "10  2013   103180             Sloan Mountain Mine   3,27,780    1,96,963\n",
      "11  2013   103182                        Fishtrap   1,75,058      87.314\n",
      "12  2013   103285                     Narley Mine   1,54,861      90.584\n",
      "13  2013   103332                   Powhatan Mine   1,40,521      61.394\n",
      "14  2013   103375                    Johnson Mine        580         1.9\n",
      "15  2013   103419               Maxine-Pratt Mine   1,25,824    1,07,469\n",
      "16  2013   103432                   Skelton Creek      8.252         220\n",
      "17  2013   103437           Black Warrior Mine No  11,45,924      70.926\n",
      "18  2013   102976   Piney Woods Preparation Plant          0      14.828\n",
      "19  2013   102976   Piney Woods Preparation Plant          0      23.193\n",
      "20  2013   103380                          Calera          0      12.621\n",
      "21  2013   103380                          Calera          0       1.402\n",
      "22  2013   103422                 Clark No 1 Mine   1,22,727    1,40,250\n",
      "23  2013   103467             Helena Surface Mine     59.664      30.539\n",
      "24  2013   101247                       No 4 Mine  26,22,528   15,51,141\n",
      "25  2013   101401                       No 7 Mine  54,05,412   24,64,719\n",
      "26  2013   103172   Searles Mine No.2, 3, 4, 5, 6   2,58,078    1,19,542\n",
      "27  2013   103179             Fleetwood Mine No 1     75.937      63.745\n",
      "28  2013   103303                    Shannon Mine   3,17,491    1,64,388\n",
      "29  2013   103323                   Deerlick Mine   1,33,452      46.381\n",
      "30  2013   103364           Brc Alabama No. 7 Llc          0      14.324\n",
      "31  2013   103436                Swann's Crossing   1,37,511       77.19\n",
      "32  2013   100347                    Choctaw Mine   5,37,429    2,15,295\n",
      "33  2013   101362                 Manchester Mine   2,19,457    1,16,914\n",
      "34  2013   102996                  Jap Creek Mine   3,75,715    1,64,093\n",
      "35  2013   103155              Corinth Prep Plant          0      27.996\n",
      "36  2013   103155              Corinth Prep Plant          0      51.994\n",
      "37  2013   103195     Mccollum/Sparks Branch Mine      71.91      17.411\n",
      "38  2013   103342             Reese's Branch Mine   2,63,888    1,15,123\n",
      "39  2013   103370             Cresent Valley Mine       2.86         621\n",
      "40  2013   103372                 Cane Creek Mine     66.258      32.401\n",
      "41  2013   103376                      Town Creek   2,99,167    1,76,499\n",
      "42  2013   103389                Carbon Hill Mine     76.241      84.966\n",
      "43  2013   103410                Coal Valley Mine   4,07,841    1,58,591\n",
      "44  2013   103423                Dutton Hill Mine     37.275       9.162\n",
      "45  2013  1519322                         Ghm #25     25.054       3.108\n",
      "46  2013   103321                  Poplar Springs   1,89,370      76.366\n",
      "47  2013   103358                       Old Union   2,84,563    1,61,805\n",
      "48  2013  5000030                        Usibelli  16,31,584    2,86,079\n",
      "49  2013   201195                    Kayenta Mine  76,02,722   10,15,333>\n"
     ]
    }
   ],
   "source": [
    "import pandas as pd\n",
    "import numpy as np\n",
    "df = pd.read_excel(\"C:\\Test Data\\coalpublic2013.xlsx\")\n",
    "print(df.head)"
   ]
  },
  {
   "cell_type": "markdown",
   "metadata": {},
   "source": [
    "# Q118. Write a Pandas program to import excel data (coalpublic2013.xlsx   ) into a data frame and find details where \"Mine Name\" starts with \"P\"."
   ]
  },
  {
   "cell_type": "code",
   "execution_count": 79,
   "metadata": {},
   "outputs": [
    {
     "data": {
      "text/html": [
       "<div>\n",
       "<style scoped>\n",
       "    .dataframe tbody tr th:only-of-type {\n",
       "        vertical-align: middle;\n",
       "    }\n",
       "\n",
       "    .dataframe tbody tr th {\n",
       "        vertical-align: top;\n",
       "    }\n",
       "\n",
       "    .dataframe thead th {\n",
       "        text-align: right;\n",
       "    }\n",
       "</style>\n",
       "<table border=\"1\" class=\"dataframe\">\n",
       "  <thead>\n",
       "    <tr style=\"text-align: right;\">\n",
       "      <th></th>\n",
       "      <th>Year</th>\n",
       "      <th>MSHA ID</th>\n",
       "      <th>Mine_Name</th>\n",
       "      <th>Production</th>\n",
       "      <th>Labor_Hours</th>\n",
       "    </tr>\n",
       "  </thead>\n",
       "  <tbody>\n",
       "    <tr>\n",
       "      <th>13</th>\n",
       "      <td>2013</td>\n",
       "      <td>103332</td>\n",
       "      <td>Powhatan Mine</td>\n",
       "      <td>1,40,521</td>\n",
       "      <td>61.394</td>\n",
       "    </tr>\n",
       "    <tr>\n",
       "      <th>18</th>\n",
       "      <td>2013</td>\n",
       "      <td>102976</td>\n",
       "      <td>Piney Woods Preparation Plant</td>\n",
       "      <td>0</td>\n",
       "      <td>14.828</td>\n",
       "    </tr>\n",
       "    <tr>\n",
       "      <th>19</th>\n",
       "      <td>2013</td>\n",
       "      <td>102976</td>\n",
       "      <td>Piney Woods Preparation Plant</td>\n",
       "      <td>0</td>\n",
       "      <td>23.193</td>\n",
       "    </tr>\n",
       "    <tr>\n",
       "      <th>46</th>\n",
       "      <td>2013</td>\n",
       "      <td>103321</td>\n",
       "      <td>Poplar Springs</td>\n",
       "      <td>1,89,370</td>\n",
       "      <td>76.366</td>\n",
       "    </tr>\n",
       "  </tbody>\n",
       "</table>\n",
       "</div>"
      ],
      "text/plain": [
       "    Year  MSHA ID                      Mine_Name Production Labor_Hours\n",
       "13  2013   103332                  Powhatan Mine   1,40,521      61.394\n",
       "18  2013   102976  Piney Woods Preparation Plant          0      14.828\n",
       "19  2013   102976  Piney Woods Preparation Plant          0      23.193\n",
       "46  2013   103321                 Poplar Springs   1,89,370      76.366"
      ]
     },
     "execution_count": 79,
     "metadata": {},
     "output_type": "execute_result"
    }
   ],
   "source": [
    "import pandas as pd\n",
    "import numpy as np\n",
    "df = pd.read_excel('C:\\Test Data\\coalpublic2013.xlsx')    \n",
    "df[df[\"Mine_Name\"].map(lambda x: x.startswith('P'))]"
   ]
  },
  {
   "cell_type": "markdown",
   "metadata": {},
   "source": [
    "# Q119. Write a Pandas program to import excel data (employee.xlsx )  into a Pandas dataframe and find the list of employees where   hire_date> 01-01-07."
   ]
  },
  {
   "cell_type": "code",
   "execution_count": 80,
   "metadata": {},
   "outputs": [
    {
     "data": {
      "text/html": [
       "<div>\n",
       "<style scoped>\n",
       "    .dataframe tbody tr th:only-of-type {\n",
       "        vertical-align: middle;\n",
       "    }\n",
       "\n",
       "    .dataframe tbody tr th {\n",
       "        vertical-align: top;\n",
       "    }\n",
       "\n",
       "    .dataframe thead th {\n",
       "        text-align: right;\n",
       "    }\n",
       "</style>\n",
       "<table border=\"1\" class=\"dataframe\">\n",
       "  <thead>\n",
       "    <tr style=\"text-align: right;\">\n",
       "      <th></th>\n",
       "      <th>emp_id</th>\n",
       "      <th>first_name</th>\n",
       "      <th>last_name</th>\n",
       "      <th>hire_date</th>\n",
       "    </tr>\n",
       "  </thead>\n",
       "  <tbody>\n",
       "    <tr>\n",
       "      <th>4</th>\n",
       "      <td>104</td>\n",
       "      <td>Bruce</td>\n",
       "      <td>Ernst</td>\n",
       "      <td>2007-05-21</td>\n",
       "    </tr>\n",
       "    <tr>\n",
       "      <th>7</th>\n",
       "      <td>107</td>\n",
       "      <td>Diana</td>\n",
       "      <td>Lorentz</td>\n",
       "      <td>2007-02-07</td>\n",
       "    </tr>\n",
       "    <tr>\n",
       "      <th>13</th>\n",
       "      <td>113</td>\n",
       "      <td>Luis</td>\n",
       "      <td>Popp</td>\n",
       "      <td>2007-12-07</td>\n",
       "    </tr>\n",
       "    <tr>\n",
       "      <th>19</th>\n",
       "      <td>119</td>\n",
       "      <td>Karen</td>\n",
       "      <td>Colmenares</td>\n",
       "      <td>2007-08-10</td>\n",
       "    </tr>\n",
       "    <tr>\n",
       "      <th>24</th>\n",
       "      <td>124</td>\n",
       "      <td>Kevin</td>\n",
       "      <td>Mourgos</td>\n",
       "      <td>2007-11-16</td>\n",
       "    </tr>\n",
       "    <tr>\n",
       "      <th>27</th>\n",
       "      <td>127</td>\n",
       "      <td>James</td>\n",
       "      <td>Landry</td>\n",
       "      <td>2007-01-14</td>\n",
       "    </tr>\n",
       "    <tr>\n",
       "      <th>28</th>\n",
       "      <td>128</td>\n",
       "      <td>Steven</td>\n",
       "      <td>Markle</td>\n",
       "      <td>2008-03-08</td>\n",
       "    </tr>\n",
       "    <tr>\n",
       "      <th>32</th>\n",
       "      <td>132</td>\n",
       "      <td>TJ</td>\n",
       "      <td>Olson</td>\n",
       "      <td>2007-04-10</td>\n",
       "    </tr>\n",
       "    <tr>\n",
       "      <th>35</th>\n",
       "      <td>135</td>\n",
       "      <td>Ki</td>\n",
       "      <td>Gee</td>\n",
       "      <td>2007-12-12</td>\n",
       "    </tr>\n",
       "    <tr>\n",
       "      <th>36</th>\n",
       "      <td>136</td>\n",
       "      <td>Hazel</td>\n",
       "      <td>Philtanker</td>\n",
       "      <td>2008-02-06</td>\n",
       "    </tr>\n",
       "    <tr>\n",
       "      <th>46</th>\n",
       "      <td>148</td>\n",
       "      <td>Gerald</td>\n",
       "      <td>Cambrault</td>\n",
       "      <td>2007-10-15</td>\n",
       "    </tr>\n",
       "    <tr>\n",
       "      <th>47</th>\n",
       "      <td>149</td>\n",
       "      <td>Eleni</td>\n",
       "      <td>Zlotkey</td>\n",
       "      <td>2008-01-29</td>\n",
       "    </tr>\n",
       "  </tbody>\n",
       "</table>\n",
       "</div>"
      ],
      "text/plain": [
       "    emp_id first_name   last_name  hire_date\n",
       "4      104      Bruce       Ernst 2007-05-21\n",
       "7      107      Diana     Lorentz 2007-02-07\n",
       "13     113       Luis        Popp 2007-12-07\n",
       "19     119      Karen  Colmenares 2007-08-10\n",
       "24     124      Kevin     Mourgos 2007-11-16\n",
       "27     127      James      Landry 2007-01-14\n",
       "28     128     Steven      Markle 2008-03-08\n",
       "32     132         TJ       Olson 2007-04-10\n",
       "35     135         Ki         Gee 2007-12-12\n",
       "36     136      Hazel  Philtanker 2008-02-06\n",
       "46     148     Gerald   Cambrault 2007-10-15\n",
       "47     149      Eleni     Zlotkey 2008-01-29"
      ]
     },
     "execution_count": 80,
     "metadata": {},
     "output_type": "execute_result"
    }
   ],
   "source": [
    "import pandas as pd\n",
    "df = pd.read_excel('C:\\Test Data\\employee.xlsx')    \n",
    "result = df[(df['hire_date'] >='01-01-2007')]\n",
    "result"
   ]
  },
  {
   "cell_type": "markdown",
   "metadata": {},
   "source": [
    "# Q120.  Write a Pandas program to import excel data (employee.xlsx ) into a Pandas dataframe and  find a list of the employees of a specified year"
   ]
  },
  {
   "cell_type": "code",
   "execution_count": null,
   "metadata": {},
   "outputs": [],
   "source": [
    "import pandas as pd\n",
    "df = pd.read_excel('C:\\Test Data\\employee.xlsx')\n",
    "df2 = df.set_index(['hire_date'])\n",
    "result_2008 = df2[\"2008\"]\n",
    "print('*'*40+' Employees of 2008 '+'*'*40)\n",
    "print(result_2008)\n",
    "result_2005 = df2[\"2005\"]\n",
    "print('*'*40+' Employees of 2005 '+'*'*40)\n",
    "print(result_2005)"
   ]
  },
  {
   "cell_type": "markdown",
   "metadata": {},
   "source": [
    "# Q121. Write a pandas program to import three datasheets from a given excel data  (coalpublic2013.xlsx ) in to a single dataframe."
   ]
  },
  {
   "cell_type": "code",
   "execution_count": null,
   "metadata": {},
   "outputs": [],
   "source": [
    "import pandas as pd\n",
    "df1 = pd.read_excel('C:\\Test Data\\coalpublic2013.xlsx',sheet_name=0)\n",
    "df2 = pd.read_excel('C:\\Test Data\\coalpublic2013.xlsx',sheet_name=1)\n",
    "df3 = pd.read_excel('C:\\Test Data\\coalpublic2013.xlsx',sheet_name=2)\n",
    "df = pd.concat([df1, df2, df3])\n",
    "print(df)"
   ]
  },
  {
   "cell_type": "markdown",
   "metadata": {},
   "source": [
    "# Q 122. Write a pandas program to import three datasheets from a given   excel data (employee.xlsx ) into a single data frame and export the   result into new Excel file."
   ]
  },
  {
   "cell_type": "code",
   "execution_count": null,
   "metadata": {},
   "outputs": [],
   "source": [
    "import pandas as pd\n",
    "df1 = pd.read_excel('C:\\Test Data\\employee.xlsx',sheet_name=0)\n",
    "df2 = pd.read_excel('C:\\Test Data\\employee.xlsx',sheet_name=1)\n",
    "df3 = pd.read_excel('C:\\Test Data\\employee.xlsx',sheet_name=2)\n",
    "df = pd.concat([df1, df2, df3])\n",
    "df = pd.concat([df1, df2, df3])\n",
    "df.to_excel('C:\\Test Data\\output_excel.xlsx', index=False)"
   ]
  },
  {
   "cell_type": "markdown",
   "metadata": {},
   "source": [
    "# Q123. Write a pandas program to create the Pivot table with multiple   indexes from the data set of the  titanic.csv."
   ]
  },
  {
   "cell_type": "code",
   "execution_count": 87,
   "metadata": {},
   "outputs": [
    {
     "name": "stdout",
     "output_type": "stream",
     "text": [
      "                  Fare  Parch  PassengerId  Pclass  SibSp  Survived\n",
      "Sex    Age                                                         \n",
      "female 2.00    31.2750      2          120       3      4         0\n",
      "       3.00    41.5792      2           44       2      1         1\n",
      "       4.00    16.7000      1           11       3      1         1\n",
      "       5.00    27.7500      2           59       2      1         1\n",
      "       8.00    21.0750      1           25       3      3         0\n",
      "       9.00    34.3750      2          148       3      2         0\n",
      "       14.00   49.1667      0           65       8      2         2\n",
      "       14.50   14.4542      0          112       3      1         0\n",
      "       15.00    8.0292      0           23       3      0         1\n",
      "       16.00   46.9000      2           72       3      5         0\n",
      "       17.00   32.8833      2          269       8      4         2\n",
      "       18.00   35.8000      0           89       6      3         0\n",
      "       19.00   34.1625      2          182       4      0         2\n",
      "       20.00    9.8250      0          114       3      1         0\n",
      "       21.00   18.1500      0          164       5      0         2\n",
      "       22.00   74.3500      0          294       4      1         2\n",
      "       23.00  263.0000      2           89       1      3         1\n",
      "       24.00   15.8500      0          143       3      1         1\n",
      "       26.00    7.9250      0            3       3      0         1\n",
      "       27.00   32.1333      2           51       5      1         1\n",
      "       28.00    7.8958      0          101       3      0         0\n",
      "       29.00   62.5000      0          255       6      2         3\n",
      "       30.00   12.4750      0           80       3      0         1\n",
      "       31.00   18.0000      0           19       3      1         0\n",
      "       32.50   13.0000      0          124       2      0         1\n",
      "       33.00   15.8500      0           86       3      3         1\n",
      "       34.00   23.0000      1           99       2      0         1\n",
      "       35.00   53.1000      0            4       1      1         1\n",
      "       38.00  182.6708      5           90       5      2         3\n",
      "       40.00    9.4750      0           41       3      1         0\n",
      "       47.00   14.5000      0          133       3      1         0\n",
      "       49.00   76.7292      0           53       1      1         1\n",
      "       55.00   16.0000      0           16       2      0         1\n",
      "       58.00   26.5500      0           12       1      0         1\n",
      "male   0.83    29.0000      2           79       2      0         1\n",
      "       2.00    50.2000      2           25       6      7         0\n",
      "       4.00    27.9000      2           64       3      3         0\n",
      "       7.00    39.6875      1           51       3      4         0\n",
      "       11.00   46.9000      2           60       3      5         0\n",
      "       12.00   11.2417      0          126       3      1         1\n",
      "       16.00   43.5917      3          226       6      1         0\n",
      "       18.00   11.5000      0          145       2      0         0\n",
      "       19.00  314.6583      3          386       9      4         0\n",
      "       20.00   22.9542      0          237       9      0         0\n",
      "       21.00  248.0625      1          503      14      2         0\n",
      "       22.00   31.5292      0          256      12      1         0\n",
      "       23.00   78.4041      1          234       3      0         1\n",
      "       24.00  341.9125      1          477       8      0         1\n",
      "       25.00   20.6500      0          211       5      0         0\n",
      "       26.00   43.6917      2          238       9      4         0\n",
      "       27.00    7.7958      0          147       3      0         1\n",
      "       28.00  172.6666      0          249       6      1         1\n",
      "       28.50    7.2292      0           58       3      0         0\n",
      "       29.00   38.5500      0          291       8      1         1\n",
      "       32.00   66.9958      0          146       5      0         1\n",
      "       32.50   30.0708      0          123       2      1         0\n",
      "       33.00   16.5500      0          235       6      0         0\n",
      "       34.00   39.0000      0          122       4      1         1\n",
      "       35.00   34.0500      0           26       5      0         0\n",
      "       36.50   26.0000      2          149       2      0         0\n",
      "       37.00   61.0250      0          243       4      3         0\n",
      "       38.00    7.8958      0          109       3      0         0\n",
      "       39.00   31.2750      5           14       3      1         0\n",
      "       40.00   27.7208      0           31       1      0         0\n",
      "       40.50   14.5000      2          154       3      0         0\n",
      "       42.00   65.0000      0          186       3      1         0\n",
      "       45.00   90.4500      0          193       4      1         0\n",
      "       46.00   61.1750      0           93       1      1         0\n",
      "       47.00   52.0000      0          111       1      0         0\n",
      "       51.00   73.9042      1          307       3      0         0\n",
      "       54.00  129.1500      1          132       2      0         0\n",
      "       55.50    8.0500      0          153       3      0         0\n",
      "       59.00    7.2500      0           95       3      0         0\n",
      "       65.00   61.9792      1           55       1      0         0\n",
      "       66.00   10.5000      0           34       2      0         0\n",
      "       70.50    7.7500      0          117       3      0         0\n",
      "       71.00   34.6542      0           97       1      0         0\n"
     ]
    }
   ],
   "source": [
    "import pandas as pd\n",
    "df = pd.read_csv('titanic.csv',sep='\\t')\n",
    "result = pd.pivot_table(df, index = [\"Sex\",\"Age\"], aggfunc=np.sum)\n",
    "print(result)"
   ]
  },
  {
   "cell_type": "markdown",
   "metadata": {},
   "source": [
    "# Q124. Write a Pandas program to create the Pivot table and find survival   rate by gender? "
   ]
  },
  {
   "cell_type": "code",
   "execution_count": 88,
   "metadata": {},
   "outputs": [
    {
     "name": "stdout",
     "output_type": "stream",
     "text": [
      "Pclass               1    2    3\n",
      "Sex    Age                      \n",
      "female 2.00        NaN  NaN  0.0\n",
      "       3.00        NaN  1.0  NaN\n",
      "       4.00        NaN  NaN  1.0\n",
      "       5.00        NaN  1.0  NaN\n",
      "       8.00        NaN  NaN  0.0\n",
      "       9.00        NaN  NaN  0.0\n",
      "       14.00       NaN  1.0  0.5\n",
      "       14.50       NaN  NaN  0.0\n",
      "       15.00       NaN  NaN  1.0\n",
      "       16.00       NaN  NaN  0.0\n",
      "       17.00       NaN  1.0  0.5\n",
      "       18.00       NaN  NaN  0.0\n",
      "       19.00  1.000000  NaN  1.0\n",
      "       20.00       NaN  NaN  0.0\n",
      "       21.00       NaN  1.0  1.0\n",
      "       22.00  1.000000  NaN  1.0\n",
      "       23.00  1.000000  NaN  NaN\n",
      "       24.00       NaN  NaN  1.0\n",
      "       26.00       NaN  NaN  1.0\n",
      "       27.00       NaN  0.0  1.0\n",
      "       28.00       NaN  NaN  0.0\n",
      "       29.00       NaN  1.0  NaN\n",
      "       30.00       NaN  NaN  1.0\n",
      "       31.00       NaN  NaN  0.0\n",
      "       32.50       NaN  1.0  NaN\n",
      "       33.00       NaN  NaN  1.0\n",
      "       34.00       NaN  1.0  NaN\n",
      "       35.00  1.000000  NaN  NaN\n",
      "       38.00  1.000000  NaN  1.0\n",
      "       40.00       NaN  NaN  0.0\n",
      "       47.00       NaN  NaN  0.0\n",
      "       49.00  1.000000  NaN  NaN\n",
      "       55.00       NaN  1.0  NaN\n",
      "       58.00  1.000000  NaN  NaN\n",
      "male   0.83        NaN  1.0  NaN\n",
      "       2.00        NaN  NaN  0.0\n",
      "       4.00        NaN  NaN  0.0\n",
      "       7.00        NaN  NaN  0.0\n",
      "       11.00       NaN  NaN  0.0\n",
      "       12.00       NaN  NaN  1.0\n",
      "       16.00       NaN  NaN  0.0\n",
      "       18.00       NaN  0.0  NaN\n",
      "       19.00  0.000000  0.0  0.0\n",
      "       20.00       NaN  NaN  0.0\n",
      "       21.00  0.000000  0.0  0.0\n",
      "       22.00       NaN  NaN  0.0\n",
      "       23.00  1.000000  0.0  NaN\n",
      "       24.00  0.000000  NaN  0.5\n",
      "       25.00       NaN  0.0  0.0\n",
      "       26.00       NaN  NaN  0.0\n",
      "       27.00       NaN  NaN  1.0\n",
      "       28.00  0.333333  NaN  0.0\n",
      "       28.50       NaN  NaN  0.0\n",
      "       29.00       NaN  0.0  0.5\n",
      "       32.00       NaN  0.0  1.0\n",
      "       32.50       NaN  0.0  NaN\n",
      "       33.00       NaN  NaN  0.0\n",
      "       34.00       NaN  0.5  NaN\n",
      "       35.00       NaN  0.0  0.0\n",
      "       36.50       NaN  0.0  NaN\n",
      "       37.00  0.000000  NaN  0.0\n",
      "       38.00       NaN  NaN  0.0\n",
      "       39.00       NaN  NaN  0.0\n",
      "       40.00  0.000000  NaN  NaN\n",
      "       40.50       NaN  NaN  0.0\n",
      "       42.00  0.000000  0.0  NaN\n",
      "       45.00  0.000000  NaN  0.0\n",
      "       46.00  0.000000  NaN  NaN\n",
      "       47.00  0.000000  NaN  NaN\n",
      "       51.00  0.000000  0.0  NaN\n",
      "       54.00  0.000000  NaN  NaN\n",
      "       55.50       NaN  NaN  0.0\n",
      "       59.00       NaN  NaN  0.0\n",
      "       65.00  0.000000  NaN  NaN\n",
      "       66.00       NaN  0.0  NaN\n",
      "       70.50       NaN  NaN  0.0\n",
      "       71.00  0.000000  NaN  NaN\n"
     ]
    }
   ],
   "source": [
    "import pandas as pd\n",
    "import numpy as np\n",
    "df = pd.read_csv('titanic.csv',sep='\\t')\n",
    "result  =  df.pivot_table('Survived', index=['Sex','Age'], columns='Pclass')\n",
    "print(result)"
   ]
  },
  {
   "cell_type": "markdown",
   "metadata": {},
   "source": [
    "# Q125. Write a pandas program to make partition each of the passengers   into 4 categories based on their age. "
   ]
  },
  {
   "cell_type": "code",
   "execution_count": 89,
   "metadata": {},
   "outputs": [
    {
     "name": "stdout",
     "output_type": "stream",
     "text": [
      "0      (10.0, 30.0]\n",
      "1      (30.0, 60.0]\n",
      "2      (10.0, 30.0]\n",
      "3      (30.0, 60.0]\n",
      "4      (30.0, 60.0]\n",
      "5               NaN\n",
      "6      (30.0, 60.0]\n",
      "7       (0.0, 10.0]\n",
      "8      (10.0, 30.0]\n",
      "9      (10.0, 30.0]\n",
      "10      (0.0, 10.0]\n",
      "11     (30.0, 60.0]\n",
      "12     (10.0, 30.0]\n",
      "13     (30.0, 60.0]\n",
      "14     (10.0, 30.0]\n",
      "15     (30.0, 60.0]\n",
      "16      (0.0, 10.0]\n",
      "17              NaN\n",
      "18     (30.0, 60.0]\n",
      "19              NaN\n",
      "20     (30.0, 60.0]\n",
      "21     (30.0, 60.0]\n",
      "22     (10.0, 30.0]\n",
      "23     (10.0, 30.0]\n",
      "24      (0.0, 10.0]\n",
      "25     (30.0, 60.0]\n",
      "26              NaN\n",
      "27     (10.0, 30.0]\n",
      "28              NaN\n",
      "29              NaN\n",
      "30     (30.0, 60.0]\n",
      "31              NaN\n",
      "32              NaN\n",
      "33     (60.0, 80.0]\n",
      "34     (10.0, 30.0]\n",
      "35     (30.0, 60.0]\n",
      "36              NaN\n",
      "37     (10.0, 30.0]\n",
      "38     (10.0, 30.0]\n",
      "39     (10.0, 30.0]\n",
      "40     (30.0, 60.0]\n",
      "41     (10.0, 30.0]\n",
      "42              NaN\n",
      "43      (0.0, 10.0]\n",
      "44     (10.0, 30.0]\n",
      "45              NaN\n",
      "46              NaN\n",
      "47              NaN\n",
      "48              NaN\n",
      "49     (10.0, 30.0]\n",
      "50      (0.0, 10.0]\n",
      "51     (10.0, 30.0]\n",
      "52     (30.0, 60.0]\n",
      "53     (10.0, 30.0]\n",
      "54     (60.0, 80.0]\n",
      "55              NaN\n",
      "56     (10.0, 30.0]\n",
      "57     (10.0, 30.0]\n",
      "58      (0.0, 10.0]\n",
      "59     (10.0, 30.0]\n",
      "60     (10.0, 30.0]\n",
      "61     (30.0, 60.0]\n",
      "62     (30.0, 60.0]\n",
      "63      (0.0, 10.0]\n",
      "64              NaN\n",
      "65              NaN\n",
      "66     (10.0, 30.0]\n",
      "67     (10.0, 30.0]\n",
      "68     (10.0, 30.0]\n",
      "69     (10.0, 30.0]\n",
      "70     (30.0, 60.0]\n",
      "71     (10.0, 30.0]\n",
      "72     (10.0, 30.0]\n",
      "73     (10.0, 30.0]\n",
      "74     (30.0, 60.0]\n",
      "75     (10.0, 30.0]\n",
      "76              NaN\n",
      "77              NaN\n",
      "78      (0.0, 10.0]\n",
      "79     (10.0, 30.0]\n",
      "80     (10.0, 30.0]\n",
      "81     (10.0, 30.0]\n",
      "82              NaN\n",
      "83     (10.0, 30.0]\n",
      "84     (10.0, 30.0]\n",
      "85     (30.0, 60.0]\n",
      "86     (10.0, 30.0]\n",
      "87              NaN\n",
      "88     (10.0, 30.0]\n",
      "89     (10.0, 30.0]\n",
      "90     (10.0, 30.0]\n",
      "91     (10.0, 30.0]\n",
      "92     (30.0, 60.0]\n",
      "93     (10.0, 30.0]\n",
      "94     (30.0, 60.0]\n",
      "95              NaN\n",
      "96     (60.0, 80.0]\n",
      "97     (10.0, 30.0]\n",
      "98     (30.0, 60.0]\n",
      "99     (30.0, 60.0]\n",
      "100    (10.0, 30.0]\n",
      "101             NaN\n",
      "102    (10.0, 30.0]\n",
      "103    (30.0, 60.0]\n",
      "104    (30.0, 60.0]\n",
      "105    (10.0, 30.0]\n",
      "106    (10.0, 30.0]\n",
      "107             NaN\n",
      "108    (30.0, 60.0]\n",
      "109             NaN\n",
      "110    (30.0, 60.0]\n",
      "111    (10.0, 30.0]\n",
      "112    (10.0, 30.0]\n",
      "113    (10.0, 30.0]\n",
      "114    (10.0, 30.0]\n",
      "115    (10.0, 30.0]\n",
      "116    (60.0, 80.0]\n",
      "117    (10.0, 30.0]\n",
      "118    (10.0, 30.0]\n",
      "119     (0.0, 10.0]\n",
      "120    (10.0, 30.0]\n",
      "121             NaN\n",
      "122    (30.0, 60.0]\n",
      "123    (30.0, 60.0]\n",
      "124    (30.0, 60.0]\n",
      "125    (10.0, 30.0]\n",
      "126             NaN\n",
      "127    (10.0, 30.0]\n",
      "128             NaN\n",
      "129    (30.0, 60.0]\n",
      "130    (30.0, 60.0]\n",
      "131    (10.0, 30.0]\n",
      "132    (30.0, 60.0]\n",
      "133    (10.0, 30.0]\n",
      "134    (10.0, 30.0]\n",
      "135    (10.0, 30.0]\n",
      "136    (10.0, 30.0]\n",
      "137    (30.0, 60.0]\n",
      "138    (10.0, 30.0]\n",
      "139    (10.0, 30.0]\n",
      "140             NaN\n",
      "141    (10.0, 30.0]\n",
      "142    (10.0, 30.0]\n",
      "143    (10.0, 30.0]\n",
      "144    (10.0, 30.0]\n",
      "145    (10.0, 30.0]\n",
      "146    (10.0, 30.0]\n",
      "147     (0.0, 10.0]\n",
      "148    (30.0, 60.0]\n",
      "149    (30.0, 60.0]\n",
      "150    (30.0, 60.0]\n",
      "151    (10.0, 30.0]\n",
      "152    (30.0, 60.0]\n",
      "153    (30.0, 60.0]\n",
      "154             NaN\n",
      "155    (30.0, 60.0]\n",
      "Name: Age, dtype: category\n",
      "Categories (4, interval[int64]): [(0, 10] < (10, 30] < (30, 60] < (60, 80]]\n"
     ]
    }
   ],
   "source": [
    "import pandas as pd\n",
    "df = pd.read_csv('titanic.csv',sep='\\t')\n",
    "result = pd.cut(df['Age'], [0, 10, 30, 60, 80])\n",
    "print(result)"
   ]
  },
  {
   "cell_type": "markdown",
   "metadata": {},
   "source": [
    "# Q126. Write a pandas program to create the Pivot table and find survival rate by the gender, age of the different categories of various classes."
   ]
  },
  {
   "cell_type": "code",
   "execution_count": 90,
   "metadata": {},
   "outputs": [
    {
     "name": "stdout",
     "output_type": "stream",
     "text": [
      "Pclass               1    2    3\n",
      "Sex    Age                      \n",
      "female 2.00        NaN  NaN  0.0\n",
      "       3.00        NaN  1.0  NaN\n",
      "       4.00        NaN  NaN  1.0\n",
      "       5.00        NaN  1.0  NaN\n",
      "       8.00        NaN  NaN  0.0\n",
      "       9.00        NaN  NaN  0.0\n",
      "       14.00       NaN  1.0  0.5\n",
      "       14.50       NaN  NaN  0.0\n",
      "       15.00       NaN  NaN  1.0\n",
      "       16.00       NaN  NaN  0.0\n",
      "       17.00       NaN  1.0  0.5\n",
      "       18.00       NaN  NaN  0.0\n",
      "       19.00  1.000000  NaN  1.0\n",
      "       20.00       NaN  NaN  0.0\n",
      "       21.00       NaN  1.0  1.0\n",
      "       22.00  1.000000  NaN  1.0\n",
      "       23.00  1.000000  NaN  NaN\n",
      "       24.00       NaN  NaN  1.0\n",
      "       26.00       NaN  NaN  1.0\n",
      "       27.00       NaN  0.0  1.0\n",
      "       28.00       NaN  NaN  0.0\n",
      "       29.00       NaN  1.0  NaN\n",
      "       30.00       NaN  NaN  1.0\n",
      "       31.00       NaN  NaN  0.0\n",
      "       32.50       NaN  1.0  NaN\n",
      "       33.00       NaN  NaN  1.0\n",
      "       34.00       NaN  1.0  NaN\n",
      "       35.00  1.000000  NaN  NaN\n",
      "       38.00  1.000000  NaN  1.0\n",
      "       40.00       NaN  NaN  0.0\n",
      "       47.00       NaN  NaN  0.0\n",
      "       49.00  1.000000  NaN  NaN\n",
      "       55.00       NaN  1.0  NaN\n",
      "       58.00  1.000000  NaN  NaN\n",
      "male   0.83        NaN  1.0  NaN\n",
      "       2.00        NaN  NaN  0.0\n",
      "       4.00        NaN  NaN  0.0\n",
      "       7.00        NaN  NaN  0.0\n",
      "       11.00       NaN  NaN  0.0\n",
      "       12.00       NaN  NaN  1.0\n",
      "       16.00       NaN  NaN  0.0\n",
      "       18.00       NaN  0.0  NaN\n",
      "       19.00  0.000000  0.0  0.0\n",
      "       20.00       NaN  NaN  0.0\n",
      "       21.00  0.000000  0.0  0.0\n",
      "       22.00       NaN  NaN  0.0\n",
      "       23.00  1.000000  0.0  NaN\n",
      "       24.00  0.000000  NaN  0.5\n",
      "       25.00       NaN  0.0  0.0\n",
      "       26.00       NaN  NaN  0.0\n",
      "       27.00       NaN  NaN  1.0\n",
      "       28.00  0.333333  NaN  0.0\n",
      "       28.50       NaN  NaN  0.0\n",
      "       29.00       NaN  0.0  0.5\n",
      "       32.00       NaN  0.0  1.0\n",
      "       32.50       NaN  0.0  NaN\n",
      "       33.00       NaN  NaN  0.0\n",
      "       34.00       NaN  0.5  NaN\n",
      "       35.00       NaN  0.0  0.0\n",
      "       36.50       NaN  0.0  NaN\n",
      "       37.00  0.000000  NaN  0.0\n",
      "       38.00       NaN  NaN  0.0\n",
      "       39.00       NaN  NaN  0.0\n",
      "       40.00  0.000000  NaN  NaN\n",
      "       40.50       NaN  NaN  0.0\n",
      "       42.00  0.000000  0.0  NaN\n",
      "       45.00  0.000000  NaN  0.0\n",
      "       46.00  0.000000  NaN  NaN\n",
      "       47.00  0.000000  NaN  NaN\n",
      "       51.00  0.000000  0.0  NaN\n",
      "       54.00  0.000000  NaN  NaN\n",
      "       55.50       NaN  NaN  0.0\n",
      "       59.00       NaN  NaN  0.0\n",
      "       65.00  0.000000  NaN  NaN\n",
      "       66.00       NaN  0.0  NaN\n",
      "       70.50       NaN  NaN  0.0\n",
      "       71.00  0.000000  NaN  NaN\n"
     ]
    }
   ],
   "source": [
    "import pandas as pd\n",
    "import numpy as np\n",
    "df = pd.read_csv('titanic.csv',sep='\\t')\n",
    "fare = pd.qcut(df['Fare'], 2)\n",
    "age = pd.cut(df['Age'], [0, 10, 30, 60, 80])\n",
    "result = df.pivot_table('Survived', index=['Sex', 'Age'], columns=['Pclass'])\n",
    "print(result)"
   ]
  },
  {
   "cell_type": "markdown",
   "metadata": {},
   "source": [
    "# Q127. Write a pandas program to create the Pivot table and calculate   number of women and men were in a particular cabin class. "
   ]
  },
  {
   "cell_type": "code",
   "execution_count": 91,
   "metadata": {},
   "outputs": [
    {
     "name": "stdout",
     "output_type": "stream",
     "text": [
      "       Age         Cabin       Embarked         Fare         Name         Parch         PassengerId         SibSp         Survived         Ticket        \n",
      "Pclass   1   2   3     1  2  3        1   2   3    1   2   3    1   2   3     1   2   3           1   2   3     1   2   3        1   2   3      1   2   3\n",
      "Sex                                                                                                                                                      \n",
      "female   8  12  27     9  2  2        8  12  35    9  12  35    9  12  35     9  12  35           9  12  35     9  12  35        9  12  35      9  12  35\n",
      "male    19  17  43    15  2  1       21  18  61   21  18  61   21  18  61    21  18  61          21  18  61    21  18  61       21  18  61     21  18  61\n"
     ]
    }
   ],
   "source": [
    "import pandas as pd\n",
    "df = pd.read_csv('titanic.csv',sep='\\t')\n",
    "result = df.pivot_table(index=['Sex'], columns=['Pclass'], aggfunc='count')\n",
    "print(result)"
   ]
  },
  {
   "cell_type": "markdown",
   "metadata": {},
   "source": [
    "# Q128. Write a pandas program to create the Pivot table and separate the gender according to whether they travelled alone or not to get the probability of survival"
   ]
  },
  {
   "cell_type": "code",
   "execution_count": 92,
   "metadata": {},
   "outputs": [
    {
     "name": "stdout",
     "output_type": "stream",
     "text": [
      "   survived  pclass     sex   age  sibsp  parch     fare embarked  class    who  adult_male deck  embark_town alive  alone\n",
      "0         0       3    male  22.0      1      0   7.2500        S  Third    man        True  NaN  Southampton    no  False\n",
      "1         1       1  female  38.0      1      0  71.2833        C  First  woman       False    C    Cherbourg   yes  False\n",
      "2         1       3  female  26.0      0      0   7.9250        S  Third  woman       False  NaN  Southampton   yes   True\n",
      "3         1       1  female  35.0      1      0  53.1000        S  First  woman       False    C  Southampton   yes  False\n",
      "4         0       3    male  35.0      0      0   8.0500        S  Third    man        True  NaN  Southampton    no   True\n",
      "embark_town  Cherbourg                     Queenstown                  Southampton                    \n",
      "class            First    Second     Third      First Second     Third       First    Second     Third\n",
      "sex    alone                                                                                          \n",
      "female False  1.000000  1.000000  0.611111        1.0    NaN  0.625000    0.941176  0.923077  0.327586\n",
      "       True   0.944444  1.000000  0.800000        NaN    1.0  0.760000    1.000000  0.892857  0.466667\n",
      "male   False  0.473684  0.166667  0.500000        0.0    NaN  0.100000    0.407407  0.300000  0.142857\n",
      "       True   0.347826  0.250000  0.151515        NaN    0.0  0.068966    0.326923  0.089552  0.123762\n"
     ]
    }
   ],
   "source": [
    "import pandas as pd\n",
    "df = pd.read_csv('titanic_embarked.csv',sep='\\t')\n",
    "print(df.head())\n",
    "result = df.pivot_table('survived', ['sex' , 'alone' ], [ 'embark_town', 'class' ])\n",
    "print(result)"
   ]
  },
  {
   "cell_type": "markdown",
   "metadata": {},
   "source": [
    "# Q129. Write a pandas program to create the Pivot table and find the   probability of survival by class, gender, solo boarding, and the port of embarkation."
   ]
  },
  {
   "cell_type": "code",
   "execution_count": 93,
   "metadata": {},
   "outputs": [
    {
     "name": "stdout",
     "output_type": "stream",
     "text": [
      "embark_town  Cherbourg                     Queenstown                  Southampton                    \n",
      "class            First    Second     Third      First Second     Third       First    Second     Third\n",
      "sex    alone                                                                                          \n",
      "female False  1.000000  1.000000  0.611111        1.0    NaN  0.625000    0.941176  0.923077  0.327586\n",
      "       True   0.944444  1.000000  0.800000        NaN    1.0  0.760000    1.000000  0.892857  0.466667\n",
      "male   False  0.473684  0.166667  0.500000        0.0    NaN  0.100000    0.407407  0.300000  0.142857\n",
      "       True   0.347826  0.250000  0.151515        NaN    0.0  0.068966    0.326923  0.089552  0.123762\n"
     ]
    }
   ],
   "source": [
    "import pandas as pd\n",
    "import numpy as np\n",
    "df = pd.read_csv('titanic_embarked.csv',sep='\\t')\n",
    "result = df.pivot_table('survived', ['sex' , 'alone' ], [ 'embark_town', 'class' ])\n",
    "print(result)"
   ]
  },
  {
   "cell_type": "markdown",
   "metadata": {},
   "source": [
    "# Q130. Write a pandas program to get current date, oldest date and   number of days between Current date and the  oldest date of Ufo   dataset."
   ]
  },
  {
   "cell_type": "code",
   "execution_count": 51,
   "metadata": {},
   "outputs": [
    {
     "name": "stdout",
     "output_type": "stream",
     "text": [
      "Original Dataframe:\n",
      "          Date_time                  city state/province country UFO_shape  \\\n",
      "0  10-10-1949 20:30            san marcos             tx      us  cylinder   \n",
      "1  10-10-1949 21:00          lackland afb             tx     NaN     light   \n",
      "2  10-10-1955 17:00  chester (uk/england)            NaN      gb    circle   \n",
      "3  10-10-1956 21:00                  edna             tx      us    circle   \n",
      "4  10-10-1960 20:00               kaneohe             hi      us     light   \n",
      "\n",
      "  length_of_encounter_seconds described_duration_of_encounter  \\\n",
      "0                        2700                      45 minutes   \n",
      "1                        7200                         1-2 hrs   \n",
      "2                          20                      20 seconds   \n",
      "3                          20                        1/2 hour   \n",
      "4                         900                      15 minutes   \n",
      "\n",
      "                                         description date_documented  \\\n",
      "0  This event took place in early fall around 194...       4/27/2004   \n",
      "1  1949 Lackland AFB&#44 TX.  Lights racing acros...      12/16/2005   \n",
      "2  Green/Orange circular disc over Chester&#44 En...       1/21/2008   \n",
      "3  My older brother and twin sister were leaving ...       1/17/2004   \n",
      "4  AS a Marine 1st Lt. flying an FJ4B fighter/att...       1/22/2004   \n",
      "\n",
      "     latitude   longitude  \n",
      "0  29.8830556  -97.941111  \n",
      "1    29.38421  -98.581082  \n",
      "2        53.2   -2.916667  \n",
      "3  28.9783333  -96.645833  \n",
      "4  21.4180556 -157.803611  \n",
      "\n",
      "Current date of Ufo dataset:\n",
      "2013-09-30 22:30:00\n",
      "\n",
      "Oldest date of Ufo dataset:\n",
      "1944-01-01 12:00:00\n",
      "\n",
      "Number of days between Current date and oldest date of Ufo dataset:\n",
      "25475.4375\n"
     ]
    }
   ],
   "source": [
    "import pandas as pd\n",
    "import numpy as np\n",
    "df = pd.read_csv('ufo_sighting_data.csv')\n",
    "print(\"Original Dataframe:\")\n",
    "print(df.head())\n",
    "print(\"\\nCurrent date of Ufo dataset:\")\n",
    "print(pd.to_datetime(df.Date_time.max()))\n",
    "print(\"\\nOldest date of Ufo dataset:\")\n",
    "print(pd.to_datetime(df.Date_time.min()))\n",
    "print(\"\\nNumber of days between Current date and oldest date of Ufo dataset:\")\n",
    "print((pd.to_datetime(df.Date_time.max()) - pd.to_datetime(df.Date_time.min()))/np.timedelta64(1,'D'))"
   ]
  },
  {
   "cell_type": "markdown",
   "metadata": {},
   "source": [
    "# Q131. Write a pandas program to get all sighting days of the   unidentified flying object (ufo) between 1950-10-10 and 1960-10-  10. "
   ]
  },
  {
   "cell_type": "code",
   "execution_count": 1,
   "metadata": {},
   "outputs": [
    {
     "name": "stderr",
     "output_type": "stream",
     "text": [
      "C:\\Users\\manis\\Anaconda3\\lib\\site-packages\\IPython\\core\\interactiveshell.py:3057: DtypeWarning: Columns (5) have mixed types. Specify dtype option on import or set low_memory=False.\n",
      "  interactivity=interactivity, compiler=compiler, result=result)\n"
     ]
    },
    {
     "name": "stdout",
     "output_type": "stream",
     "text": [
      "Original Dataframe:\n",
      "             datetime                  city state country     shape  \\\n",
      "0 1949-10-10 20:30:00            san marcos    tx      us  cylinder   \n",
      "1 1949-10-10 21:00:00          lackland afb    tx     NaN     light   \n",
      "2 1955-10-10 17:00:00  chester (uk/england)   NaN      gb    circle   \n",
      "3 1956-10-10 21:00:00                  edna    tx      us    circle   \n",
      "4 1960-10-10 20:00:00               kaneohe    hi      us     light   \n",
      "\n",
      "  duration (seconds) duration (hours/min)  \\\n",
      "0               2700           45 minutes   \n",
      "1               7200              1-2 hrs   \n",
      "2                 20           20 seconds   \n",
      "3                 20             1/2 hour   \n",
      "4                900           15 minutes   \n",
      "\n",
      "                                            comments date posted    latitude  \\\n",
      "0  This event took place in early fall around 194...   4/27/2004  29.8830556   \n",
      "1  1949 Lackland AFB&#44 TX.  Lights racing acros...  12/16/2005    29.38421   \n",
      "2  Green/Orange circular disc over Chester&#44 En...   1/21/2008        53.2   \n",
      "3  My older brother and twin sister were leaving ...   1/17/2004  28.9783333   \n",
      "4  AS a Marine 1st Lt. flying an FJ4B fighter/att...   1/22/2004  21.4180556   \n",
      "\n",
      "    longitude  \n",
      "0  -97.941111  \n",
      "1  -98.581082  \n",
      "2   -2.916667  \n",
      "3  -96.645833  \n",
      "4 -157.803611  \n",
      "\n",
      "Sighting days of the unidentified flying object (ufo) between 1949-10-10 and 1960-10-10:\n",
      "                 datetime                                               city  \\\n",
      "2     1955-10-10 17:00:00                               chester (uk/england)   \n",
      "3     1956-10-10 21:00:00                                               edna   \n",
      "4     1960-10-10 20:00:00                                            kaneohe   \n",
      "515   1950-10-01 11:00:00                                          pikeville   \n",
      "516   1952-10-01 03:30:00                                    fukuoka (japan)   \n",
      "517   1952-10-01 12:00:00                                        kansas city   \n",
      "518   1954-10-01 19:00:00                                          flatwoods   \n",
      "519   1955-10-01 22:00:00                                   mono lake (area)   \n",
      "520   1956-10-01 19:00:00                                            newport   \n",
      "521   1957-10-01 16:00:00                                    nelchina (near)   \n",
      "522   1957-10-01 20:30:00                                           martelle   \n",
      "523   1957-10-01 21:00:00                                           paterson   \n",
      "524   1957-10-01 22:00:00                                 northeast cape afs   \n",
      "525   1959-10-01 16:00:00                          new york city (manhattan)   \n",
      "526   1959-10-01 19:00:00                                       jacksonville   \n",
      "527   1959-10-01 20:45:00                                             duluth   \n",
      "1844  1950-10-15 15:00:00                               sandy hook/highlands   \n",
      "1845  1951-10-15 20:00:00                                       jacksonville   \n",
      "1846  1952-10-15 21:00:00                                           richland   \n",
      "1847  1953-10-15 14:00:00                                       mauriceville   \n",
      "1848  1954-10-15 16:30:00                                             blanco   \n",
      "1849  1954-10-15 21:30:00                                           manistee   \n",
      "1850  1955-10-15 20:00:00                                          rhinebeck   \n",
      "1851  1956-10-15 01:00:00                         mechra bel ksire (morocco)   \n",
      "1852  1956-10-15 21:30:00                                         mt. vernon   \n",
      "1853  1957-10-15 01:45:00                                            england   \n",
      "1854  1957-10-15 02:00:00                             new york city (queens)   \n",
      "1855  1957-10-15 20:30:00                            houston (ellington afb)   \n",
      "1856  1957-10-15 22:00:00                       commerce city (n. of denver)   \n",
      "1857  1959-10-15 00:00:00                                         marysville   \n",
      "...                   ...                                                ...   \n",
      "79376 1957-09-10 19:15:00                                           st. paul   \n",
      "79377 1960-09-10 10:00:00                                            wichita   \n",
      "79971 1954-09-01 13:00:00                                             geneva   \n",
      "79972 1957-09-01 16:00:00                                             graham   \n",
      "79973 1957-09-01 23:00:00                                        brecksville   \n",
      "79974 1958-09-01 20:00:00                                              fargo   \n",
      "81029 1958-09-14 19:30:00                                            ashland   \n",
      "81301 1952-09-15 14:00:00                                       norridgewock   \n",
      "81302 1953-09-15 14:00:00                                              homer   \n",
      "81303 1954-09-15 09:30:00                                    palmer township   \n",
      "81304 1956-09-15 20:00:00                                       middle river   \n",
      "81305 1957-09-15 04:00:00                                            el paso   \n",
      "81306 1957-09-15 21:30:00                                       lake jackson   \n",
      "81307 1957-09-15 23:00:00                                             tacoma   \n",
      "81308 1959-09-15 01:00:00                                          goldfield   \n",
      "81309 1959-09-15 11:30:00                                             dayton   \n",
      "81310 1960-09-15 19:00:00                                          kingsport   \n",
      "81311 1960-09-15 20:30:00                                            seattle   \n",
      "81312 1960-09-15 21:00:00                                         susanville   \n",
      "81313 1960-09-15 21:30:00                                  barrhead (canada)   \n",
      "82901 1956-09-20 16:00:00                                               hope   \n",
      "82902 1957-09-20 00:00:00                                       hopkinsville   \n",
      "82903 1958-09-20 22:20:00  davis jct. (on highway72 east to highway 51 no...   \n",
      "84533 1958-09-25 19:00:00                         phelps county (rural area)   \n",
      "86456 1957-09-05 17:30:00                                los gatos (west of)   \n",
      "86457 1960-09-05 21:00:00                                            buffalo   \n",
      "86892 1958-09-07 19:00:00                                             arthur   \n",
      "87359 1952-09-09 20:00:00                                       philadelphia   \n",
      "87360 1954-09-09 12:30:00                                           beaumont   \n",
      "87361 1956-09-09 05:55:00                                            norfolk   \n",
      "\n",
      "      state country      shape duration (seconds)  \\\n",
      "2       NaN      gb     circle                 20   \n",
      "3        tx      us     circle                 20   \n",
      "4        hi      us      light                900   \n",
      "515      ky      us       disk                600   \n",
      "516     NaN     NaN       disk               1200   \n",
      "517      mo      us       disk                 90   \n",
      "518      wv      us     circle                 60   \n",
      "519      ca     NaN     circle                  5   \n",
      "520      nh      us  rectangle                300   \n",
      "521      ak      us    unknown                180   \n",
      "522      ia      us      cigar                  0   \n",
      "523      nj      us       disk                 10   \n",
      "524      ak     NaN        NaN                900   \n",
      "525      ny      us      other                  0   \n",
      "526      il      us    unknown                 60   \n",
      "527      wi     NaN        NaN               1200   \n",
      "1844     nj     NaN   triangle                300   \n",
      "1845     fl      us       disk                  0   \n",
      "1846     wa      us     circle                  5   \n",
      "1847     tx      us       disk                300   \n",
      "1848     tx      us      other                300   \n",
      "1849     mi      us     circle                  8   \n",
      "1850     ny      us      light               2400   \n",
      "1851    NaN     NaN    unknown                300   \n",
      "1852     in     NaN       disk                  8   \n",
      "1853     ar      us       disk                  0   \n",
      "1854     ny      us        NaN              10800   \n",
      "1855     tx      us      light                  3   \n",
      "1856     co      us   fireball                600   \n",
      "1857     wa      us      other                 75   \n",
      "...     ...     ...        ...                ...   \n",
      "79376    mn      us       disk                300   \n",
      "79377    ks      us       oval               1200   \n",
      "79971    ny      us       disk                120   \n",
      "79972    tx      us     sphere                 30   \n",
      "79973    oh      us     circle                180   \n",
      "79974    nd      us       disk                900   \n",
      "81029    ky      us     circle                 45   \n",
      "81301    me      us       disk                300   \n",
      "81302    pa     NaN        NaN                300   \n",
      "81303    pa     NaN      other                600   \n",
      "81304    md      us     circle                 60   \n",
      "81305    tx      us       disk                600   \n",
      "81306    tx      us   fireball                 13   \n",
      "81307    wa      us       disk                 20   \n",
      "81308    nv      us      light                 60   \n",
      "81309    oh      us       disk                900   \n",
      "81310    tn      us     circle                300   \n",
      "81311    wa      us       disk                120   \n",
      "81312    ca      us        NaN                360   \n",
      "81313    ab      ca      other               1200   \n",
      "82901    ar      us     circle               1200   \n",
      "82902    ky      us      cigar                600   \n",
      "82903    il     NaN   fireball                300   \n",
      "84533    ne     NaN       disk                300   \n",
      "86456    ca      us       disk                 60   \n",
      "86457    ny      us       oval                180   \n",
      "86892    nd      us    unknown                900   \n",
      "87359    pa      us     circle                180   \n",
      "87360    tx      us       disk                300   \n",
      "87361    va      us      cigar                 90   \n",
      "\n",
      "               duration (hours/min)  \\\n",
      "2                        20 seconds   \n",
      "3                          1/2 hour   \n",
      "4                        15 minutes   \n",
      "515                              hr   \n",
      "516                   about 20 mins   \n",
      "517                         90 sec.   \n",
      "518                        1 minute   \n",
      "519                 five seconds+/-   \n",
      "520                       5 minutes   \n",
      "521               3 minutes maximum   \n",
      "522                             unk   \n",
      "523                      10 seconds   \n",
      "524                        10-15min   \n",
      "525                             NaN   \n",
      "526                        1 minute   \n",
      "527                   15-20 minutes   \n",
      "1844                      5 minutes   \n",
      "1845                        unknown   \n",
      "1846                      5 seconds   \n",
      "1847                         5 min.   \n",
      "1848                       3-5 mins   \n",
      "1849                      8 seconds   \n",
      "1850                     40 minutes   \n",
      "1851              approx. 5 minutes   \n",
      "1852                 7 to 8 seconds   \n",
      "1853                        unknown   \n",
      "1854                        2x3 hrs   \n",
      "1855                      3 seconds   \n",
      "1856                        10 min.   \n",
      "1857                           1:15   \n",
      "...                             ...   \n",
      "79376                  five minutes   \n",
      "79377                       20 min.   \n",
      "79971             couple of minutes   \n",
      "79972                        30 sec   \n",
      "79973                     3 minutes   \n",
      "79974                        15 min   \n",
      "81029                    45 seconds   \n",
      "81301                   4-5 minutes   \n",
      "81302                     5 minutes   \n",
      "81303                  9-10 minutes   \n",
      "81304                         1 min   \n",
      "81305                        10 min   \n",
      "81306                        13 sec   \n",
      "81307                    20 seconds   \n",
      "81308                      1 minute   \n",
      "81309                       15 mini   \n",
      "81310                     5 minutes   \n",
      "81311  2 min. for me&#44 longer for   \n",
      "81312                   5-6 minutes   \n",
      "81313                    20 minutes   \n",
      "82901                    20 minutes   \n",
      "82902                    10 minutes   \n",
      "82903                          5min   \n",
      "84533                    3 to 5 min   \n",
      "86456            one minute or less   \n",
      "86457                     3 minutes   \n",
      "86892                     5-15 min.   \n",
      "87359                     3 minutes   \n",
      "87360                     5 minutes   \n",
      "87361                   1.5 minutes   \n",
      "\n",
      "                                                comments date posted  \\\n",
      "2      Green/Orange circular disc over Chester&#44 En...   1/21/2008   \n",
      "3      My older brother and twin sister were leaving ...   1/17/2004   \n",
      "4      AS a Marine 1st Lt. flying an FJ4B fighter/att...   1/22/2004   \n",
      "515          SEVENTY SOME  FLYING DISK OBSERVED IN  1950   4/16/2005   \n",
      "516    UFO seen by multiple U. S. military personnel;...   12/7/2006   \n",
      "517    1952 daylight sighting of multiple discs in fo...  10/31/2008   \n",
      "518    I saw the craft go across the horizon.  It app...   4/12/2013   \n",
      "519    NO KNOWN AIRCRAFT (1955 and maybe today) COULD...   3/19/2009   \n",
      "520    Disk with glass center section&#44 and flames ...   4/16/2005   \n",
      "521    This incident occurred about October of 1956 o...   12/7/2006   \n",
      "522    I Fly and have been in Viet Nam and around the...    8/5/2001   \n",
      "523    Formation of approximately 8 light gray metall...   4/16/2005   \n",
      "524                           Radar sighting and filming   1/28/1999   \n",
      "525    A round object the shape of a bubble hovered b...   11/8/2003   \n",
      "526    Late 1959&#44 bright lights from a hovering ob...   4/16/2005   \n",
      "527    Single saucer shaped craft observed from Dulut...    8/5/2012   \n",
      "1844                 Triangles over New York Harbor 1950  10/30/2006   \n",
      "1845   Sisters observe dark disc in sky over city par...   5/11/2005   \n",
      "1846   Night sighting of seven large luminous UFOs fl...  11/21/2010   \n",
      "1847   My father was a WWW1 Vet. and loved hunting. T...   11/4/2002   \n",
      "1848   We saw a silver football&#44 motionless in the...   4/27/2004   \n",
      "1849   Saucer shaped&#44 moved north to south directl...   1/21/2008   \n",
      "1850   This very distant star-like point of light cam...   7/19/2010   \n",
      "1851   Air Defense radar reflected an object with gre...   4/16/2005   \n",
      "1852   Clear night observation of lumenescent object ...   7/11/2000   \n",
      "1853   Unexplained object seen on a clear fall night ...   6/12/2007   \n",
      "1854   tall unidentified being enters home - N.Y.C. 1957   3/21/2003   \n",
      "1855   5 to 6&quot; diameter light&#44 extremely fast...   9/17/2000   \n",
      "1856                        A lot of methane gas in area   9/19/2002   \n",
      "1857                              UFO  Over  Golf Course   4/27/2007   \n",
      "...                                                  ...         ...   \n",
      "79376  3 UFO&#39s saucer-shaped with flashing lights ...   4/16/2005   \n",
      "79377  MADE  ONY  A  HUMMING SOUND EVEN WHEN  IT TOOK...   7/25/2004   \n",
      "79971  While marching on a bivouac maneuver in (?) Se...  10/15/2003   \n",
      "79972              Three shiny spheres over Graham Texas   1/10/2009   \n",
      "79973  20 ft in diameter glowing ufo landed a few fee...    2/1/2007   \n",
      "79974   Flying Saucer seen while driving home from work.   5/27/2003   \n",
      "81029  Near observations of a slow moving silent obje...   2/14/2008   \n",
      "81301  SUNNY DAY&#44 WITHIN 450 FEET&#44 LOW...REPORT...   12/2/2000   \n",
      "81302  9 53  Father had cigar shaped ufo keep pace wi...    6/9/2009   \n",
      "81303  Saturn-shaped object appearing over the Pennsy...  11/28/2007   \n",
      "81304  three round blue-white disks in V formation mo...  12/16/2005   \n",
      "81305                             Undified Flying Object   2/14/2008   \n",
      "81306                    fireball seen on country  road.   1/10/2009   \n",
      "81307  a large disk spacecraft the size of a Boeing 7...    3/2/2004   \n",
      "81308  The object hovered over the pick-up&#44 and ra...   4/16/2005   \n",
      "81309  formation of 6 saucers moving from Wright Pate...    2/8/2005   \n",
      "81310  An orange&#44 circular craft drifted over the ...   1/28/1999   \n",
      "81311  Triple disc sighting prior to dusk with a ligh...   4/27/2004   \n",
      "81312  Three craft in formation&#44 high altitude&#44...   4/27/2004   \n",
      "81313  HBCCUFO CANADIAN REPORT:  Daddy&#44 there is a...   8/28/2003   \n",
      "82901  Sitting on a pond bank on sunny afternoon when...   4/16/2005   \n",
      "82902  4 matalic silver cigar shaped objects; no soun...   8/28/2003   \n",
      "82903  red light with A GLOW AROUND IT DRIVING TO WOR...    4/2/1999   \n",
      "84533  Big object approached across field at dusk&#44...   12/7/2006   \n",
      "86456  3 craft seen in day light&#44 very low altitud...  10/30/2006   \n",
      "86457  Precise movements of a &quot;craft&quot; appar...   9/15/2005   \n",
      "86892  Two lights of alternating color traveling and ...  10/31/2003   \n",
      "87359                   saucers in a line over Phila Pa.  12/12/2009   \n",
      "87360  Aprox. 30 Disk shaped UFOs fell out of clouds ...   1/17/2004   \n",
      "87361  Unidentified Object Hovering over Interstate 2...   2/24/2007   \n",
      "\n",
      "         latitude   longitude  \n",
      "2            53.2   -2.916667  \n",
      "3      28.9783333  -96.645833  \n",
      "4      21.4180556 -157.803611  \n",
      "515    37.4791667  -82.518889  \n",
      "516     33.590355  130.401716  \n",
      "517    39.0997222  -94.578333  \n",
      "518    38.7230556  -80.650000  \n",
      "519     38.007059 -119.012259  \n",
      "520    43.3652778  -72.173889  \n",
      "521    61.9919444 -146.768611  \n",
      "522    42.0216667  -91.359722  \n",
      "523    40.9166667  -74.172222  \n",
      "524     70.292489 -161.903334  \n",
      "525    40.7141667  -74.006389  \n",
      "526    39.7338889  -90.228889  \n",
      "527             0    0.000000  \n",
      "1844    40.443164  -73.989861  \n",
      "1845   30.3319444  -81.655833  \n",
      "1846   46.2858333 -119.283333  \n",
      "1847   30.2033333  -93.866111  \n",
      "1848   30.0977778  -98.421111  \n",
      "1849   44.2444444  -86.324167  \n",
      "1850   41.9266667  -73.913056  \n",
      "1851        34.56   -5.950000  \n",
      "1852    37.932266  -87.895027  \n",
      "1853   34.5441667  -91.968889  \n",
      "1854   40.7141667  -74.006389  \n",
      "1855   29.7630556  -95.363056  \n",
      "1856   39.8083333 -104.933333  \n",
      "1857   48.0519444 -122.175833  \n",
      "...           ...         ...  \n",
      "79376  44.9444444  -93.093056  \n",
      "79377  37.6922222  -97.337222  \n",
      "79971  42.8688889  -76.978056  \n",
      "79972  33.1069444  -98.589167  \n",
      "79973  41.3197222  -81.626944  \n",
      "79974  46.8772222  -96.789444  \n",
      "81029  38.4783333  -82.638056  \n",
      "81301  44.7130556  -69.791111  \n",
      "81302           0    0.000000  \n",
      "81303   40.716765  -75.249344  \n",
      "81304  39.3341667  -76.439722  \n",
      "81305  31.7586111 -106.486389  \n",
      "81306  29.0336111  -95.434167  \n",
      "81307  47.2530556 -122.443056  \n",
      "81308  37.7086111 -117.234722  \n",
      "81309  39.7588889  -84.191667  \n",
      "81310  36.5483333  -82.561944  \n",
      "81311  47.6063889 -122.330833  \n",
      "81312  40.4163889 -120.651944  \n",
      "81313   54.116667 -114.400000  \n",
      "82901  33.6669444  -93.591389  \n",
      "82902  36.8655556  -87.488611  \n",
      "82903   42.101692  -89.093157  \n",
      "84533           0    0.000000  \n",
      "86456  37.2266667 -121.973611  \n",
      "86457  42.8863889  -78.878611  \n",
      "86892  47.1041667  -97.217778  \n",
      "87359  39.9522222  -75.164167  \n",
      "87360  30.0858333  -94.101667  \n",
      "87361  36.8466667  -76.285556  \n",
      "\n",
      "[543 rows x 11 columns]\n"
     ]
    }
   ],
   "source": [
    "import pandas as pd\n",
    "df = pd.read_csv('ufo_sighting_data.csv')\n",
    "df['datetime'] = df['datetime'].astype('datetime64[ns]')\n",
    "print(\"Original Dataframe:\")\n",
    "print(df.head())\n",
    "print(\"\\nSighting days of the unidentified flying object (ufo) between 1949-10-10 and 1960-10-10:\")\n",
    "selected_period = df[(df['datetime'] >= '1950-01-01 00:00:00') & (df['datetime'] <= '1960-12-31 23:59:59')]\n",
    "print(selected_period)"
   ]
  },
  {
   "cell_type": "markdown",
   "metadata": {},
   "source": [
    "# Q132. Write a Pandas program to extract the year, month, day, hour,  minute, second, and weekday from unidentified flying object (UFO)  reporting date."
   ]
  },
  {
   "cell_type": "code",
   "execution_count": 4,
   "metadata": {},
   "outputs": [
    {
     "name": "stderr",
     "output_type": "stream",
     "text": [
      "C:\\Users\\manis\\Anaconda3\\lib\\site-packages\\IPython\\core\\interactiveshell.py:3057: DtypeWarning: Columns (5) have mixed types. Specify dtype option on import or set low_memory=False.\n",
      "  interactivity=interactivity, compiler=compiler, result=result)\n"
     ]
    },
    {
     "name": "stdout",
     "output_type": "stream",
     "text": [
      "Original Dataframe:\n",
      "             datetime                  city state country     shape  \\\n",
      "0 1949-10-10 20:30:00            san marcos    tx      us  cylinder   \n",
      "1 1949-10-10 21:00:00          lackland afb    tx     NaN     light   \n",
      "2 1955-10-10 17:00:00  chester (uk/england)   NaN      gb    circle   \n",
      "3 1956-10-10 21:00:00                  edna    tx      us    circle   \n",
      "4 1960-10-10 20:00:00               kaneohe    hi      us     light   \n",
      "\n",
      "  duration (seconds) duration (hours/min)  \\\n",
      "0               2700           45 minutes   \n",
      "1               7200              1-2 hrs   \n",
      "2                 20           20 seconds   \n",
      "3                 20             1/2 hour   \n",
      "4                900           15 minutes   \n",
      "\n",
      "                                            comments date posted    latitude  \\\n",
      "0  This event took place in early fall around 194...   4/27/2004  29.8830556   \n",
      "1  1949 Lackland AFB&#44 TX.  Lights racing acros...  12/16/2005    29.38421   \n",
      "2  Green/Orange circular disc over Chester&#44 En...   1/21/2008        53.2   \n",
      "3  My older brother and twin sister were leaving ...   1/17/2004  28.9783333   \n",
      "4  AS a Marine 1st Lt. flying an FJ4B fighter/att...   1/22/2004  21.4180556   \n",
      "\n",
      "    longitude  \n",
      "0  -97.941111  \n",
      "1  -98.581082  \n",
      "2   -2.916667  \n",
      "3  -96.645833  \n",
      "4 -157.803611  \n",
      "\n",
      "Year:\n",
      "0    1949\n",
      "1    1949\n",
      "2    1955\n",
      "3    1956\n",
      "4    1960\n",
      "Name: datetime, dtype: int64\n",
      "\n",
      "Month:\n",
      "0    10\n",
      "1    10\n",
      "2    10\n",
      "3    10\n",
      "4    10\n",
      "Name: datetime, dtype: int64\n",
      "\n",
      "Day:\n",
      "0    10\n",
      "1    10\n",
      "2    10\n",
      "3    10\n",
      "4    10\n",
      "Name: datetime, dtype: int64\n",
      "\n",
      "Hour:\n",
      "0    20\n",
      "1    21\n",
      "2    17\n",
      "3    21\n",
      "4    20\n",
      "Name: datetime, dtype: int64\n",
      "\n",
      "Minute:\n",
      "0    30\n",
      "1     0\n",
      "2     0\n",
      "3     0\n",
      "4     0\n",
      "Name: datetime, dtype: int64\n",
      "\n",
      "Second:\n",
      "0    0\n",
      "1    0\n",
      "2    0\n",
      "3    0\n",
      "4    0\n",
      "Name: datetime, dtype: int64\n",
      "\n",
      "Weekday:\n",
      "0       Monday\n",
      "1       Monday\n",
      "2       Monday\n",
      "3    Wednesday\n",
      "4       Monday\n",
      "Name: datetime, dtype: object\n"
     ]
    }
   ],
   "source": [
    "import pandas as pd\n",
    "df = pd.read_csv('ufo_sighting_data.csv')\n",
    "df['datetime'] = df['datetime'].astype('datetime64[ns]')\n",
    "print(\"Original Dataframe:\")\n",
    "print(df.head())\n",
    "print(\"\\nYear:\")\n",
    "print(df.datetime.dt.year.head())\n",
    "print(\"\\nMonth:\")\n",
    "print(df.datetime.dt.month.head())\n",
    "print(\"\\nDay:\")\n",
    "print(df.datetime.dt.day.head())\n",
    "print(\"\\nHour:\")\n",
    "print(df.datetime.dt.hour.head())\n",
    "print(\"\\nMinute:\")\n",
    "print(df.datetime.dt.minute.head())\n",
    "print(\"\\nSecond:\")\n",
    "print(df.datetime.dt.second.head())\n",
    "print(\"\\nWeekday:\")\n",
    "print(df.datetime.dt.weekday_name.head())"
   ]
  },
  {
   "cell_type": "markdown",
   "metadata": {},
   "source": [
    "# Q133. Write a pandas program to count year-country wise frequency of  reporting dates of the unidentified flying object(UFO)."
   ]
  },
  {
   "cell_type": "code",
   "execution_count": 6,
   "metadata": {},
   "outputs": [
    {
     "name": "stdout",
     "output_type": "stream",
     "text": [
      "Original Dataframe:\n",
      "             datetime                  city state country     shape  \\\n",
      "0 1949-10-10 20:30:00            san marcos    tx      us  cylinder   \n",
      "1 1949-10-10 21:00:00          lackland afb    tx     NaN     light   \n",
      "2 1955-10-10 17:00:00  chester (uk/england)   NaN      gb    circle   \n",
      "3 1956-10-10 21:00:00                  edna    tx      us    circle   \n",
      "4 1960-10-10 20:00:00               kaneohe    hi      us     light   \n",
      "\n",
      "  duration (seconds) duration (hours/min)  \\\n",
      "0               2700           45 minutes   \n",
      "1               7200              1-2 hrs   \n",
      "2                 20           20 seconds   \n",
      "3                 20             1/2 hour   \n",
      "4                900           15 minutes   \n",
      "\n",
      "                                            comments date posted    latitude  \\\n",
      "0  This event took place in early fall around 194...   4/27/2004  29.8830556   \n",
      "1  1949 Lackland AFB&#44 TX.  Lights racing acros...  12/16/2005    29.38421   \n",
      "2  Green/Orange circular disc over Chester&#44 En...   1/21/2008        53.2   \n",
      "3  My older brother and twin sister were leaving ...   1/17/2004  28.9783333   \n",
      "4  AS a Marine 1st Lt. flying an FJ4B fighter/att...   1/22/2004  21.4180556   \n",
      "\n",
      "    longitude  \n",
      "0  -97.941111  \n",
      "1  -98.581082  \n",
      "2   -2.916667  \n",
      "3  -96.645833  \n",
      "4 -157.803611  \n",
      "\n",
      "Country-year wise frequency of reporting dates of UFO:\n",
      "Year  country\n",
      "1910  us            2\n",
      "1920  us            1\n",
      "1925  us            1\n",
      "1929  us            1\n",
      "1930  us            1\n",
      "1931  us            2\n",
      "1934  us            1\n",
      "1936  ca            1\n",
      "      us            2\n",
      "1937  us            1\n",
      "1939  us            3\n",
      "1941  us            1\n",
      "1942  us            3\n",
      "1943  gb            1\n",
      "      us            1\n",
      "1944  us            3\n",
      "1945  us            7\n",
      "1946  ca            1\n",
      "      us            7\n",
      "1947  us           32\n",
      "1948  us            8\n",
      "1949  us           16\n",
      "1950  us           21\n",
      "1951  ca            2\n",
      "      gb            1\n",
      "      us           14\n",
      "1952  gb            1\n",
      "      us           40\n",
      "1953  ca            2\n",
      "      us           27\n",
      "                 ... \n",
      "2009  au           15\n",
      "      ca          149\n",
      "      de            6\n",
      "      gb          212\n",
      "      us         3893\n",
      "2010  au           17\n",
      "      ca          153\n",
      "      de            3\n",
      "      gb          117\n",
      "      us         3801\n",
      "2011  au           14\n",
      "      ca          139\n",
      "      de            3\n",
      "      gb           54\n",
      "      us         4631\n",
      "2012  au           19\n",
      "      ca          247\n",
      "      de            6\n",
      "      gb           87\n",
      "      us         6700\n",
      "2013  au           35\n",
      "      ca          268\n",
      "      de            5\n",
      "      gb           52\n",
      "      us         6420\n",
      "2014  au           13\n",
      "      ca           48\n",
      "      de            2\n",
      "      gb           21\n",
      "      us         2111\n",
      "Length: 285, dtype: int64\n"
     ]
    }
   ],
   "source": [
    "import pandas as pd\n",
    "df = pd.read_csv('ufo_sighting_data.csv')\n",
    "df['datetime'] = df['datetime'].astype('datetime64[ns]')\n",
    "print(\"Original Dataframe:\")\n",
    "print(df.head())\n",
    "df['Year'] = df['datetime'].apply(lambda x: \"%d\" % (x.year))\n",
    "result = df.groupby(['Year', 'country']).size()\n",
    "print(\"\\nCountry-year wise frequency of reporting dates of UFO:\")\n",
    "print(result)"
   ]
  },
  {
   "cell_type": "markdown",
   "metadata": {},
   "source": [
    "# Q135. Write a pandas program to generate sequences of fixed-  frequency dates and time spans."
   ]
  },
  {
   "cell_type": "code",
   "execution_count": 7,
   "metadata": {},
   "outputs": [
    {
     "name": "stdout",
     "output_type": "stream",
     "text": [
      "Hourly frequency:\n",
      "DatetimeIndex(['2018-01-01 00:00:00', '2018-01-01 01:00:00',\n",
      "               '2018-01-01 02:00:00', '2018-01-01 03:00:00',\n",
      "               '2018-01-01 04:00:00', '2018-01-01 05:00:00',\n",
      "               '2018-01-01 06:00:00', '2018-01-01 07:00:00',\n",
      "               '2018-01-01 08:00:00', '2018-01-01 09:00:00',\n",
      "               '2018-01-01 10:00:00', '2018-01-01 11:00:00'],\n",
      "              dtype='datetime64[ns]', freq='H')\n",
      "\n",
      "Minutely frequency:\n",
      "DatetimeIndex(['2018-01-01 00:00:00', '2018-01-01 00:01:00',\n",
      "               '2018-01-01 00:02:00', '2018-01-01 00:03:00',\n",
      "               '2018-01-01 00:04:00', '2018-01-01 00:05:00',\n",
      "               '2018-01-01 00:06:00', '2018-01-01 00:07:00',\n",
      "               '2018-01-01 00:08:00', '2018-01-01 00:09:00',\n",
      "               '2018-01-01 00:10:00', '2018-01-01 00:11:00'],\n",
      "              dtype='datetime64[ns]', freq='T')\n",
      "\n",
      "Secondly frequency:\n",
      "DatetimeIndex(['2018-01-01 00:00:00', '2018-01-01 00:00:01',\n",
      "               '2018-01-01 00:00:02', '2018-01-01 00:00:03',\n",
      "               '2018-01-01 00:00:04', '2018-01-01 00:00:05',\n",
      "               '2018-01-01 00:00:06', '2018-01-01 00:00:07',\n",
      "               '2018-01-01 00:00:08', '2018-01-01 00:00:09',\n",
      "               '2018-01-01 00:00:10', '2018-01-01 00:00:11'],\n",
      "              dtype='datetime64[ns]', freq='S')\n",
      "nMultiple Hourly frequency:\n",
      "DatetimeIndex(['2018-01-01 00:00:00', '2018-01-01 02:00:00',\n",
      "               '2018-01-01 04:00:00', '2018-01-01 06:00:00',\n",
      "               '2018-01-01 08:00:00', '2018-01-01 10:00:00',\n",
      "               '2018-01-01 12:00:00', '2018-01-01 14:00:00',\n",
      "               '2018-01-01 16:00:00', '2018-01-01 18:00:00',\n",
      "               '2018-01-01 20:00:00', '2018-01-01 22:00:00'],\n",
      "              dtype='datetime64[ns]', freq='2H')\n",
      "\n",
      "Multiple Minutely frequency:\n",
      "DatetimeIndex(['2018-01-01 00:00:00', '2018-01-01 00:05:00',\n",
      "               '2018-01-01 00:10:00', '2018-01-01 00:15:00',\n",
      "               '2018-01-01 00:20:00', '2018-01-01 00:25:00',\n",
      "               '2018-01-01 00:30:00', '2018-01-01 00:35:00',\n",
      "               '2018-01-01 00:40:00', '2018-01-01 00:45:00',\n",
      "               '2018-01-01 00:50:00', '2018-01-01 00:55:00'],\n",
      "              dtype='datetime64[ns]', freq='5T')\n",
      "\n",
      "Multiple Secondly frequency:\n",
      "DatetimeIndex(['2018-03-30', '2018-06-29', '2018-09-28', '2018-12-31',\n",
      "               '2019-03-29', '2019-06-28', '2019-09-30', '2019-12-31',\n",
      "               '2020-03-31', '2020-06-30', '2020-09-30', '2020-12-31'],\n",
      "              dtype='datetime64[ns]', freq='BQ-DEC')\n",
      "\n",
      "Weekly frequency:\n",
      "DatetimeIndex(['2018-01-07', '2018-01-14', '2018-01-21', '2018-01-28',\n",
      "               '2018-02-04', '2018-02-11', '2018-02-18', '2018-02-25',\n",
      "               '2018-03-04', '2018-03-11', '2018-03-18', '2018-03-25'],\n",
      "              dtype='datetime64[ns]', freq='W-SUN')\n",
      "\n",
      "Combine together day and intraday offsets-1:\n",
      "DatetimeIndex(['2018-01-01 00:00:00', '2018-01-01 02:20:00',\n",
      "               '2018-01-01 04:40:00', '2018-01-01 07:00:00',\n",
      "               '2018-01-01 09:20:00', '2018-01-01 11:40:00',\n",
      "               '2018-01-01 14:00:00', '2018-01-01 16:20:00',\n",
      "               '2018-01-01 18:40:00', '2018-01-01 21:00:00',\n",
      "               '2018-01-01 23:20:00', '2018-01-02 01:40:00'],\n",
      "              dtype='datetime64[ns]', freq='140T')\n",
      "\n",
      "Combine together day and intraday offsets-2:\n",
      "DatetimeIndex([       '2018-01-01 00:00:00', '2018-01-02 00:00:00.000010',\n",
      "               '2018-01-03 00:00:00.000020', '2018-01-04 00:00:00.000030',\n",
      "               '2018-01-05 00:00:00.000040', '2018-01-06 00:00:00.000050',\n",
      "               '2018-01-07 00:00:00.000060', '2018-01-08 00:00:00.000070',\n",
      "               '2018-01-09 00:00:00.000080', '2018-01-10 00:00:00.000090',\n",
      "               '2018-01-11 00:00:00.000100', '2018-01-12 00:00:00.000110'],\n",
      "              dtype='datetime64[ns]', freq='86400000010U')\n"
     ]
    }
   ],
   "source": [
    "import pandas as pd\n",
    "dtr = pd.date_range('2018-01-01', periods=12, freq='H')\n",
    "print(\"Hourly frequency:\")\n",
    "print(dtr)\n",
    "dtr = pd.date_range('2018-01-01', periods=12, freq='min')\n",
    "print(\"\\nMinutely frequency:\")\n",
    "print(dtr)\n",
    "dtr = pd.date_range('2018-01-01', periods=12, freq='S')\n",
    "print(\"\\nSecondly frequency:\")\n",
    "print(dtr)\n",
    "dtr = pd.date_range('2018-01-01', periods=12, freq='2H')\n",
    "print(\"nMultiple Hourly frequency:\")\n",
    "print(dtr)\n",
    "dtr = pd.date_range('2018-01-01', periods=12, freq='5min')\n",
    "print(\"\\nMultiple Minutely frequency:\")\n",
    "print(dtr)\n",
    "dtr = pd.date_range('2018-01-01', periods=12, freq='BQ')\n",
    "print(\"\\nMultiple Secondly frequency:\")\n",
    "print(dtr)\n",
    "dtr = pd.date_range('2018-01-01', periods=12, freq='w')\n",
    "print(\"\\nWeekly frequency:\")\n",
    "print(dtr)\n",
    "dtr = pd.date_range('2018-01-01', periods=12, freq='2h20min')\n",
    "print(\"\\nCombine together day and intraday offsets-1:\")\n",
    "print(dtr)\n",
    "dtr = pd.date_range('2018-01-01', periods=12, freq='1D10U')\n",
    "print(\"\\nCombine together day and intraday offsets-2:\")\n",
    "print(dtr)"
   ]
  },
  {
   "cell_type": "markdown",
   "metadata": {},
   "source": [
    "# Q136. Write a pandas program to manipulate and convert date times   with timezone information."
   ]
  },
  {
   "cell_type": "code",
   "execution_count": 8,
   "metadata": {},
   "outputs": [
    {
     "name": "stdout",
     "output_type": "stream",
     "text": [
      "DatetimeIndex(['2018-01-01 00:00:00+00:00', '2018-01-01 01:00:00+00:00',\n",
      "               '2018-01-01 02:00:00+00:00'],\n",
      "              dtype='datetime64[ns, UTC]', freq='H')\n",
      "\n",
      "From UTC to America/Los_Angeles:\n",
      "DatetimeIndex(['2017-12-31 16:00:00-08:00', '2017-12-31 17:00:00-08:00',\n",
      "               '2017-12-31 18:00:00-08:00'],\n",
      "              dtype='datetime64[ns, America/Los_Angeles]', freq='H')\n"
     ]
    }
   ],
   "source": [
    "import pandas as pd\n",
    "dtt = pd.date_range('2018-01-01', periods=3, freq='H')\n",
    "dtt = dtt.tz_localize('UTC')\n",
    "print(dtt)\n",
    "print(\"\\nFrom UTC to America/Los_Angeles:\")\n",
    "dtt = dtt.tz_convert('America/Los_Angeles')\n",
    "print(dtt)"
   ]
  },
  {
   "cell_type": "markdown",
   "metadata": {},
   "source": [
    "# Q137. Write a pandas program to create the graphical analysis of UFO   (unidentified flying object)   Sightings year."
   ]
  },
  {
   "cell_type": "code",
   "execution_count": 13,
   "metadata": {},
   "outputs": [
    {
     "name": "stderr",
     "output_type": "stream",
     "text": [
      "C:\\Users\\manis\\Anaconda3\\lib\\site-packages\\IPython\\core\\interactiveshell.py:3057: DtypeWarning: Columns (5) have mixed types. Specify dtype option on import or set low_memory=False.\n",
      "  interactivity=interactivity, compiler=compiler, result=result)\n"
     ]
    },
    {
     "data": {
      "image/png": "[encoded data removed]",
      "text/plain": [
       "<Figure size 1080x576 with 1 Axes>"
      ]
     },
     "metadata": {
      "needs_background": "light"
     },
     "output_type": "display_data"
    }
   ],
   "source": [
    "import pandas as pd\n",
    "import matplotlib.pyplot as plt\n",
    "%matplotlib inline\n",
    "import seaborn as sns\n",
    "df = pd.read_csv('ufo_sighting_data.csv')\n",
    "df['datetime'] = df['datetime'].astype('datetime64[ns]')\n",
    "df[\"ufo_yr\"] = df.datetime.dt.year\n",
    "years_data = df.ufo_yr.value_counts()\n",
    "years_index = years_data.index\n",
    "years_values = years_data.get_values()\n",
    "plt.figure(figsize=(15,8))\n",
    "plt.xticks(rotation = 60)\n",
    "plt.title('UFO Sightings by Year')\n",
    "plt.xlabel(\"Year\")\n",
    "plt.ylabel(\"Number of reports\")\n",
    "years_plot = sns.barplot(x=years_index[:60],y=years_values[:60], palette = \"Reds\")"
   ]
  },
  {
   "cell_type": "markdown",
   "metadata": {},
   "source": [
    "# Q138. Write a pandas program to create a comparison of the top 10   years in which the (UFO) was sighted VS each Month."
   ]
  },
  {
   "cell_type": "code",
   "execution_count": 14,
   "metadata": {},
   "outputs": [
    {
     "name": "stdout",
     "output_type": "stream",
     "text": [
      "\n",
      "Comparison of the top 10 years in which the UFO was sighted vs each month:\n",
      "datetime   1    2    3    4    5    6    7    8    9    10   11   12\n",
      "datetime                                                            \n",
      "2003      323  262  189  222  248  302  442  538  504  467  467  379\n",
      "2004      298  299  406  387  381  420  432  541  406  448  327  303\n",
      "2005      254  276  354  311  299  396  446  345  522  471  458  268\n",
      "2007      438  260  358  316  307  415  458  467  446  438  368  354\n",
      "2008      462  363  336  430  336  467  566  496  381  522  451  343\n",
      "2009      489  383  339  316  355  381  597  496  598  320  319  285\n",
      "2010      289  186  257  289  324  377  833  522  447  468  359  303\n",
      "2011      322  271  330  314  316  393  754  629  552  634  440  523\n",
      "2012      573  388  523  492  504  745  920  880  746  663  765  658\n",
      "2013      385  275  390  420  521  620  954  890  771  774  790  744\n"
     ]
    }
   ],
   "source": [
    "import pandas as pd\n",
    "df = pd.read_csv('ufo_sighting_data.csv')\n",
    "df['datetime'] = df['datetime'].astype('datetime64[ns]')\n",
    "most_sightings_years = df['datetime'].dt.year.value_counts().head(10)\n",
    "def is_top_years(year):\n",
    "    if year in most_sightings_years.index:\n",
    "        return year\n",
    "month_vs_year =df.pivot_table(columns=df['datetime'].dt.month,index=df['datetime'].dt.year.apply(is_top_years),aggfunc='count',values='city')\n",
    "month_vs_year.index = month_vs_year.index.astype(int)\n",
    "month_vs_year.columns = month_vs_year.columns.astype(int)\n",
    "print(\"\\nComparison of the top 10 years in which the UFO was sighted vs each month:\")\n",
    "print(month_vs_year.head(10))"
   ]
  },
  {
   "cell_type": "markdown",
   "metadata": {},
   "source": [
    "# Q139. Write a pandas program to create a heatmap (rectangular data as  a colour-encoded matrix) for comparison of top 10 years in   which  (UFO ) was sighted VS each Month."
   ]
  },
  {
   "cell_type": "code",
   "execution_count": 15,
   "metadata": {},
   "outputs": [
    {
     "name": "stdout",
     "output_type": "stream",
     "text": [
      "\n",
      "Heatmap for comparison of the top 10 years in which the UFO was sighted vs each month:\n"
     ]
    },
    {
     "data": {
      "image/png": "[encoded data removed]",
      "text/plain": [
       "<Figure size 720x576 with 2 Axes>"
      ]
     },
     "metadata": {
      "needs_background": "light"
     },
     "output_type": "display_data"
    }
   ],
   "source": [
    "import pandas as pd\n",
    "import matplotlib.pyplot as plt\n",
    "%matplotlib inline\n",
    "import seaborn as sns\n",
    "df = pd.read_csv('ufo_sighting_data.csv')\n",
    "df['datetime'] = df['datetime'].astype('datetime64[ns]')\n",
    "df['datetime'] = df['datetime'].astype('datetime64[ns]')\n",
    "most_sightings_years = df['datetime'].dt.year.value_counts().head(10)\n",
    "def is_top_years(year):\n",
    "    if year in most_sightings_years.index:\n",
    "        return year\n",
    "month_vs_year =df.pivot_table(columns=df['datetime'].dt.month,index=df['datetime'].dt.year.apply(is_top_years),aggfunc='count',values='city')\n",
    "month_vs_year.columns = month_vs_year.columns.astype(int)\n",
    "plt.figure(figsize=(10,8))\n",
    "print(\"\\nHeatmap for comparison of the top 10 years in which the UFO was sighted vs each month:\")\n",
    "axis = sns.heatmap(month_vs_year, vmin=0, vmax=4)\n",
    "axis.set_xlabel('Month').set_size(20)\n",
    "axis.set_ylabel('Year').set_size(20)"
   ]
  },
  {
   "cell_type": "markdown",
   "metadata": {},
   "source": [
    "# Q141. Write a python program to draw the line using given axis values   with the suitable label in the x-axis, y-axis, and a title."
   ]
  },
  {
   "cell_type": "code",
   "execution_count": 2,
   "metadata": {},
   "outputs": [
    {
     "data": {
      "text/plain": [
       "Text(0.5, 1.0, 'Sample graph!')"
      ]
     },
     "execution_count": 2,
     "metadata": {},
     "output_type": "execute_result"
    },
    {
     "data": {
      "image/png": "[encoded data removed]",
      "text/plain": [
       "<Figure size 432x288 with 1 Axes>"
      ]
     },
     "metadata": {
      "needs_background": "light"
     },
     "output_type": "display_data"
    }
   ],
   "source": [
    "import matplotlib.pyplot as plt\n",
    "%matplotlib inline\n",
    "x = [2,4,6]\n",
    "y = [4,8,2]\n",
    "plt.plot(x, y)\n",
    "plt.xlabel('x - axis')\n",
    "plt.ylabel('y - axis')\n",
    "plt.title('Sample graph!')"
   ]
  },
  {
   "cell_type": "markdown",
   "metadata": {},
   "source": [
    "# Q142. Write a python program to draw the line charts of the financial   data of the Alphabet Inc., between October."
   ]
  },
  {
   "cell_type": "code",
   "execution_count": 3,
   "metadata": {},
   "outputs": [
    {
     "data": {
      "image/png": "[encoded data removed]",
      "text/plain": [
       "<Figure size 432x288 with 1 Axes>"
      ]
     },
     "metadata": {
      "needs_background": "light"
     },
     "output_type": "display_data"
    }
   ],
   "source": [
    "import matplotlib.pyplot as plt\n",
    "import pandas as pd\n",
    "df = pd.read_csv('financial_data.csv', sep=',', parse_dates=True, index_col=0)\n",
    "df.plot()\n",
    "plt.show()"
   ]
  },
  {
   "cell_type": "markdown",
   "metadata": {},
   "source": [
    "# Q143. Write a Python program to plot two or more lines on same plot   with the suitable legends of each line."
   ]
  },
  {
   "cell_type": "code",
   "execution_count": 5,
   "metadata": {},
   "outputs": [
    {
     "data": {
      "text/plain": [
       "<matplotlib.legend.Legend at 0x211b39655c0>"
      ]
     },
     "execution_count": 5,
     "metadata": {},
     "output_type": "execute_result"
    },
    {
     "data": {
      "image/png": "[encoded data removed]",
      "text/plain": [
       "<Figure size 432x288 with 1 Axes>"
      ]
     },
     "metadata": {
      "needs_background": "light"
     },
     "output_type": "display_data"
    }
   ],
   "source": [
    "import matplotlib.pyplot as plt\n",
    "%matplotlib inline\n",
    "x1 = [20,40,60]\n",
    "y1 = [40,80,20]\n",
    "plt.plot(x1, y1, label = \"line 1\")\n",
    "x2 = [20,40,60]\n",
    "y2 = [80,20,60]\n",
    "plt.plot(x2, y2, label = \"line 2\")\n",
    "plt.xlabel('x - axis')\n",
    "plt.ylabel('y - axis')\n",
    "plt.title('Two or more lines on same plot with suitable legends ')\n",
    "plt.legend()"
   ]
  },
  {
   "cell_type": "markdown",
   "metadata": {},
   "source": [
    "# Q144. Write a python programming to display a bar chart of the   popularity of programming languages."
   ]
  },
  {
   "cell_type": "code",
   "execution_count": 12,
   "metadata": {},
   "outputs": [
    {
     "data": {
      "image/png": "[encoded data removed]",
      "text/plain": [
       "<Figure size 432x288 with 1 Axes>"
      ]
     },
     "metadata": {
      "needs_background": "light"
     },
     "output_type": "display_data"
    }
   ],
   "source": [
    "import matplotlib.pyplot as plt\n",
    "Languages = ['Java', 'Python', 'PHP', 'JavaScript', 'C#', 'C++']\n",
    "popularity = [22.2, 17.6, 8.8, 8, 7.7, 6.7]\n",
    "x_pos = [i for i, _ in enumerate(Languages)]\n",
    "plt.bar(x_pos, popularity, color=(0.4, 0.6, 0.8, 1.0))\n",
    "plt.xlabel(\"Languages\")\n",
    "plt.ylabel(\"Popularity\")\n",
    "plt.title(\"PopularitY of Programming Language\\n\" + \"Worldwide, Oct 2017 compared to a year ago\")\n",
    "plt.xticks(x_pos, Languages, rotation=90)\n",
    "plt.subplots_adjust(bottom=0.4, top=.8)\n",
    "plt.minorticks_on()\n",
    "plt.grid(which='major', linestyle='-', linewidth='0.5', color='red')\n",
    "plt.grid(which='minor', linestyle=':', linewidth='0.5', color='black')\n",
    "plt.show()"
   ]
  },
  {
   "cell_type": "markdown",
   "metadata": {},
   "source": [
    "# Q145. Write a python programming to display a horizontal bar chart of   the popularity of programming languages."
   ]
  },
  {
   "cell_type": "code",
   "execution_count": 10,
   "metadata": {},
   "outputs": [
    {
     "data": {
      "image/png": "[encoded data removed]",
      "text/plain": [
       "<Figure size 432x288 with 1 Axes>"
      ]
     },
     "metadata": {
      "needs_background": "light"
     },
     "output_type": "display_data"
    }
   ],
   "source": [
    "import matplotlib.pyplot as plt\n",
    "%matplotlib inline\n",
    "Languages = ['Java', 'Python', 'PHP', 'JS', 'C#', 'C++']\n",
    "popularity = [22.2, 17.6, 8.8, 8, 7.7, 6.7]\n",
    "x_pos = [i for i, _ in enumerate(Languages)]\n",
    "plt.barh(x_pos, popularity, color='green')\n",
    "plt.xlabel(\"Popularity\")\n",
    "plt.ylabel(\"Languages\")\n",
    "plt.title(\"PopularitY of Programming Language\\n\" + \"Worldwide, Oct 2017 compared to a year ago\")\n",
    "plt.yticks(x_pos, Languages)\n",
    "plt.minorticks_on()\n",
    "plt.grid(which='major', linestyle='-', linewidth='0.5', color='red')\n",
    "plt.grid(which='minor', linestyle=':', linewidth='0.5', color='black')"
   ]
  },
  {
   "cell_type": "markdown",
   "metadata": {},
   "source": [
    "# Q146.Write a python programming to display a bar chart of the   Popularity of programming languages. Increase bottom margin."
   ]
  },
  {
   "cell_type": "code",
   "execution_count": 8,
   "metadata": {},
   "outputs": [
    {
     "data": {
      "image/png": "[encoded data removed]",
      "text/plain": [
       "<Figure size 432x288 with 1 Axes>"
      ]
     },
     "metadata": {
      "needs_background": "light"
     },
     "output_type": "display_data"
    }
   ],
   "source": [
    "import matplotlib.pyplot as plt\n",
    "Languages = ['Java', 'Python', 'PHP', 'JavaScript', 'C#', 'C++']\n",
    "popularity = [22.2, 17.6, 8.8, 8, 7.7, 6.7]\n",
    "x_pos = [i for i, _ in enumerate(Languages)]\n",
    "plt.bar(x_pos, popularity, color='blue')\n",
    "plt.xlabel(\"Languages\")\n",
    "plt.ylabel(\"Popularity\")\n",
    "plt.title(\"PopularitY of Programming Language\\n\" + \"Worldwide, Oct 2017 compared to a year ago\")\n",
    "plt.xticks(x_pos, Languages, rotation=90)\n",
    "plt.subplots_adjust(bottom=0.4, top=0.8)\n",
    "plt.minorticks_on()\n",
    "plt.grid(which='major', linestyle='-', linewidth='0.5', color='red')\n",
    "plt.grid(which='minor', linestyle=':', linewidth='0.5', color='black')\n",
    "plt.show()"
   ]
  },
  {
   "cell_type": "markdown",
   "metadata": {},
   "source": [
    "# Q147. Write a python program to create the bar plot from a DataFrame."
   ]
  },
  {
   "cell_type": "code",
   "execution_count": 5,
   "metadata": {},
   "outputs": [
    {
     "data": {
      "image/png": "[encoded data removed]",
      "text/plain": [
       "<Figure size 432x288 with 1 Axes>"
      ]
     },
     "metadata": {
      "needs_background": "light"
     },
     "output_type": "display_data"
    }
   ],
   "source": [
    "import pandas as pd\n",
    "import matplotlib.pyplot as plt\n",
    "%matplotlib inline\n",
    "import numpy as np\n",
    "\n",
    "array=np.array([[4,8,5,7,6],[2,3,4,2,6],[4,7,4,7,8],[2,6,4,8,6],[2,4,3,3,2]])\n",
    "dataframe=pd.DataFrame(array, columns=['a','b','c','d','e'], index=[2,4,6,8,10])\n",
    "dataframe.plot(kind='bar')\n",
    "plt.minorticks_on()\n",
    "plt.grid(which='major', linestyle='-', linewidth='0.5', color='green')\n",
    "plt.grid(which='minor', linestyle=':', linewidth='0.5', color='black')"
   ]
  },
  {
   "cell_type": "markdown",
   "metadata": {},
   "source": [
    "# Q148. Write a python program to draw the scatter plot comparing two subject marks of Mathematics and Science. Use marks of 10 students."
   ]
  },
  {
   "cell_type": "code",
   "execution_count": 3,
   "metadata": {},
   "outputs": [
    {
     "data": {
      "text/plain": [
       "<matplotlib.legend.Legend at 0x21130f81588>"
      ]
     },
     "execution_count": 3,
     "metadata": {},
     "output_type": "execute_result"
    },
    {
     "data": {
      "image/png": "[encoded data removed]",
      "text/plain": [
       "<Figure size 432x288 with 1 Axes>"
      ]
     },
     "metadata": {
      "needs_background": "light"
     },
     "output_type": "display_data"
    }
   ],
   "source": [
    "import pandas as pd\n",
    "import matplotlib.pyplot as plt\n",
    "%matplotlib inline\n",
    "math_marks = [88, 92, 80, 89, 100, 80, 60, 100, 80, 34]\n",
    "science_marks = [35, 79, 79, 48, 100, 88, 32, 45, 20, 30]\n",
    "marks_range = [10, 20, 30, 40, 50, 60, 70, 80, 90, 100]\n",
    "plt.scatter(marks_range, math_marks, label='Math marks', color='r')\n",
    "plt.scatter(marks_range, science_marks, label='Science marks', color='g')\n",
    "plt.title('Scatter Plot')\n",
    "plt.xlabel('Marks Range')\n",
    "plt.ylabel('Marks Scored')\n",
    "plt.legend()"
   ]
  },
  {
   "cell_type": "markdown",
   "metadata": {},
   "source": [
    "# Q149. Write a python program to draw the scatter plot for three different  groups comparing weights and heights."
   ]
  },
  {
   "cell_type": "code",
   "execution_count": 2,
   "metadata": {},
   "outputs": [
    {
     "data": {
      "text/plain": [
       "Text(0.5, 1.0, 'Group wise Weight vs Height scatter plot')"
      ]
     },
     "execution_count": 2,
     "metadata": {},
     "output_type": "execute_result"
    },
    {
     "data": {
      "image/png": "[encoded data removed]",
      "text/plain": [
       "<Figure size 432x288 with 1 Axes>"
      ]
     },
     "metadata": {
      "needs_background": "light"
     },
     "output_type": "display_data"
    }
   ],
   "source": [
    "import numpy as np \n",
    "import matplotlib.pyplot as plt\n",
    "%matplotlib inline\n",
    "weight1=[67,57.2,59.6,59.64,55.8,61.2,60.45,61,56.23,56]\n",
    "height1=[101.7,197.6,98.3,125.1,113.7,157.7,136,148.9,125.3,114.9] \n",
    "weight2=[61.9,64,62.1,64.2,62.3,65.4,62.4,61.4,62.5,63.6]\n",
    "height2=[152.8,155.3,135.1,125.2,151.3,135,182.2,195.9,165.1,125.1] \n",
    "weight3=[68.2,67.2,68.4,68.7,71,71.3,70.8,70,71.1,71.7]\n",
    "height3=[165.8,170.9,192.8,135.4,161.4,136.1,167.1,235.1,181.1,177.3]\n",
    "weight=np.concatenate((weight1,weight2,weight3))\n",
    "height=np.concatenate((height1,height2,height3))\n",
    "plt.scatter(weight, height, marker='*', color=['red'])\n",
    "plt.xlabel('weight', fontsize=16)\n",
    "plt.ylabel('height', fontsize=16)\n",
    "plt.title('Group wise Weight vs Height scatter plot',fontsize=20)"
   ]
  },
  {
   "cell_type": "code",
   "execution_count": null,
   "metadata": {},
   "outputs": [],
   "source": []
  }
 ],
 "metadata": {
  "kernelspec": {
   "display_name": "Python 3",
   "language": "python",
   "name": "python3"
  },
  "language_info": {
   "codemirror_mode": {
    "name": "ipython",
    "version": 3
   },
   "file_extension": ".py",
   "mimetype": "text/x-python",
   "name": "python",
   "nbconvert_exporter": "python",
   "pygments_lexer": "ipython3",
   "version": "3.7.3"
  }
 },
 "nbformat": 4,
 "nbformat_minor": 2
}
