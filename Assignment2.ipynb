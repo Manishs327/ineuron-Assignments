{
 "cells": [
  {
   "cell_type": "markdown",
   "metadata": {},
   "source": [
    "# 1.1 Write a Python Program to implement your own myreduce() function which works exactly like Python's built-in function reduce()"
   ]
  },
  {
   "cell_type": "code",
   "execution_count": 21,
   "metadata": {},
   "outputs": [
    {
     "name": "stdout",
     "output_type": "stream",
     "text": [
      "The sum of the list is:  16\n",
      "The sum of the tuple is:  32\n"
     ]
    }
   ],
   "source": [
    "class Reduce:\n",
    "    @staticmethod\n",
    "    def myreduce(myfunction,myiterable):\n",
    "        result=myiterable[0]\n",
    "        for i in myiterable[0:]:\n",
    "            result=myfunction(result,i)\n",
    "        return result\n",
    "\n",
    "\n",
    "    @staticmethod\n",
    "    def add(a,b):\n",
    "        sum=a+b\n",
    "        return sum\n",
    "#Test myreduce function for adding items   \n",
    "lst=[1,2,3,4,5]\n",
    "tup=(2,4,6,8,10)\n",
    "    \n",
    "f=Reduce()\n",
    "print('The sum of the list is: ',f.myreduce(f.add,lst))\n",
    "print('The sum of the tuple is: ',f.myreduce(f.add,tup))\n"
   ]
  },
  {
   "cell_type": "markdown",
   "metadata": {},
   "source": [
    "# 1.2 Write a Python program to implement your own myfilter() function which works exactly like Python's built-in function filter()"
   ]
  },
  {
   "cell_type": "code",
   "execution_count": 2,
   "metadata": {},
   "outputs": [
    {
     "data": {
      "text/plain": [
       "[88, 64, 1000000024, 99999966]"
      ]
     },
     "execution_count": 2,
     "metadata": {},
     "output_type": "execute_result"
    }
   ],
   "source": [
    "class Function:\n",
    "    @staticmethod\n",
    "    def myfilter(myfunction,myiterable):\n",
    "        result=[]\n",
    "        for i in myiterable:\n",
    "            if(myfunction(i)):\n",
    "                result.append(i)\n",
    "        return result\n",
    "        \n",
    "    @staticmethod\n",
    "    def is_even(num):\n",
    "        if num%2==0:\n",
    "            return True\n",
    "#Test myfilter function for filtering even numbers            \n",
    "lst=[25,55,88,64,33,1000000024,99999966,9087777777]\n",
    "f=Function()\n",
    "f.myfilter(f.is_even,lst)\n"
   ]
  },
  {
   "cell_type": "markdown",
   "metadata": {},
   "source": [
    "# 2.Implement List comprehensions to produce the following lists. Write List comprehensions to produce the following Lists\n"
   ]
  },
  {
   "cell_type": "markdown",
   "metadata": {},
   "source": [
    "#i.['A', 'C', 'A', 'D', 'G', 'I', ’L’, ‘ D’] using list comprehension"
   ]
  },
  {
   "cell_type": "code",
   "execution_count": 3,
   "metadata": {},
   "outputs": [
    {
     "data": {
      "text/plain": [
       "['A', 'C', 'A', 'D', 'G', 'I', 'L', 'D']"
      ]
     },
     "execution_count": 3,
     "metadata": {},
     "output_type": "execute_result"
    }
   ],
   "source": [
    "[i for i in 'ACADGILD']"
   ]
  },
  {
   "cell_type": "markdown",
   "metadata": {},
   "source": [
    "#ii.['x', 'xx', 'xxx', 'xxxx', 'y', 'yy', 'yyy', 'yyyy', 'z', 'zz', 'zzz', 'zzzz']"
   ]
  },
  {
   "cell_type": "code",
   "execution_count": 4,
   "metadata": {},
   "outputs": [
    {
     "data": {
      "text/plain": [
       "['x', 'xx', 'xxx', 'xxxx', 'y', 'yy', 'yyy', 'yyyy', 'z', 'zz', 'zzz', 'zzzz']"
      ]
     },
     "execution_count": 4,
     "metadata": {},
     "output_type": "execute_result"
    }
   ],
   "source": [
    "[i*j for i in ('xyz') for j in range(1,5)]"
   ]
  },
  {
   "cell_type": "markdown",
   "metadata": {},
   "source": [
    "#iii.['x', 'y', 'z', 'xx', 'yy', 'zz', 'xx', 'yy', 'zz', 'xxxx', 'yyyy', 'zzzz']"
   ]
  },
  {
   "cell_type": "code",
   "execution_count": 7,
   "metadata": {},
   "outputs": [
    {
     "data": {
      "text/plain": [
       "['x', 'y', 'z', 'xx', 'yy', 'zz', 'xx', 'yy', 'zz', 'xxxx', 'yyyy', 'zzzz']"
      ]
     },
     "execution_count": 7,
     "metadata": {},
     "output_type": "execute_result"
    }
   ],
   "source": [
    "[k*i*j for i in range(1,3) for j in range(1,3) for k in ('xyz')]"
   ]
  },
  {
   "cell_type": "markdown",
   "metadata": {},
   "source": [
    "#iv.[[2], [3], [4], [3], [4], [5], [4], [5], [6]]"
   ]
  },
  {
   "cell_type": "code",
   "execution_count": 8,
   "metadata": {},
   "outputs": [
    {
     "data": {
      "text/plain": [
       "[[2], [3], [4], [3], [4], [5], [4], [5], [6]]"
      ]
     },
     "execution_count": 8,
     "metadata": {},
     "output_type": "execute_result"
    }
   ],
   "source": [
    "[[i+j] for i in range(1,4) for j in range(1,4)]"
   ]
  },
  {
   "cell_type": "markdown",
   "metadata": {},
   "source": [
    "#v.[[2, 3, 4, 5], [3, 4, 5, 6], [4, 5, 6, 7], [5, 6, 7, 8]]"
   ]
  },
  {
   "cell_type": "code",
   "execution_count": 9,
   "metadata": {},
   "outputs": [
    {
     "data": {
      "text/plain": [
       "[[2, 3, 4, 5], [3, 4, 5, 6], [4, 5, 6, 7], [5, 6, 7, 8]]"
      ]
     },
     "execution_count": 9,
     "metadata": {},
     "output_type": "execute_result"
    }
   ],
   "source": [
    "[[i+j for i in range(1,5)] for j in range(1,5)]"
   ]
  },
  {
   "cell_type": "markdown",
   "metadata": {},
   "source": [
    "#vi.[(1, 1), (2, 1), (3, 1), (1, 2), (2, 2), (3, 2), (1, 3), (2, 3), (3, 3)]"
   ]
  },
  {
   "cell_type": "code",
   "execution_count": 10,
   "metadata": {},
   "outputs": [
    {
     "data": {
      "text/plain": [
       "[(1, 1), (2, 1), (3, 1), (1, 2), (2, 2), (3, 2), (1, 3), (2, 3), (3, 3)]"
      ]
     },
     "execution_count": 10,
     "metadata": {},
     "output_type": "execute_result"
    }
   ],
   "source": [
    "[(i,j) for j in range(1,4) for i in range(1,4)]"
   ]
  },
  {
   "cell_type": "markdown",
   "metadata": {},
   "source": [
    "# 3.Implement a function longestWord() that takes a list of words and returns the longest one."
   ]
  },
  {
   "cell_type": "code",
   "execution_count": 12,
   "metadata": {},
   "outputs": [
    {
     "data": {
      "text/plain": [
       "'I am longer than the longer than the longest'"
      ]
     },
     "execution_count": 12,
     "metadata": {},
     "output_type": "execute_result"
    }
   ],
   "source": [
    "def longestword(lst):\n",
    "    result=lst[0]\n",
    "    for i in lst[1:]:\n",
    "        if(len(i)>len(result)):\n",
    "            result=i\n",
    "    return result\n",
    "\n",
    "longestword(['I am long','I am longer than the longer than the longest','I am longer than longest','I am the best','I am best than rest'])"
   ]
  },
  {
   "cell_type": "markdown",
   "metadata": {},
   "source": [
    "# Task 2: "
   ]
  },
  {
   "cell_type": "markdown",
   "metadata": {},
   "source": [
    "# 1.1 Write a Python Program(with class concepts) to find the area of the triangle using the below formula.\n",
    "area = (s*(s-a)*(s-b)*(s-c)) ** 0.5\n",
    "Function to take the length of the sides of triangle from user should be defined in the parent class and function to calculate the area should be defined in subclass."
   ]
  },
  {
   "cell_type": "code",
   "execution_count": 15,
   "metadata": {},
   "outputs": [
    {
     "name": "stdout",
     "output_type": "stream",
     "text": [
      "Please enter the first side12.5\n",
      "Please enter the first side12.8\n",
      "Please enter the first side12.3\n",
      "The area of the triangle is:  67.964\n"
     ]
    }
   ],
   "source": [
    "class Parent():\n",
    "    def __init__(self,side1,side2,side3):\n",
    "        self.side1=side1\n",
    "        self.side2=side2\n",
    "        self.side3=side3\n",
    "    \n",
    "class Child(Parent):\n",
    "    def __init__(self,side1,side2,side3):\n",
    "        super().__init__(side1,side2,side3)\n",
    "        \n",
    "    def calculatearea(self):\n",
    "        a,b,c=self.side1,self.side2,self.side3\n",
    "        ###'''First we need to verify if the sides entered should not be zero and the sum of any two sides are greater\n",
    "        ###than the third side'''\n",
    "        \n",
    "        \n",
    "        if(a>0 and b>0 and c>0 and b+c>a and c+a>b and a+b>c):\n",
    "            s=0.5*(a+b+c)\n",
    "            Area=(s*(s-a)*(s-b)*(s-c))**0.5\n",
    "            Area=format(Area,\".3f\")\n",
    "            return Area\n",
    "        else:\n",
    "            return \"Please enter valid sides for the triangle(**Hint:Sum of any two sides must be greater than third side and none of the side should be zero)\"\n",
    "side1=float(input('Please enter the first side'))\n",
    "side2=float(input('Please enter the first side'))\n",
    "side3=float(input('Please enter the first side'))\n",
    "c=Child(side1,side2,side3)\n",
    "print('The area of the triangle is: ',c.calculatearea())"
   ]
  },
  {
   "cell_type": "markdown",
   "metadata": {},
   "source": [
    "# 1.2. Write a function filter_long_words() that takes a list of words and an integer n and returns the list of words that are longer than n."
   ]
  },
  {
   "cell_type": "code",
   "execution_count": 16,
   "metadata": {},
   "outputs": [
    {
     "data": {
      "text/plain": [
       "['First', 'Second', 'Third', 'Five', 'Check']"
      ]
     },
     "execution_count": 16,
     "metadata": {},
     "output_type": "execute_result"
    }
   ],
   "source": [
    "def filter_long_words(n,b):\n",
    "    lst=[]\n",
    "    for i in b:\n",
    "        if(len(i)>n):\n",
    "            lst.append(i)\n",
    "    return lst\n",
    "\n",
    "testlist= ['First','Second','Third','Five','Check','A','An','The']\n",
    "filter_long_words(3,testlist)"
   ]
  },
  {
   "cell_type": "markdown",
   "metadata": {},
   "source": [
    "# 2.1 Write a Python program using function concept that maps list of words into a list of integers representing the lengths of the corresponding words ."
   ]
  },
  {
   "cell_type": "code",
   "execution_count": 17,
   "metadata": {},
   "outputs": [
    {
     "data": {
      "text/plain": [
       "[5, 6, 5, 4, 5, 1, 2, 3]"
      ]
     },
     "execution_count": 17,
     "metadata": {},
     "output_type": "execute_result"
    }
   ],
   "source": [
    "def mapping_word_length(l):\n",
    "    lst=[]\n",
    "    for i in l:\n",
    "        lst.append(len(i))\n",
    "    return lst\n",
    "\n",
    "testlist= ['First','Second','Third','Five','Check','A','An','The']\n",
    "mapping_word_length(testlist)"
   ]
  },
  {
   "cell_type": "markdown",
   "metadata": {},
   "source": [
    "# 2.2. Write a Python function which takes a character (i.e. a string of length 1) and returns True if it is a vowel, False otherwise."
   ]
  },
  {
   "cell_type": "code",
   "execution_count": 20,
   "metadata": {},
   "outputs": [
    {
     "name": "stdout",
     "output_type": "stream",
     "text": [
      "Please enter a letter142772\n",
      "Please enter a character of lenght 1\n"
     ]
    }
   ],
   "source": [
    "letter=input('Please enter a letter')\n",
    "def check_vowel(i):\n",
    "    vowel=['a','e','i','o','u']\n",
    "    if (len(i)==1):\n",
    "        if(i in vowel):\n",
    "            print('The letter is vowel: ',True)\n",
    "            return True\n",
    "        else:\n",
    "            print('The letter is vowel: ',False)\n",
    "            return False\n",
    "    else:\n",
    "        print('Please enter a character of lenght 1')\n",
    "\n",
    "check_vowel(letter)"
   ]
  },
  {
   "cell_type": "code",
   "execution_count": null,
   "metadata": {},
   "outputs": [],
   "source": []
  }
 ],
 "metadata": {
  "celltoolbar": "Raw Cell Format",
  "kernelspec": {
   "display_name": "Python 3",
   "language": "python",
   "name": "python3"
  },
  "language_info": {
   "codemirror_mode": {
    "name": "ipython",
    "version": 3
   },
   "file_extension": ".py",
   "mimetype": "text/x-python",
   "name": "python",
   "nbconvert_exporter": "python",
   "pygments_lexer": "ipython3",
   "version": "3.7.3"
  }
 },
 "nbformat": 4,
 "nbformat_minor": 2
}
